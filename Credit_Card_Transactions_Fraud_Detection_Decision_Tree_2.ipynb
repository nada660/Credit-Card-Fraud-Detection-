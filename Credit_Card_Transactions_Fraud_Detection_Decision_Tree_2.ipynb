{
  "cells": [
    {
      "cell_type": "code",
      "execution_count": null,
      "metadata": {
        "colab": {
          "base_uri": "https://localhost:8080/"
        },
        "id": "E9IYJTOWEjEs",
        "outputId": "31af1358-7e93-4379-9fa8-626c26f5ee9f"
      },
      "outputs": [
        {
          "name": "stdout",
          "output_type": "stream",
          "text": [
            "Mounted at /content/drive/\n"
          ]
        }
      ],
      "source": [
        "from google.colab import drive\n",
        "drive.mount('/content/drive/')"
      ]
    },
    {
      "cell_type": "code",
      "execution_count": null,
      "metadata": {
        "id": "U8FdU0_jI2pa"
      },
      "outputs": [],
      "source": [
        "import numpy as np\n",
        "import matplotlib.pyplot as plt\n",
        "import pandas as pd\n",
        "\n",
        "from sklearn.tree import DecisionTreeClassifier\n",
        "from sklearn.ensemble import RandomForestClassifier\n",
        "from xgboost import XGBClassifier\n",
        "from sklearn.svm import SVC\n",
        "from sklearn.naive_bayes import GaussianNB\n",
        "from sklearn.preprocessing import StandardScaler, MinMaxScaler\n",
        "from sklearn.model_selection  import train_test_split, cross_val_score, KFold\n",
        "from sklearn.metrics import confusion_matrix, precision_score, recall_score, f1_score, plot_confusion_matrix, accuracy_score\n",
        "from sklearn.preprocessing import LabelEncoder\n",
        "\n",
        "from sklearn.metrics import confusion_matrix, classification_report\n",
        "from sklearn.model_selection import StratifiedKFold\n",
        "#algorithms for sampling\n",
        "from imblearn.under_sampling import RandomUnderSampler\n",
        "from imblearn.over_sampling import RandomOverSampler\n",
        "from imblearn.over_sampling import SMOTE\n",
        "\n",
        "from sklearn.experimental import enable_halving_search_cv\n",
        "from sklearn.model_selection import HalvingRandomSearchCV\n",
        "\n",
        "from sklearn import metrics\n",
        "from sklearn.metrics import cohen_kappa_score\n",
        "\n",
        "import datetime as dt\n",
        "import seaborn as sns\n",
        "import joblib\n",
        "import re\n"
      ]
    },
    {
      "cell_type": "code",
      "execution_count": null,
      "metadata": {
        "id": "xAOMzF-Wl2zY"
      },
      "outputs": [],
      "source": [
        "data_dir = '/content/drive/MyDrive/Colab Notebooks/cred/'"
      ]
    },
    {
      "cell_type": "code",
      "execution_count": null,
      "metadata": {
        "id": "freanRGDJyjU"
      },
      "outputs": [],
      "source": [
        "df_train = pd.read_csv('/content/drive/MyDrive/fraudTrain.csv')\n",
        "df_test = pd.read_csv('/content/drive/MyDrive/fraudTrain.csv')"
      ]
    },
    {
      "cell_type": "code",
      "execution_count": null,
      "metadata": {
        "colab": {
          "base_uri": "https://localhost:8080/"
        },
        "id": "W_Y2hV0lS5_f",
        "outputId": "9e3880a5-f420-4c77-a1ec-0aec85b6247c"
      },
      "outputs": [
        {
          "name": "stdout",
          "output_type": "stream",
          "text": [
            "Drive already mounted at /content/drive; to attempt to forcibly remount, call drive.mount(\"/content/drive\", force_remount=True).\n"
          ]
        }
      ],
      "source": [
        "from google.colab import drive\n",
        "drive.mount('/content/drive')"
      ]
    },
    {
      "cell_type": "code",
      "execution_count": null,
      "metadata": {
        "colab": {
          "base_uri": "https://localhost:8080/"
        },
        "id": "qVIHyoIRpmO7",
        "outputId": "5b412dd5-2a6b-4385-f6ca-d59d1bd1d1f9"
      },
      "outputs": [
        {
          "data": {
            "text/plain": [
              "0    1289169\n",
              "1       7506\n",
              "Name: is_fraud, dtype: int64"
            ]
          },
          "execution_count": 6,
          "metadata": {},
          "output_type": "execute_result"
        }
      ],
      "source": [
        "df_test['is_fraud'].value_counts()"
      ]
    },
    {
      "cell_type": "code",
      "execution_count": null,
      "metadata": {
        "colab": {
          "base_uri": "https://localhost:8080/",
          "height": 1000
        },
        "id": "ghGzQQ8TStYx",
        "outputId": "8ccf8202-d532-47df-ad32-d71aeedf85a3"
      },
      "outputs": [
        {
          "data": {
            "text/html": [
              "\n",
              "  <div id=\"df-5cb14760-594c-4bd8-8f2a-d89324117935\">\n",
              "    <div class=\"colab-df-container\">\n",
              "      <div>\n",
              "<style scoped>\n",
              "    .dataframe tbody tr th:only-of-type {\n",
              "        vertical-align: middle;\n",
              "    }\n",
              "\n",
              "    .dataframe tbody tr th {\n",
              "        vertical-align: top;\n",
              "    }\n",
              "\n",
              "    .dataframe thead th {\n",
              "        text-align: right;\n",
              "    }\n",
              "</style>\n",
              "<table border=\"1\" class=\"dataframe\">\n",
              "  <thead>\n",
              "    <tr style=\"text-align: right;\">\n",
              "      <th></th>\n",
              "      <th>Unnamed: 0</th>\n",
              "      <th>trans_date_trans_time</th>\n",
              "      <th>cc_num</th>\n",
              "      <th>merchant</th>\n",
              "      <th>category</th>\n",
              "      <th>amt</th>\n",
              "      <th>first</th>\n",
              "      <th>last</th>\n",
              "      <th>gender</th>\n",
              "      <th>street</th>\n",
              "      <th>...</th>\n",
              "      <th>lat</th>\n",
              "      <th>long</th>\n",
              "      <th>city_pop</th>\n",
              "      <th>job</th>\n",
              "      <th>dob</th>\n",
              "      <th>trans_num</th>\n",
              "      <th>unix_time</th>\n",
              "      <th>merch_lat</th>\n",
              "      <th>merch_long</th>\n",
              "      <th>is_fraud</th>\n",
              "    </tr>\n",
              "  </thead>\n",
              "  <tbody>\n",
              "    <tr>\n",
              "      <th>2449</th>\n",
              "      <td>2449</td>\n",
              "      <td>2019-01-02 01:06:37</td>\n",
              "      <td>4613314721966</td>\n",
              "      <td>fraud_Rutherford-Mertz</td>\n",
              "      <td>grocery_pos</td>\n",
              "      <td>281.06</td>\n",
              "      <td>Jason</td>\n",
              "      <td>Murphy</td>\n",
              "      <td>M</td>\n",
              "      <td>542 Steve Curve Suite 011</td>\n",
              "      <td>...</td>\n",
              "      <td>35.9946</td>\n",
              "      <td>-81.7266</td>\n",
              "      <td>885</td>\n",
              "      <td>Soil scientist</td>\n",
              "      <td>1988-09-15</td>\n",
              "      <td>e8a81877ae9a0a7f883e15cb39dc4022</td>\n",
              "      <td>1325466397</td>\n",
              "      <td>36.430124</td>\n",
              "      <td>-81.179483</td>\n",
              "      <td>1</td>\n",
              "    </tr>\n",
              "    <tr>\n",
              "      <th>2472</th>\n",
              "      <td>2472</td>\n",
              "      <td>2019-01-02 01:47:29</td>\n",
              "      <td>340187018810220</td>\n",
              "      <td>fraud_Jenkins, Hauck and Friesen</td>\n",
              "      <td>gas_transport</td>\n",
              "      <td>11.52</td>\n",
              "      <td>Misty</td>\n",
              "      <td>Hart</td>\n",
              "      <td>F</td>\n",
              "      <td>27954 Hall Mill Suite 575</td>\n",
              "      <td>...</td>\n",
              "      <td>29.4400</td>\n",
              "      <td>-98.4590</td>\n",
              "      <td>1595797</td>\n",
              "      <td>Horticultural consultant</td>\n",
              "      <td>1960-10-28</td>\n",
              "      <td>bc7d41c41103877b03232f03f1f8d3f5</td>\n",
              "      <td>1325468849</td>\n",
              "      <td>29.819364</td>\n",
              "      <td>-99.142791</td>\n",
              "      <td>1</td>\n",
              "    </tr>\n",
              "    <tr>\n",
              "      <th>2523</th>\n",
              "      <td>2523</td>\n",
              "      <td>2019-01-02 03:05:23</td>\n",
              "      <td>340187018810220</td>\n",
              "      <td>fraud_Goodwin-Nitzsche</td>\n",
              "      <td>grocery_pos</td>\n",
              "      <td>276.31</td>\n",
              "      <td>Misty</td>\n",
              "      <td>Hart</td>\n",
              "      <td>F</td>\n",
              "      <td>27954 Hall Mill Suite 575</td>\n",
              "      <td>...</td>\n",
              "      <td>29.4400</td>\n",
              "      <td>-98.4590</td>\n",
              "      <td>1595797</td>\n",
              "      <td>Horticultural consultant</td>\n",
              "      <td>1960-10-28</td>\n",
              "      <td>b98f12f4168391b2203238813df5aa8c</td>\n",
              "      <td>1325473523</td>\n",
              "      <td>29.273085</td>\n",
              "      <td>-98.836360</td>\n",
              "      <td>1</td>\n",
              "    </tr>\n",
              "    <tr>\n",
              "      <th>2546</th>\n",
              "      <td>2546</td>\n",
              "      <td>2019-01-02 03:38:03</td>\n",
              "      <td>4613314721966</td>\n",
              "      <td>fraud_Erdman-Kertzmann</td>\n",
              "      <td>gas_transport</td>\n",
              "      <td>7.03</td>\n",
              "      <td>Jason</td>\n",
              "      <td>Murphy</td>\n",
              "      <td>M</td>\n",
              "      <td>542 Steve Curve Suite 011</td>\n",
              "      <td>...</td>\n",
              "      <td>35.9946</td>\n",
              "      <td>-81.7266</td>\n",
              "      <td>885</td>\n",
              "      <td>Soil scientist</td>\n",
              "      <td>1988-09-15</td>\n",
              "      <td>397894a5c4c02e3c61c784001f0f14e4</td>\n",
              "      <td>1325475483</td>\n",
              "      <td>35.909292</td>\n",
              "      <td>-82.091010</td>\n",
              "      <td>1</td>\n",
              "    </tr>\n",
              "    <tr>\n",
              "      <th>2553</th>\n",
              "      <td>2553</td>\n",
              "      <td>2019-01-02 03:55:47</td>\n",
              "      <td>340187018810220</td>\n",
              "      <td>fraud_Koepp-Parker</td>\n",
              "      <td>grocery_pos</td>\n",
              "      <td>275.73</td>\n",
              "      <td>Misty</td>\n",
              "      <td>Hart</td>\n",
              "      <td>F</td>\n",
              "      <td>27954 Hall Mill Suite 575</td>\n",
              "      <td>...</td>\n",
              "      <td>29.4400</td>\n",
              "      <td>-98.4590</td>\n",
              "      <td>1595797</td>\n",
              "      <td>Horticultural consultant</td>\n",
              "      <td>1960-10-28</td>\n",
              "      <td>7863235a750d73a244c07f1fb7f0185a</td>\n",
              "      <td>1325476547</td>\n",
              "      <td>29.786426</td>\n",
              "      <td>-98.683410</td>\n",
              "      <td>1</td>\n",
              "    </tr>\n",
              "    <tr>\n",
              "      <th>...</th>\n",
              "      <td>...</td>\n",
              "      <td>...</td>\n",
              "      <td>...</td>\n",
              "      <td>...</td>\n",
              "      <td>...</td>\n",
              "      <td>...</td>\n",
              "      <td>...</td>\n",
              "      <td>...</td>\n",
              "      <td>...</td>\n",
              "      <td>...</td>\n",
              "      <td>...</td>\n",
              "      <td>...</td>\n",
              "      <td>...</td>\n",
              "      <td>...</td>\n",
              "      <td>...</td>\n",
              "      <td>...</td>\n",
              "      <td>...</td>\n",
              "      <td>...</td>\n",
              "      <td>...</td>\n",
              "      <td>...</td>\n",
              "      <td>...</td>\n",
              "    </tr>\n",
              "    <tr>\n",
              "      <th>2592074</th>\n",
              "      <td>1295399</td>\n",
              "      <td>2020-06-21 01:00:08</td>\n",
              "      <td>3524574586339330</td>\n",
              "      <td>fraud_Kassulke PLC</td>\n",
              "      <td>shopping_net</td>\n",
              "      <td>977.01</td>\n",
              "      <td>Ashley</td>\n",
              "      <td>Cabrera</td>\n",
              "      <td>F</td>\n",
              "      <td>94225 Smith Springs Apt. 617</td>\n",
              "      <td>...</td>\n",
              "      <td>27.6330</td>\n",
              "      <td>-80.4031</td>\n",
              "      <td>105638</td>\n",
              "      <td>Librarian, public</td>\n",
              "      <td>1986-05-07</td>\n",
              "      <td>a83b093f0c1d9068fa0089f7c722615f</td>\n",
              "      <td>1371776408</td>\n",
              "      <td>26.888686</td>\n",
              "      <td>-80.834389</td>\n",
              "      <td>1</td>\n",
              "    </tr>\n",
              "    <tr>\n",
              "      <th>2592166</th>\n",
              "      <td>1295491</td>\n",
              "      <td>2020-06-21 01:53:35</td>\n",
              "      <td>3524574586339330</td>\n",
              "      <td>fraud_Schumm PLC</td>\n",
              "      <td>shopping_net</td>\n",
              "      <td>1210.91</td>\n",
              "      <td>Ashley</td>\n",
              "      <td>Cabrera</td>\n",
              "      <td>F</td>\n",
              "      <td>94225 Smith Springs Apt. 617</td>\n",
              "      <td>...</td>\n",
              "      <td>27.6330</td>\n",
              "      <td>-80.4031</td>\n",
              "      <td>105638</td>\n",
              "      <td>Librarian, public</td>\n",
              "      <td>1986-05-07</td>\n",
              "      <td>f75b35bed13b9e692f170dba45a15b21</td>\n",
              "      <td>1371779615</td>\n",
              "      <td>28.216707</td>\n",
              "      <td>-79.855648</td>\n",
              "      <td>1</td>\n",
              "    </tr>\n",
              "    <tr>\n",
              "      <th>2592207</th>\n",
              "      <td>1295532</td>\n",
              "      <td>2020-06-21 02:16:56</td>\n",
              "      <td>4005676619255478</td>\n",
              "      <td>fraud_Tillman, Dickinson and Labadie</td>\n",
              "      <td>gas_transport</td>\n",
              "      <td>10.24</td>\n",
              "      <td>William</td>\n",
              "      <td>Perry</td>\n",
              "      <td>M</td>\n",
              "      <td>458 Phillips Island Apt. 768</td>\n",
              "      <td>...</td>\n",
              "      <td>30.4590</td>\n",
              "      <td>-90.9027</td>\n",
              "      <td>71335</td>\n",
              "      <td>Herbalist</td>\n",
              "      <td>1994-05-31</td>\n",
              "      <td>a0ba2472cd3fc9731f2a18d3f308f5c3</td>\n",
              "      <td>1371781016</td>\n",
              "      <td>29.700456</td>\n",
              "      <td>-91.361632</td>\n",
              "      <td>1</td>\n",
              "    </tr>\n",
              "    <tr>\n",
              "      <th>2592341</th>\n",
              "      <td>1295666</td>\n",
              "      <td>2020-06-21 03:26:20</td>\n",
              "      <td>3560725013359375</td>\n",
              "      <td>fraud_Corwin-Collins</td>\n",
              "      <td>gas_transport</td>\n",
              "      <td>21.69</td>\n",
              "      <td>Brooke</td>\n",
              "      <td>Smith</td>\n",
              "      <td>F</td>\n",
              "      <td>63542 Luna Brook Apt. 012</td>\n",
              "      <td>...</td>\n",
              "      <td>31.8599</td>\n",
              "      <td>-102.7413</td>\n",
              "      <td>23</td>\n",
              "      <td>Cytogeneticist</td>\n",
              "      <td>1969-09-15</td>\n",
              "      <td>daa281350b1e16093c7b4bf97bf4d6ed</td>\n",
              "      <td>1371785180</td>\n",
              "      <td>32.675272</td>\n",
              "      <td>-103.484949</td>\n",
              "      <td>1</td>\n",
              "    </tr>\n",
              "    <tr>\n",
              "      <th>2592408</th>\n",
              "      <td>1295733</td>\n",
              "      <td>2020-06-21 03:59:46</td>\n",
              "      <td>4005676619255478</td>\n",
              "      <td>fraud_Koss and Sons</td>\n",
              "      <td>gas_transport</td>\n",
              "      <td>10.20</td>\n",
              "      <td>William</td>\n",
              "      <td>Perry</td>\n",
              "      <td>M</td>\n",
              "      <td>458 Phillips Island Apt. 768</td>\n",
              "      <td>...</td>\n",
              "      <td>30.4590</td>\n",
              "      <td>-90.9027</td>\n",
              "      <td>71335</td>\n",
              "      <td>Herbalist</td>\n",
              "      <td>1994-05-31</td>\n",
              "      <td>0c1c20470fc0d16019b5c368cadf563a</td>\n",
              "      <td>1371787186</td>\n",
              "      <td>31.363252</td>\n",
              "      <td>-89.932309</td>\n",
              "      <td>1</td>\n",
              "    </tr>\n",
              "  </tbody>\n",
              "</table>\n",
              "<p>15012 rows × 23 columns</p>\n",
              "</div>\n",
              "      <button class=\"colab-df-convert\" onclick=\"convertToInteractive('df-5cb14760-594c-4bd8-8f2a-d89324117935')\"\n",
              "              title=\"Convert this dataframe to an interactive table.\"\n",
              "              style=\"display:none;\">\n",
              "        \n",
              "  <svg xmlns=\"http://www.w3.org/2000/svg\" height=\"24px\"viewBox=\"0 0 24 24\"\n",
              "       width=\"24px\">\n",
              "    <path d=\"M0 0h24v24H0V0z\" fill=\"none\"/>\n",
              "    <path d=\"M18.56 5.44l.94 2.06.94-2.06 2.06-.94-2.06-.94-.94-2.06-.94 2.06-2.06.94zm-11 1L8.5 8.5l.94-2.06 2.06-.94-2.06-.94L8.5 2.5l-.94 2.06-2.06.94zm10 10l.94 2.06.94-2.06 2.06-.94-2.06-.94-.94-2.06-.94 2.06-2.06.94z\"/><path d=\"M17.41 7.96l-1.37-1.37c-.4-.4-.92-.59-1.43-.59-.52 0-1.04.2-1.43.59L10.3 9.45l-7.72 7.72c-.78.78-.78 2.05 0 2.83L4 21.41c.39.39.9.59 1.41.59.51 0 1.02-.2 1.41-.59l7.78-7.78 2.81-2.81c.8-.78.8-2.07 0-2.86zM5.41 20L4 18.59l7.72-7.72 1.47 1.35L5.41 20z\"/>\n",
              "  </svg>\n",
              "      </button>\n",
              "      \n",
              "  <style>\n",
              "    .colab-df-container {\n",
              "      display:flex;\n",
              "      flex-wrap:wrap;\n",
              "      gap: 12px;\n",
              "    }\n",
              "\n",
              "    .colab-df-convert {\n",
              "      background-color: #E8F0FE;\n",
              "      border: none;\n",
              "      border-radius: 50%;\n",
              "      cursor: pointer;\n",
              "      display: none;\n",
              "      fill: #1967D2;\n",
              "      height: 32px;\n",
              "      padding: 0 0 0 0;\n",
              "      width: 32px;\n",
              "    }\n",
              "\n",
              "    .colab-df-convert:hover {\n",
              "      background-color: #E2EBFA;\n",
              "      box-shadow: 0px 1px 2px rgba(60, 64, 67, 0.3), 0px 1px 3px 1px rgba(60, 64, 67, 0.15);\n",
              "      fill: #174EA6;\n",
              "    }\n",
              "\n",
              "    [theme=dark] .colab-df-convert {\n",
              "      background-color: #3B4455;\n",
              "      fill: #D2E3FC;\n",
              "    }\n",
              "\n",
              "    [theme=dark] .colab-df-convert:hover {\n",
              "      background-color: #434B5C;\n",
              "      box-shadow: 0px 1px 3px 1px rgba(0, 0, 0, 0.15);\n",
              "      filter: drop-shadow(0px 1px 2px rgba(0, 0, 0, 0.3));\n",
              "      fill: #FFFFFF;\n",
              "    }\n",
              "  </style>\n",
              "\n",
              "      <script>\n",
              "        const buttonEl =\n",
              "          document.querySelector('#df-5cb14760-594c-4bd8-8f2a-d89324117935 button.colab-df-convert');\n",
              "        buttonEl.style.display =\n",
              "          google.colab.kernel.accessAllowed ? 'block' : 'none';\n",
              "\n",
              "        async function convertToInteractive(key) {\n",
              "          const element = document.querySelector('#df-5cb14760-594c-4bd8-8f2a-d89324117935');\n",
              "          const dataTable =\n",
              "            await google.colab.kernel.invokeFunction('convertToInteractive',\n",
              "                                                     [key], {});\n",
              "          if (!dataTable) return;\n",
              "\n",
              "          const docLinkHtml = 'Like what you see? Visit the ' +\n",
              "            '<a target=\"_blank\" href=https://colab.research.google.com/notebooks/data_table.ipynb>data table notebook</a>'\n",
              "            + ' to learn more about interactive tables.';\n",
              "          element.innerHTML = '';\n",
              "          dataTable['output_type'] = 'display_data';\n",
              "          await google.colab.output.renderOutput(dataTable, element);\n",
              "          const docLink = document.createElement('div');\n",
              "          docLink.innerHTML = docLinkHtml;\n",
              "          element.appendChild(docLink);\n",
              "        }\n",
              "      </script>\n",
              "    </div>\n",
              "  </div>\n",
              "  "
            ],
            "text/plain": [
              "         Unnamed: 0 trans_date_trans_time            cc_num  \\\n",
              "2449           2449   2019-01-02 01:06:37     4613314721966   \n",
              "2472           2472   2019-01-02 01:47:29   340187018810220   \n",
              "2523           2523   2019-01-02 03:05:23   340187018810220   \n",
              "2546           2546   2019-01-02 03:38:03     4613314721966   \n",
              "2553           2553   2019-01-02 03:55:47   340187018810220   \n",
              "...             ...                   ...               ...   \n",
              "2592074     1295399   2020-06-21 01:00:08  3524574586339330   \n",
              "2592166     1295491   2020-06-21 01:53:35  3524574586339330   \n",
              "2592207     1295532   2020-06-21 02:16:56  4005676619255478   \n",
              "2592341     1295666   2020-06-21 03:26:20  3560725013359375   \n",
              "2592408     1295733   2020-06-21 03:59:46  4005676619255478   \n",
              "\n",
              "                                     merchant       category      amt  \\\n",
              "2449                   fraud_Rutherford-Mertz    grocery_pos   281.06   \n",
              "2472         fraud_Jenkins, Hauck and Friesen  gas_transport    11.52   \n",
              "2523                   fraud_Goodwin-Nitzsche    grocery_pos   276.31   \n",
              "2546                   fraud_Erdman-Kertzmann  gas_transport     7.03   \n",
              "2553                       fraud_Koepp-Parker    grocery_pos   275.73   \n",
              "...                                       ...            ...      ...   \n",
              "2592074                    fraud_Kassulke PLC   shopping_net   977.01   \n",
              "2592166                      fraud_Schumm PLC   shopping_net  1210.91   \n",
              "2592207  fraud_Tillman, Dickinson and Labadie  gas_transport    10.24   \n",
              "2592341                  fraud_Corwin-Collins  gas_transport    21.69   \n",
              "2592408                   fraud_Koss and Sons  gas_transport    10.20   \n",
              "\n",
              "           first     last gender                        street  ...      lat  \\\n",
              "2449       Jason   Murphy      M     542 Steve Curve Suite 011  ...  35.9946   \n",
              "2472       Misty     Hart      F     27954 Hall Mill Suite 575  ...  29.4400   \n",
              "2523       Misty     Hart      F     27954 Hall Mill Suite 575  ...  29.4400   \n",
              "2546       Jason   Murphy      M     542 Steve Curve Suite 011  ...  35.9946   \n",
              "2553       Misty     Hart      F     27954 Hall Mill Suite 575  ...  29.4400   \n",
              "...          ...      ...    ...                           ...  ...      ...   \n",
              "2592074   Ashley  Cabrera      F  94225 Smith Springs Apt. 617  ...  27.6330   \n",
              "2592166   Ashley  Cabrera      F  94225 Smith Springs Apt. 617  ...  27.6330   \n",
              "2592207  William    Perry      M  458 Phillips Island Apt. 768  ...  30.4590   \n",
              "2592341   Brooke    Smith      F     63542 Luna Brook Apt. 012  ...  31.8599   \n",
              "2592408  William    Perry      M  458 Phillips Island Apt. 768  ...  30.4590   \n",
              "\n",
              "             long  city_pop                       job         dob  \\\n",
              "2449     -81.7266       885            Soil scientist  1988-09-15   \n",
              "2472     -98.4590   1595797  Horticultural consultant  1960-10-28   \n",
              "2523     -98.4590   1595797  Horticultural consultant  1960-10-28   \n",
              "2546     -81.7266       885            Soil scientist  1988-09-15   \n",
              "2553     -98.4590   1595797  Horticultural consultant  1960-10-28   \n",
              "...           ...       ...                       ...         ...   \n",
              "2592074  -80.4031    105638         Librarian, public  1986-05-07   \n",
              "2592166  -80.4031    105638         Librarian, public  1986-05-07   \n",
              "2592207  -90.9027     71335                 Herbalist  1994-05-31   \n",
              "2592341 -102.7413        23            Cytogeneticist  1969-09-15   \n",
              "2592408  -90.9027     71335                 Herbalist  1994-05-31   \n",
              "\n",
              "                                trans_num   unix_time  merch_lat  merch_long  \\\n",
              "2449     e8a81877ae9a0a7f883e15cb39dc4022  1325466397  36.430124  -81.179483   \n",
              "2472     bc7d41c41103877b03232f03f1f8d3f5  1325468849  29.819364  -99.142791   \n",
              "2523     b98f12f4168391b2203238813df5aa8c  1325473523  29.273085  -98.836360   \n",
              "2546     397894a5c4c02e3c61c784001f0f14e4  1325475483  35.909292  -82.091010   \n",
              "2553     7863235a750d73a244c07f1fb7f0185a  1325476547  29.786426  -98.683410   \n",
              "...                                   ...         ...        ...         ...   \n",
              "2592074  a83b093f0c1d9068fa0089f7c722615f  1371776408  26.888686  -80.834389   \n",
              "2592166  f75b35bed13b9e692f170dba45a15b21  1371779615  28.216707  -79.855648   \n",
              "2592207  a0ba2472cd3fc9731f2a18d3f308f5c3  1371781016  29.700456  -91.361632   \n",
              "2592341  daa281350b1e16093c7b4bf97bf4d6ed  1371785180  32.675272 -103.484949   \n",
              "2592408  0c1c20470fc0d16019b5c368cadf563a  1371787186  31.363252  -89.932309   \n",
              "\n",
              "         is_fraud  \n",
              "2449            1  \n",
              "2472            1  \n",
              "2523            1  \n",
              "2546            1  \n",
              "2553            1  \n",
              "...           ...  \n",
              "2592074         1  \n",
              "2592166         1  \n",
              "2592207         1  \n",
              "2592341         1  \n",
              "2592408         1  \n",
              "\n",
              "[15012 rows x 23 columns]"
            ]
          },
          "execution_count": 7,
          "metadata": {},
          "output_type": "execute_result"
        }
      ],
      "source": [
        "dataFrame = pd.concat([df_train,df_test],ignore_index=True)\n",
        "dataFrame[dataFrame['is_fraud'] ==1]"
      ]
    },
    {
      "cell_type": "code",
      "execution_count": null,
      "metadata": {
        "colab": {
          "base_uri": "https://localhost:8080/"
        },
        "id": "0DtY4R1gd6gn",
        "outputId": "438d37bc-96e6-4473-da6b-6844c32417e2"
      },
      "outputs": [
        {
          "data": {
            "text/plain": [
              "(2593350, 23)"
            ]
          },
          "execution_count": 8,
          "metadata": {},
          "output_type": "execute_result"
        }
      ],
      "source": [
        "dataFrame.shape"
      ]
    },
    {
      "cell_type": "code",
      "execution_count": null,
      "metadata": {
        "colab": {
          "base_uri": "https://localhost:8080/"
        },
        "id": "hdSHFTXY0QwW",
        "outputId": "75b38439-de31-4e62-9ee5-d8989a54090b"
      },
      "outputs": [
        {
          "data": {
            "text/plain": [
              "Index(['Unnamed: 0', 'trans_date_trans_time', 'cc_num', 'merchant', 'category',\n",
              "       'amt', 'first', 'last', 'gender', 'street', 'city', 'state', 'zip',\n",
              "       'lat', 'long', 'city_pop', 'job', 'dob', 'trans_num', 'unix_time',\n",
              "       'merch_lat', 'merch_long', 'is_fraud'],\n",
              "      dtype='object')"
            ]
          },
          "execution_count": 9,
          "metadata": {},
          "output_type": "execute_result"
        }
      ],
      "source": [
        "dataFrame.columns"
      ]
    },
    {
      "cell_type": "code",
      "execution_count": null,
      "metadata": {
        "colab": {
          "base_uri": "https://localhost:8080/"
        },
        "id": "StFPkWUwS69c",
        "outputId": "44417eb9-89a4-4331-fd44-2cfd947dd157"
      },
      "outputs": [
        {
          "name": "stdout",
          "output_type": "stream",
          "text": [
            "<class 'pandas.core.frame.DataFrame'>\n",
            "RangeIndex: 2593350 entries, 0 to 2593349\n",
            "Data columns (total 23 columns):\n",
            " #   Column                 Dtype  \n",
            "---  ------                 -----  \n",
            " 0   Unnamed: 0             int64  \n",
            " 1   trans_date_trans_time  object \n",
            " 2   cc_num                 int64  \n",
            " 3   merchant               object \n",
            " 4   category               object \n",
            " 5   amt                    float64\n",
            " 6   first                  object \n",
            " 7   last                   object \n",
            " 8   gender                 object \n",
            " 9   street                 object \n",
            " 10  city                   object \n",
            " 11  state                  object \n",
            " 12  zip                    int64  \n",
            " 13  lat                    float64\n",
            " 14  long                   float64\n",
            " 15  city_pop               int64  \n",
            " 16  job                    object \n",
            " 17  dob                    object \n",
            " 18  trans_num              object \n",
            " 19  unix_time              int64  \n",
            " 20  merch_lat              float64\n",
            " 21  merch_long             float64\n",
            " 22  is_fraud               int64  \n",
            "dtypes: float64(5), int64(6), object(12)\n",
            "memory usage: 455.1+ MB\n"
          ]
        },
        {
          "data": {
            "text/plain": [
              "(False, None)"
            ]
          },
          "execution_count": 10,
          "metadata": {},
          "output_type": "execute_result"
        }
      ],
      "source": [
        "dataFrame.isnull().values.any(), dataFrame.info()"
      ]
    },
    {
      "cell_type": "code",
      "execution_count": null,
      "metadata": {
        "colab": {
          "base_uri": "https://localhost:8080/"
        },
        "id": "PU9IGSTxTKHX",
        "outputId": "ab4ccf29-4c88-4cb0-a27c-98a882a8747e"
      },
      "outputs": [
        {
          "data": {
            "text/plain": [
              "69.99995681264353"
            ]
          },
          "execution_count": 11,
          "metadata": {},
          "output_type": "execute_result"
        }
      ],
      "source": [
        "1296675 * 100 / (1296675 + 555719)"
      ]
    },
    {
      "cell_type": "code",
      "execution_count": null,
      "metadata": {
        "colab": {
          "base_uri": "https://localhost:8080/",
          "height": 349
        },
        "id": "BPZvj-v5TSwV",
        "outputId": "da9bb39c-79b5-462e-9e73-bf866061206a"
      },
      "outputs": [
        {
          "name": "stdout",
          "output_type": "stream",
          "text": [
            "Fraud Distribution\n",
            "0    0.994211\n",
            "1    0.005789\n",
            "Name: is_fraud, dtype: float64\n"
          ]
        },
        {
          "data": {
            "image/png": "[encoded data removed]",
            "text/plain": [
              "<Figure size 432x288 with 1 Axes>"
            ]
          },
          "metadata": {},
          "output_type": "display_data"
        }
      ],
      "source": [
        "print ('Fraud Distribution')\n",
        "print (dataFrame.is_fraud.value_counts(normalize=True))\n",
        "plt.title('Transaction Distribution by Fraud', fontsize= 10, color = 'Red', fontweight = 100)\n",
        "dataFrame.is_fraud.value_counts(normalize=True).plot.bar()\n",
        "plt.show()"
      ]
    },
    {
      "cell_type": "code",
      "execution_count": null,
      "metadata": {
        "id": "FB58ug36Tkbi"
      },
      "outputs": [],
      "source": [
        "dataFrame.drop(['cc_num', 'first', 'last', 'street', 'trans_num', 'zip', 'lat', 'long', 'city_pop', 'unix_time', 'merch_lat','merch_long'], axis=1, inplace=True)\n",
        "dataFrame.drop(dataFrame.iloc[:,[0]], axis=1, inplace=True)"
      ]
    },
    {
      "cell_type": "code",
      "execution_count": null,
      "metadata": {
        "colab": {
          "base_uri": "https://localhost:8080/",
          "height": 641
        },
        "id": "um6aTOtPT-7r",
        "outputId": "6251a454-f079-477d-f6ae-80a917c282b8"
      },
      "outputs": [
        {
          "data": {
            "text/html": [
              "\n",
              "  <div id=\"df-2ec61a3f-8813-483f-b28a-4608e515d303\">\n",
              "    <div class=\"colab-df-container\">\n",
              "      <div>\n",
              "<style scoped>\n",
              "    .dataframe tbody tr th:only-of-type {\n",
              "        vertical-align: middle;\n",
              "    }\n",
              "\n",
              "    .dataframe tbody tr th {\n",
              "        vertical-align: top;\n",
              "    }\n",
              "\n",
              "    .dataframe thead th {\n",
              "        text-align: right;\n",
              "    }\n",
              "</style>\n",
              "<table border=\"1\" class=\"dataframe\">\n",
              "  <thead>\n",
              "    <tr style=\"text-align: right;\">\n",
              "      <th></th>\n",
              "      <th>trans_date_trans_time</th>\n",
              "      <th>merchant</th>\n",
              "      <th>category</th>\n",
              "      <th>amt</th>\n",
              "      <th>gender</th>\n",
              "      <th>city</th>\n",
              "      <th>state</th>\n",
              "      <th>job</th>\n",
              "      <th>dob</th>\n",
              "      <th>is_fraud</th>\n",
              "    </tr>\n",
              "  </thead>\n",
              "  <tbody>\n",
              "    <tr>\n",
              "      <th>0</th>\n",
              "      <td>2019-01-01 00:00:18</td>\n",
              "      <td>fraud_Rippin, Kub and Mann</td>\n",
              "      <td>misc_net</td>\n",
              "      <td>4.97</td>\n",
              "      <td>F</td>\n",
              "      <td>Moravian Falls</td>\n",
              "      <td>NC</td>\n",
              "      <td>Psychologist, counselling</td>\n",
              "      <td>1988-03-09</td>\n",
              "      <td>0</td>\n",
              "    </tr>\n",
              "    <tr>\n",
              "      <th>1</th>\n",
              "      <td>2019-01-01 00:00:44</td>\n",
              "      <td>fraud_Heller, Gutmann and Zieme</td>\n",
              "      <td>grocery_pos</td>\n",
              "      <td>107.23</td>\n",
              "      <td>F</td>\n",
              "      <td>Orient</td>\n",
              "      <td>WA</td>\n",
              "      <td>Special educational needs teacher</td>\n",
              "      <td>1978-06-21</td>\n",
              "      <td>0</td>\n",
              "    </tr>\n",
              "    <tr>\n",
              "      <th>2</th>\n",
              "      <td>2019-01-01 00:00:51</td>\n",
              "      <td>fraud_Lind-Buckridge</td>\n",
              "      <td>entertainment</td>\n",
              "      <td>220.11</td>\n",
              "      <td>M</td>\n",
              "      <td>Malad City</td>\n",
              "      <td>ID</td>\n",
              "      <td>Nature conservation officer</td>\n",
              "      <td>1962-01-19</td>\n",
              "      <td>0</td>\n",
              "    </tr>\n",
              "    <tr>\n",
              "      <th>3</th>\n",
              "      <td>2019-01-01 00:01:16</td>\n",
              "      <td>fraud_Kutch, Hermiston and Farrell</td>\n",
              "      <td>gas_transport</td>\n",
              "      <td>45.00</td>\n",
              "      <td>M</td>\n",
              "      <td>Boulder</td>\n",
              "      <td>MT</td>\n",
              "      <td>Patent attorney</td>\n",
              "      <td>1967-01-12</td>\n",
              "      <td>0</td>\n",
              "    </tr>\n",
              "    <tr>\n",
              "      <th>4</th>\n",
              "      <td>2019-01-01 00:03:06</td>\n",
              "      <td>fraud_Keeling-Crist</td>\n",
              "      <td>misc_pos</td>\n",
              "      <td>41.96</td>\n",
              "      <td>M</td>\n",
              "      <td>Doe Hill</td>\n",
              "      <td>VA</td>\n",
              "      <td>Dance movement psychotherapist</td>\n",
              "      <td>1986-03-28</td>\n",
              "      <td>0</td>\n",
              "    </tr>\n",
              "    <tr>\n",
              "      <th>...</th>\n",
              "      <td>...</td>\n",
              "      <td>...</td>\n",
              "      <td>...</td>\n",
              "      <td>...</td>\n",
              "      <td>...</td>\n",
              "      <td>...</td>\n",
              "      <td>...</td>\n",
              "      <td>...</td>\n",
              "      <td>...</td>\n",
              "      <td>...</td>\n",
              "    </tr>\n",
              "    <tr>\n",
              "      <th>2593345</th>\n",
              "      <td>2020-06-21 12:12:08</td>\n",
              "      <td>fraud_Reichel Inc</td>\n",
              "      <td>entertainment</td>\n",
              "      <td>15.56</td>\n",
              "      <td>M</td>\n",
              "      <td>Hatch</td>\n",
              "      <td>UT</td>\n",
              "      <td>Geoscientist</td>\n",
              "      <td>1961-11-24</td>\n",
              "      <td>0</td>\n",
              "    </tr>\n",
              "    <tr>\n",
              "      <th>2593346</th>\n",
              "      <td>2020-06-21 12:12:19</td>\n",
              "      <td>fraud_Abernathy and Sons</td>\n",
              "      <td>food_dining</td>\n",
              "      <td>51.70</td>\n",
              "      <td>M</td>\n",
              "      <td>Tuscarora</td>\n",
              "      <td>MD</td>\n",
              "      <td>Production assistant, television</td>\n",
              "      <td>1979-12-11</td>\n",
              "      <td>0</td>\n",
              "    </tr>\n",
              "    <tr>\n",
              "      <th>2593347</th>\n",
              "      <td>2020-06-21 12:12:32</td>\n",
              "      <td>fraud_Stiedemann Ltd</td>\n",
              "      <td>food_dining</td>\n",
              "      <td>105.93</td>\n",
              "      <td>M</td>\n",
              "      <td>High Rolls Mountain Park</td>\n",
              "      <td>NM</td>\n",
              "      <td>Naval architect</td>\n",
              "      <td>1967-08-30</td>\n",
              "      <td>0</td>\n",
              "    </tr>\n",
              "    <tr>\n",
              "      <th>2593348</th>\n",
              "      <td>2020-06-21 12:13:36</td>\n",
              "      <td>fraud_Reinger, Weissnat and Strosin</td>\n",
              "      <td>food_dining</td>\n",
              "      <td>74.90</td>\n",
              "      <td>M</td>\n",
              "      <td>Manderson</td>\n",
              "      <td>SD</td>\n",
              "      <td>Volunteer coordinator</td>\n",
              "      <td>1980-08-18</td>\n",
              "      <td>0</td>\n",
              "    </tr>\n",
              "    <tr>\n",
              "      <th>2593349</th>\n",
              "      <td>2020-06-21 12:13:37</td>\n",
              "      <td>fraud_Langosh, Wintheiser and Hyatt</td>\n",
              "      <td>food_dining</td>\n",
              "      <td>4.30</td>\n",
              "      <td>M</td>\n",
              "      <td>Sula</td>\n",
              "      <td>MT</td>\n",
              "      <td>Therapist, horticultural</td>\n",
              "      <td>1995-08-16</td>\n",
              "      <td>0</td>\n",
              "    </tr>\n",
              "  </tbody>\n",
              "</table>\n",
              "<p>2593350 rows × 10 columns</p>\n",
              "</div>\n",
              "      <button class=\"colab-df-convert\" onclick=\"convertToInteractive('df-2ec61a3f-8813-483f-b28a-4608e515d303')\"\n",
              "              title=\"Convert this dataframe to an interactive table.\"\n",
              "              style=\"display:none;\">\n",
              "        \n",
              "  <svg xmlns=\"http://www.w3.org/2000/svg\" height=\"24px\"viewBox=\"0 0 24 24\"\n",
              "       width=\"24px\">\n",
              "    <path d=\"M0 0h24v24H0V0z\" fill=\"none\"/>\n",
              "    <path d=\"M18.56 5.44l.94 2.06.94-2.06 2.06-.94-2.06-.94-.94-2.06-.94 2.06-2.06.94zm-11 1L8.5 8.5l.94-2.06 2.06-.94-2.06-.94L8.5 2.5l-.94 2.06-2.06.94zm10 10l.94 2.06.94-2.06 2.06-.94-2.06-.94-.94-2.06-.94 2.06-2.06.94z\"/><path d=\"M17.41 7.96l-1.37-1.37c-.4-.4-.92-.59-1.43-.59-.52 0-1.04.2-1.43.59L10.3 9.45l-7.72 7.72c-.78.78-.78 2.05 0 2.83L4 21.41c.39.39.9.59 1.41.59.51 0 1.02-.2 1.41-.59l7.78-7.78 2.81-2.81c.8-.78.8-2.07 0-2.86zM5.41 20L4 18.59l7.72-7.72 1.47 1.35L5.41 20z\"/>\n",
              "  </svg>\n",
              "      </button>\n",
              "      \n",
              "  <style>\n",
              "    .colab-df-container {\n",
              "      display:flex;\n",
              "      flex-wrap:wrap;\n",
              "      gap: 12px;\n",
              "    }\n",
              "\n",
              "    .colab-df-convert {\n",
              "      background-color: #E8F0FE;\n",
              "      border: none;\n",
              "      border-radius: 50%;\n",
              "      cursor: pointer;\n",
              "      display: none;\n",
              "      fill: #1967D2;\n",
              "      height: 32px;\n",
              "      padding: 0 0 0 0;\n",
              "      width: 32px;\n",
              "    }\n",
              "\n",
              "    .colab-df-convert:hover {\n",
              "      background-color: #E2EBFA;\n",
              "      box-shadow: 0px 1px 2px rgba(60, 64, 67, 0.3), 0px 1px 3px 1px rgba(60, 64, 67, 0.15);\n",
              "      fill: #174EA6;\n",
              "    }\n",
              "\n",
              "    [theme=dark] .colab-df-convert {\n",
              "      background-color: #3B4455;\n",
              "      fill: #D2E3FC;\n",
              "    }\n",
              "\n",
              "    [theme=dark] .colab-df-convert:hover {\n",
              "      background-color: #434B5C;\n",
              "      box-shadow: 0px 1px 3px 1px rgba(0, 0, 0, 0.15);\n",
              "      filter: drop-shadow(0px 1px 2px rgba(0, 0, 0, 0.3));\n",
              "      fill: #FFFFFF;\n",
              "    }\n",
              "  </style>\n",
              "\n",
              "      <script>\n",
              "        const buttonEl =\n",
              "          document.querySelector('#df-2ec61a3f-8813-483f-b28a-4608e515d303 button.colab-df-convert');\n",
              "        buttonEl.style.display =\n",
              "          google.colab.kernel.accessAllowed ? 'block' : 'none';\n",
              "\n",
              "        async function convertToInteractive(key) {\n",
              "          const element = document.querySelector('#df-2ec61a3f-8813-483f-b28a-4608e515d303');\n",
              "          const dataTable =\n",
              "            await google.colab.kernel.invokeFunction('convertToInteractive',\n",
              "                                                     [key], {});\n",
              "          if (!dataTable) return;\n",
              "\n",
              "          const docLinkHtml = 'Like what you see? Visit the ' +\n",
              "            '<a target=\"_blank\" href=https://colab.research.google.com/notebooks/data_table.ipynb>data table notebook</a>'\n",
              "            + ' to learn more about interactive tables.';\n",
              "          element.innerHTML = '';\n",
              "          dataTable['output_type'] = 'display_data';\n",
              "          await google.colab.output.renderOutput(dataTable, element);\n",
              "          const docLink = document.createElement('div');\n",
              "          docLink.innerHTML = docLinkHtml;\n",
              "          element.appendChild(docLink);\n",
              "        }\n",
              "      </script>\n",
              "    </div>\n",
              "  </div>\n",
              "  "
            ],
            "text/plain": [
              "        trans_date_trans_time                             merchant  \\\n",
              "0         2019-01-01 00:00:18           fraud_Rippin, Kub and Mann   \n",
              "1         2019-01-01 00:00:44      fraud_Heller, Gutmann and Zieme   \n",
              "2         2019-01-01 00:00:51                 fraud_Lind-Buckridge   \n",
              "3         2019-01-01 00:01:16   fraud_Kutch, Hermiston and Farrell   \n",
              "4         2019-01-01 00:03:06                  fraud_Keeling-Crist   \n",
              "...                       ...                                  ...   \n",
              "2593345   2020-06-21 12:12:08                    fraud_Reichel Inc   \n",
              "2593346   2020-06-21 12:12:19             fraud_Abernathy and Sons   \n",
              "2593347   2020-06-21 12:12:32                 fraud_Stiedemann Ltd   \n",
              "2593348   2020-06-21 12:13:36  fraud_Reinger, Weissnat and Strosin   \n",
              "2593349   2020-06-21 12:13:37  fraud_Langosh, Wintheiser and Hyatt   \n",
              "\n",
              "              category     amt gender                      city state  \\\n",
              "0             misc_net    4.97      F            Moravian Falls    NC   \n",
              "1          grocery_pos  107.23      F                    Orient    WA   \n",
              "2        entertainment  220.11      M                Malad City    ID   \n",
              "3        gas_transport   45.00      M                   Boulder    MT   \n",
              "4             misc_pos   41.96      M                  Doe Hill    VA   \n",
              "...                ...     ...    ...                       ...   ...   \n",
              "2593345  entertainment   15.56      M                     Hatch    UT   \n",
              "2593346    food_dining   51.70      M                 Tuscarora    MD   \n",
              "2593347    food_dining  105.93      M  High Rolls Mountain Park    NM   \n",
              "2593348    food_dining   74.90      M                 Manderson    SD   \n",
              "2593349    food_dining    4.30      M                      Sula    MT   \n",
              "\n",
              "                                       job         dob  is_fraud  \n",
              "0                Psychologist, counselling  1988-03-09         0  \n",
              "1        Special educational needs teacher  1978-06-21         0  \n",
              "2              Nature conservation officer  1962-01-19         0  \n",
              "3                          Patent attorney  1967-01-12         0  \n",
              "4           Dance movement psychotherapist  1986-03-28         0  \n",
              "...                                    ...         ...       ...  \n",
              "2593345                       Geoscientist  1961-11-24         0  \n",
              "2593346   Production assistant, television  1979-12-11         0  \n",
              "2593347                    Naval architect  1967-08-30         0  \n",
              "2593348              Volunteer coordinator  1980-08-18         0  \n",
              "2593349           Therapist, horticultural  1995-08-16         0  \n",
              "\n",
              "[2593350 rows x 10 columns]"
            ]
          },
          "execution_count": 14,
          "metadata": {},
          "output_type": "execute_result"
        }
      ],
      "source": [
        "dataFrame"
      ]
    },
    {
      "cell_type": "code",
      "execution_count": null,
      "metadata": {
        "colab": {
          "base_uri": "https://localhost:8080/",
          "height": 206
        },
        "id": "errcnes8UFhN",
        "outputId": "b5d275ee-6120-419f-f95d-bbef7d11a7f1"
      },
      "outputs": [
        {
          "data": {
            "text/html": [
              "\n",
              "  <div id=\"df-84d2ce37-9120-422a-bb67-3327a7d7e1fc\">\n",
              "    <div class=\"colab-df-container\">\n",
              "      <div>\n",
              "<style scoped>\n",
              "    .dataframe tbody tr th:only-of-type {\n",
              "        vertical-align: middle;\n",
              "    }\n",
              "\n",
              "    .dataframe tbody tr th {\n",
              "        vertical-align: top;\n",
              "    }\n",
              "\n",
              "    .dataframe thead th {\n",
              "        text-align: right;\n",
              "    }\n",
              "</style>\n",
              "<table border=\"1\" class=\"dataframe\">\n",
              "  <thead>\n",
              "    <tr style=\"text-align: right;\">\n",
              "      <th></th>\n",
              "      <th>merchant</th>\n",
              "      <th>category</th>\n",
              "      <th>amt</th>\n",
              "      <th>gender</th>\n",
              "      <th>city</th>\n",
              "      <th>state</th>\n",
              "      <th>job</th>\n",
              "      <th>is_fraud</th>\n",
              "      <th>age</th>\n",
              "      <th>trans_date</th>\n",
              "      <th>trans_time</th>\n",
              "    </tr>\n",
              "  </thead>\n",
              "  <tbody>\n",
              "    <tr>\n",
              "      <th>0</th>\n",
              "      <td>fraud_Rippin, Kub and Mann</td>\n",
              "      <td>misc_net</td>\n",
              "      <td>4.97</td>\n",
              "      <td>F</td>\n",
              "      <td>Moravian Falls</td>\n",
              "      <td>NC</td>\n",
              "      <td>Psychologist, counselling</td>\n",
              "      <td>0</td>\n",
              "      <td>34</td>\n",
              "      <td>2019-01-01</td>\n",
              "      <td>00:00:18</td>\n",
              "    </tr>\n",
              "    <tr>\n",
              "      <th>1</th>\n",
              "      <td>fraud_Heller, Gutmann and Zieme</td>\n",
              "      <td>grocery_pos</td>\n",
              "      <td>107.23</td>\n",
              "      <td>F</td>\n",
              "      <td>Orient</td>\n",
              "      <td>WA</td>\n",
              "      <td>Special educational needs teacher</td>\n",
              "      <td>0</td>\n",
              "      <td>44</td>\n",
              "      <td>2019-01-01</td>\n",
              "      <td>00:00:44</td>\n",
              "    </tr>\n",
              "    <tr>\n",
              "      <th>2</th>\n",
              "      <td>fraud_Lind-Buckridge</td>\n",
              "      <td>entertainment</td>\n",
              "      <td>220.11</td>\n",
              "      <td>M</td>\n",
              "      <td>Malad City</td>\n",
              "      <td>ID</td>\n",
              "      <td>Nature conservation officer</td>\n",
              "      <td>0</td>\n",
              "      <td>60</td>\n",
              "      <td>2019-01-01</td>\n",
              "      <td>00:00:51</td>\n",
              "    </tr>\n",
              "    <tr>\n",
              "      <th>3</th>\n",
              "      <td>fraud_Kutch, Hermiston and Farrell</td>\n",
              "      <td>gas_transport</td>\n",
              "      <td>45.00</td>\n",
              "      <td>M</td>\n",
              "      <td>Boulder</td>\n",
              "      <td>MT</td>\n",
              "      <td>Patent attorney</td>\n",
              "      <td>0</td>\n",
              "      <td>55</td>\n",
              "      <td>2019-01-01</td>\n",
              "      <td>00:01:16</td>\n",
              "    </tr>\n",
              "    <tr>\n",
              "      <th>4</th>\n",
              "      <td>fraud_Keeling-Crist</td>\n",
              "      <td>misc_pos</td>\n",
              "      <td>41.96</td>\n",
              "      <td>M</td>\n",
              "      <td>Doe Hill</td>\n",
              "      <td>VA</td>\n",
              "      <td>Dance movement psychotherapist</td>\n",
              "      <td>0</td>\n",
              "      <td>36</td>\n",
              "      <td>2019-01-01</td>\n",
              "      <td>00:03:06</td>\n",
              "    </tr>\n",
              "  </tbody>\n",
              "</table>\n",
              "</div>\n",
              "      <button class=\"colab-df-convert\" onclick=\"convertToInteractive('df-84d2ce37-9120-422a-bb67-3327a7d7e1fc')\"\n",
              "              title=\"Convert this dataframe to an interactive table.\"\n",
              "              style=\"display:none;\">\n",
              "        \n",
              "  <svg xmlns=\"http://www.w3.org/2000/svg\" height=\"24px\"viewBox=\"0 0 24 24\"\n",
              "       width=\"24px\">\n",
              "    <path d=\"M0 0h24v24H0V0z\" fill=\"none\"/>\n",
              "    <path d=\"M18.56 5.44l.94 2.06.94-2.06 2.06-.94-2.06-.94-.94-2.06-.94 2.06-2.06.94zm-11 1L8.5 8.5l.94-2.06 2.06-.94-2.06-.94L8.5 2.5l-.94 2.06-2.06.94zm10 10l.94 2.06.94-2.06 2.06-.94-2.06-.94-.94-2.06-.94 2.06-2.06.94z\"/><path d=\"M17.41 7.96l-1.37-1.37c-.4-.4-.92-.59-1.43-.59-.52 0-1.04.2-1.43.59L10.3 9.45l-7.72 7.72c-.78.78-.78 2.05 0 2.83L4 21.41c.39.39.9.59 1.41.59.51 0 1.02-.2 1.41-.59l7.78-7.78 2.81-2.81c.8-.78.8-2.07 0-2.86zM5.41 20L4 18.59l7.72-7.72 1.47 1.35L5.41 20z\"/>\n",
              "  </svg>\n",
              "      </button>\n",
              "      \n",
              "  <style>\n",
              "    .colab-df-container {\n",
              "      display:flex;\n",
              "      flex-wrap:wrap;\n",
              "      gap: 12px;\n",
              "    }\n",
              "\n",
              "    .colab-df-convert {\n",
              "      background-color: #E8F0FE;\n",
              "      border: none;\n",
              "      border-radius: 50%;\n",
              "      cursor: pointer;\n",
              "      display: none;\n",
              "      fill: #1967D2;\n",
              "      height: 32px;\n",
              "      padding: 0 0 0 0;\n",
              "      width: 32px;\n",
              "    }\n",
              "\n",
              "    .colab-df-convert:hover {\n",
              "      background-color: #E2EBFA;\n",
              "      box-shadow: 0px 1px 2px rgba(60, 64, 67, 0.3), 0px 1px 3px 1px rgba(60, 64, 67, 0.15);\n",
              "      fill: #174EA6;\n",
              "    }\n",
              "\n",
              "    [theme=dark] .colab-df-convert {\n",
              "      background-color: #3B4455;\n",
              "      fill: #D2E3FC;\n",
              "    }\n",
              "\n",
              "    [theme=dark] .colab-df-convert:hover {\n",
              "      background-color: #434B5C;\n",
              "      box-shadow: 0px 1px 3px 1px rgba(0, 0, 0, 0.15);\n",
              "      filter: drop-shadow(0px 1px 2px rgba(0, 0, 0, 0.3));\n",
              "      fill: #FFFFFF;\n",
              "    }\n",
              "  </style>\n",
              "\n",
              "      <script>\n",
              "        const buttonEl =\n",
              "          document.querySelector('#df-84d2ce37-9120-422a-bb67-3327a7d7e1fc button.colab-df-convert');\n",
              "        buttonEl.style.display =\n",
              "          google.colab.kernel.accessAllowed ? 'block' : 'none';\n",
              "\n",
              "        async function convertToInteractive(key) {\n",
              "          const element = document.querySelector('#df-84d2ce37-9120-422a-bb67-3327a7d7e1fc');\n",
              "          const dataTable =\n",
              "            await google.colab.kernel.invokeFunction('convertToInteractive',\n",
              "                                                     [key], {});\n",
              "          if (!dataTable) return;\n",
              "\n",
              "          const docLinkHtml = 'Like what you see? Visit the ' +\n",
              "            '<a target=\"_blank\" href=https://colab.research.google.com/notebooks/data_table.ipynb>data table notebook</a>'\n",
              "            + ' to learn more about interactive tables.';\n",
              "          element.innerHTML = '';\n",
              "          dataTable['output_type'] = 'display_data';\n",
              "          await google.colab.output.renderOutput(dataTable, element);\n",
              "          const docLink = document.createElement('div');\n",
              "          docLink.innerHTML = docLinkHtml;\n",
              "          element.appendChild(docLink);\n",
              "        }\n",
              "      </script>\n",
              "    </div>\n",
              "  </div>\n",
              "  "
            ],
            "text/plain": [
              "                             merchant       category     amt gender  \\\n",
              "0          fraud_Rippin, Kub and Mann       misc_net    4.97      F   \n",
              "1     fraud_Heller, Gutmann and Zieme    grocery_pos  107.23      F   \n",
              "2                fraud_Lind-Buckridge  entertainment  220.11      M   \n",
              "3  fraud_Kutch, Hermiston and Farrell  gas_transport   45.00      M   \n",
              "4                 fraud_Keeling-Crist       misc_pos   41.96      M   \n",
              "\n",
              "             city state                                job  is_fraud  age  \\\n",
              "0  Moravian Falls    NC          Psychologist, counselling         0   34   \n",
              "1          Orient    WA  Special educational needs teacher         0   44   \n",
              "2      Malad City    ID        Nature conservation officer         0   60   \n",
              "3         Boulder    MT                    Patent attorney         0   55   \n",
              "4        Doe Hill    VA     Dance movement psychotherapist         0   36   \n",
              "\n",
              "   trans_date trans_time  \n",
              "0  2019-01-01   00:00:18  \n",
              "1  2019-01-01   00:00:44  \n",
              "2  2019-01-01   00:00:51  \n",
              "3  2019-01-01   00:01:16  \n",
              "4  2019-01-01   00:03:06  "
            ]
          },
          "execution_count": 15,
          "metadata": {},
          "output_type": "execute_result"
        }
      ],
      "source": [
        "dataFrame['dob'] = pd.to_datetime(dataFrame['dob'])\n",
        "dataFrame['age'] = (pd.to_datetime('now') - dataFrame['dob'])/ np.timedelta64(1, 'Y')\n",
        "dataFrame['age'] = dataFrame['age'].astype(int)\n",
        "dataFrame.drop(['dob'], axis=1, inplace=True)\n",
        "dataFrame\n",
        "\n",
        "\n",
        "dataFrame['trans_date'] = pd.DatetimeIndex(dataFrame['trans_date_trans_time']).date\n",
        "dataFrame['trans_time'] = pd.DatetimeIndex(dataFrame['trans_date_trans_time']).time\n",
        "dataFrame.drop(['trans_date_trans_time'], axis=1, inplace=True)\n",
        "dataFrame.head()"
      ]
    },
    {
      "cell_type": "code",
      "execution_count": null,
      "metadata": {
        "colab": {
          "base_uri": "https://localhost:8080/",
          "height": 300
        },
        "id": "jyK_1F-KUdK0",
        "outputId": "4879eafc-f795-4c4e-feb4-e6ed843b9bee"
      },
      "outputs": [
        {
          "data": {
            "text/html": [
              "\n",
              "  <div id=\"df-605d7109-e65b-4045-b413-3ef490c00617\">\n",
              "    <div class=\"colab-df-container\">\n",
              "      <div>\n",
              "<style scoped>\n",
              "    .dataframe tbody tr th:only-of-type {\n",
              "        vertical-align: middle;\n",
              "    }\n",
              "\n",
              "    .dataframe tbody tr th {\n",
              "        vertical-align: top;\n",
              "    }\n",
              "\n",
              "    .dataframe thead th {\n",
              "        text-align: right;\n",
              "    }\n",
              "</style>\n",
              "<table border=\"1\" class=\"dataframe\">\n",
              "  <thead>\n",
              "    <tr style=\"text-align: right;\">\n",
              "      <th></th>\n",
              "      <th>amt</th>\n",
              "      <th>is_fraud</th>\n",
              "      <th>age</th>\n",
              "    </tr>\n",
              "  </thead>\n",
              "  <tbody>\n",
              "    <tr>\n",
              "      <th>count</th>\n",
              "      <td>2.593350e+06</td>\n",
              "      <td>2.593350e+06</td>\n",
              "      <td>2.593350e+06</td>\n",
              "    </tr>\n",
              "    <tr>\n",
              "      <th>mean</th>\n",
              "      <td>7.035104e+01</td>\n",
              "      <td>5.788652e-03</td>\n",
              "      <td>4.829300e+01</td>\n",
              "    </tr>\n",
              "    <tr>\n",
              "      <th>std</th>\n",
              "      <td>1.603160e+02</td>\n",
              "      <td>7.586268e-02</td>\n",
              "      <td>1.739244e+01</td>\n",
              "    </tr>\n",
              "    <tr>\n",
              "      <th>min</th>\n",
              "      <td>1.000000e+00</td>\n",
              "      <td>0.000000e+00</td>\n",
              "      <td>1.700000e+01</td>\n",
              "    </tr>\n",
              "    <tr>\n",
              "      <th>25%</th>\n",
              "      <td>9.650000e+00</td>\n",
              "      <td>0.000000e+00</td>\n",
              "      <td>3.500000e+01</td>\n",
              "    </tr>\n",
              "    <tr>\n",
              "      <th>50%</th>\n",
              "      <td>4.752000e+01</td>\n",
              "      <td>0.000000e+00</td>\n",
              "      <td>4.600000e+01</td>\n",
              "    </tr>\n",
              "    <tr>\n",
              "      <th>75%</th>\n",
              "      <td>8.314000e+01</td>\n",
              "      <td>0.000000e+00</td>\n",
              "      <td>5.900000e+01</td>\n",
              "    </tr>\n",
              "    <tr>\n",
              "      <th>max</th>\n",
              "      <td>2.894890e+04</td>\n",
              "      <td>1.000000e+00</td>\n",
              "      <td>9.700000e+01</td>\n",
              "    </tr>\n",
              "  </tbody>\n",
              "</table>\n",
              "</div>\n",
              "      <button class=\"colab-df-convert\" onclick=\"convertToInteractive('df-605d7109-e65b-4045-b413-3ef490c00617')\"\n",
              "              title=\"Convert this dataframe to an interactive table.\"\n",
              "              style=\"display:none;\">\n",
              "        \n",
              "  <svg xmlns=\"http://www.w3.org/2000/svg\" height=\"24px\"viewBox=\"0 0 24 24\"\n",
              "       width=\"24px\">\n",
              "    <path d=\"M0 0h24v24H0V0z\" fill=\"none\"/>\n",
              "    <path d=\"M18.56 5.44l.94 2.06.94-2.06 2.06-.94-2.06-.94-.94-2.06-.94 2.06-2.06.94zm-11 1L8.5 8.5l.94-2.06 2.06-.94-2.06-.94L8.5 2.5l-.94 2.06-2.06.94zm10 10l.94 2.06.94-2.06 2.06-.94-2.06-.94-.94-2.06-.94 2.06-2.06.94z\"/><path d=\"M17.41 7.96l-1.37-1.37c-.4-.4-.92-.59-1.43-.59-.52 0-1.04.2-1.43.59L10.3 9.45l-7.72 7.72c-.78.78-.78 2.05 0 2.83L4 21.41c.39.39.9.59 1.41.59.51 0 1.02-.2 1.41-.59l7.78-7.78 2.81-2.81c.8-.78.8-2.07 0-2.86zM5.41 20L4 18.59l7.72-7.72 1.47 1.35L5.41 20z\"/>\n",
              "  </svg>\n",
              "      </button>\n",
              "      \n",
              "  <style>\n",
              "    .colab-df-container {\n",
              "      display:flex;\n",
              "      flex-wrap:wrap;\n",
              "      gap: 12px;\n",
              "    }\n",
              "\n",
              "    .colab-df-convert {\n",
              "      background-color: #E8F0FE;\n",
              "      border: none;\n",
              "      border-radius: 50%;\n",
              "      cursor: pointer;\n",
              "      display: none;\n",
              "      fill: #1967D2;\n",
              "      height: 32px;\n",
              "      padding: 0 0 0 0;\n",
              "      width: 32px;\n",
              "    }\n",
              "\n",
              "    .colab-df-convert:hover {\n",
              "      background-color: #E2EBFA;\n",
              "      box-shadow: 0px 1px 2px rgba(60, 64, 67, 0.3), 0px 1px 3px 1px rgba(60, 64, 67, 0.15);\n",
              "      fill: #174EA6;\n",
              "    }\n",
              "\n",
              "    [theme=dark] .colab-df-convert {\n",
              "      background-color: #3B4455;\n",
              "      fill: #D2E3FC;\n",
              "    }\n",
              "\n",
              "    [theme=dark] .colab-df-convert:hover {\n",
              "      background-color: #434B5C;\n",
              "      box-shadow: 0px 1px 3px 1px rgba(0, 0, 0, 0.15);\n",
              "      filter: drop-shadow(0px 1px 2px rgba(0, 0, 0, 0.3));\n",
              "      fill: #FFFFFF;\n",
              "    }\n",
              "  </style>\n",
              "\n",
              "      <script>\n",
              "        const buttonEl =\n",
              "          document.querySelector('#df-605d7109-e65b-4045-b413-3ef490c00617 button.colab-df-convert');\n",
              "        buttonEl.style.display =\n",
              "          google.colab.kernel.accessAllowed ? 'block' : 'none';\n",
              "\n",
              "        async function convertToInteractive(key) {\n",
              "          const element = document.querySelector('#df-605d7109-e65b-4045-b413-3ef490c00617');\n",
              "          const dataTable =\n",
              "            await google.colab.kernel.invokeFunction('convertToInteractive',\n",
              "                                                     [key], {});\n",
              "          if (!dataTable) return;\n",
              "\n",
              "          const docLinkHtml = 'Like what you see? Visit the ' +\n",
              "            '<a target=\"_blank\" href=https://colab.research.google.com/notebooks/data_table.ipynb>data table notebook</a>'\n",
              "            + ' to learn more about interactive tables.';\n",
              "          element.innerHTML = '';\n",
              "          dataTable['output_type'] = 'display_data';\n",
              "          await google.colab.output.renderOutput(dataTable, element);\n",
              "          const docLink = document.createElement('div');\n",
              "          docLink.innerHTML = docLinkHtml;\n",
              "          element.appendChild(docLink);\n",
              "        }\n",
              "      </script>\n",
              "    </div>\n",
              "  </div>\n",
              "  "
            ],
            "text/plain": [
              "                amt      is_fraud           age\n",
              "count  2.593350e+06  2.593350e+06  2.593350e+06\n",
              "mean   7.035104e+01  5.788652e-03  4.829300e+01\n",
              "std    1.603160e+02  7.586268e-02  1.739244e+01\n",
              "min    1.000000e+00  0.000000e+00  1.700000e+01\n",
              "25%    9.650000e+00  0.000000e+00  3.500000e+01\n",
              "50%    4.752000e+01  0.000000e+00  4.600000e+01\n",
              "75%    8.314000e+01  0.000000e+00  5.900000e+01\n",
              "max    2.894890e+04  1.000000e+00  9.700000e+01"
            ]
          },
          "execution_count": 16,
          "metadata": {},
          "output_type": "execute_result"
        }
      ],
      "source": [
        "dataFrame.describe()"
      ]
    },
    {
      "cell_type": "code",
      "execution_count": null,
      "metadata": {
        "colab": {
          "base_uri": "https://localhost:8080/",
          "height": 1000
        },
        "id": "oz_sf2RNz3ZU",
        "outputId": "db075d84-308b-4fd6-9209-192cf2899a80"
      },
      "outputs": [
        {
          "data": {
            "image/png": "[encoded data removed]",
            "text/plain": [
              "<Figure size 504x360 with 1 Axes>"
            ]
          },
          "metadata": {},
          "output_type": "display_data"
        },
        {
          "data": {
            "image/png": "[encoded data removed]",
            "text/plain": [
              "<Figure size 504x360 with 1 Axes>"
            ]
          },
          "metadata": {},
          "output_type": "display_data"
        },
        {
          "data": {
            "image/png": "[encoded data removed]",
            "text/plain": [
              "<Figure size 1224x360 with 1 Axes>"
            ]
          },
          "metadata": {},
          "output_type": "display_data"
        }
      ],
      "source": [
        "plt.figure(figsize = (7,5))\n",
        "plt.title('Transaction distribution by Category', fontsize= 10, color = 'Red', fontweight = 100)\n",
        "dataFrame.category.value_counts(normalize=True).plot.bar()\n",
        "plt.show()\n",
        "\n",
        "plt.figure(figsize = (7,5))\n",
        "plt.title('Transaction distribution by gender', fontsize= 10, color = 'Red', fontweight = 100)\n",
        "dataFrame.gender.value_counts(normalize=True).plot.bar()\n",
        "plt.show()\n",
        "\n",
        "plt.figure(figsize = (17,5))\n",
        "plt.title('Transaction distribution by state', fontsize= 10, color = 'Red', fontweight = 100)\n",
        "dataFrame.state.value_counts(normalize=True).plot.bar()\n",
        "plt.show()"
      ]
    },
    {
      "cell_type": "code",
      "execution_count": null,
      "metadata": {
        "colab": {
          "base_uri": "https://localhost:8080/"
        },
        "id": "35TklRq00IU1",
        "outputId": "f921563e-48e7-46f2-8e0b-ad4ed3751abe"
      },
      "outputs": [
        {
          "name": "stdout",
          "output_type": "stream",
          "text": [
            "<class 'pandas.core.frame.DataFrame'>\n",
            "RangeIndex: 2593350 entries, 0 to 2593349\n",
            "Data columns (total 11 columns):\n",
            " #   Column      Dtype  \n",
            "---  ------      -----  \n",
            " 0   merchant    object \n",
            " 1   category    object \n",
            " 2   amt         float64\n",
            " 3   gender      object \n",
            " 4   city        object \n",
            " 5   state       object \n",
            " 6   job         object \n",
            " 7   is_fraud    int64  \n",
            " 8   age         int64  \n",
            " 9   trans_date  object \n",
            " 10  trans_time  object \n",
            "dtypes: float64(1), int64(2), object(8)\n",
            "memory usage: 217.6+ MB\n"
          ]
        }
      ],
      "source": [
        "dataFrame.info()"
      ]
    },
    {
      "cell_type": "code",
      "execution_count": null,
      "metadata": {
        "colab": {
          "base_uri": "https://localhost:8080/",
          "height": 334
        },
        "id": "mEt6m3l3-veO",
        "outputId": "65872a91-bd58-4f4a-a2fb-f3a488e30a69"
      },
      "outputs": [
        {
          "data": {
            "image/png": "[encoded data removed]",
            "text/plain": [
              "<Figure size 1080x360 with 2 Axes>"
            ]
          },
          "metadata": {},
          "output_type": "display_data"
        }
      ],
      "source": [
        "plt.figure(figsize=[15,5])\n",
        "plt.subplot(1,2,1)\n",
        "plt.title('Fraud Vs Transaction Amount', fontsize= 10, color = 'Red', fontweight = 100)\n",
        "plt.scatter(dataFrame.amt, dataFrame.is_fraud)\n",
        "plt.subplot(1,2,2)\n",
        "\n",
        "temp = dataFrame[dataFrame.is_fraud == 1]\n",
        "plt.title('Distribution of Fraud Amount', fontsize= 10, color = 'Red', fontweight = 100)\n",
        "plt.hist(temp.amt, edgecolor='Black')\n",
        "plt.xticks(np.arange(0, 1300, step=100))\n",
        "\n",
        "plt.show()"
      ]
    },
    {
      "cell_type": "code",
      "execution_count": null,
      "metadata": {
        "colab": {
          "base_uri": "https://localhost:8080/"
        },
        "id": "iWZfFfkR_ZO8",
        "outputId": "4f5d3572-282c-43b4-8750-1add85603e18"
      },
      "outputs": [
        {
          "data": {
            "text/plain": [
              "merchant\n",
              "fraud_Abbott-Rogahn                 3688\n",
              "fraud_Abbott-Steuber                3526\n",
              "fraud_Abernathy and Sons            3502\n",
              "fraud_Abshire PLC                   3790\n",
              "fraud_Adams, Kovacek and Kuhlman    1880\n",
              "Name: is_fraud, dtype: int64"
            ]
          },
          "execution_count": 20,
          "metadata": {},
          "output_type": "execute_result"
        }
      ],
      "source": [
        "merch_tran_total = dataFrame.sort_values('merchant').groupby('merchant').count()['is_fraud']\n",
        "merch_tran_total.head()"
      ]
    },
    {
      "cell_type": "code",
      "execution_count": null,
      "metadata": {
        "colab": {
          "base_uri": "https://localhost:8080/"
        },
        "id": "EsQ0S3or_ktd",
        "outputId": "8389b833-f3f9-400b-d212-77c3d2675843"
      },
      "outputs": [
        {
          "data": {
            "text/plain": [
              "fraud_Rau and Sons       98\n",
              "fraud_Cormier LLC        96\n",
              "fraud_Kozey-Boehm        96\n",
              "fraud_Doyle Ltd          94\n",
              "fraud_Vandervort-Funk    94\n",
              "Name: merchant, dtype: int64"
            ]
          },
          "execution_count": 21,
          "metadata": {},
          "output_type": "execute_result"
        }
      ],
      "source": [
        "merch_tran_fraud = dataFrame[dataFrame.is_fraud == 1]['merchant'].value_counts()\n",
        "merch_tran_fraud.head()"
      ]
    },
    {
      "cell_type": "code",
      "execution_count": null,
      "metadata": {
        "colab": {
          "base_uri": "https://localhost:8080/"
        },
        "id": "-mrXgIfX_nRH",
        "outputId": "105bf0ea-33ed-4fe9-9c26-36b12d131853"
      },
      "outputs": [
        {
          "data": {
            "text/plain": [
              "fraud_Kozey-Boehm                        2.572347\n",
              "fraud_Herman, Treutel and Dickens        2.538462\n",
              "fraud_Kerluke-Abshire                    2.230686\n",
              "fraud_Brown PLC                          2.210884\n",
              "fraud_Goyette Inc                        2.161606\n",
              "                                           ...   \n",
              "fraud_Ritchie, Bradtke and Stiedemann         NaN\n",
              "fraud_Romaguera and Sons                      NaN\n",
              "fraud_Schroeder Group                         NaN\n",
              "fraud_Schroeder, Wolff and Hermiston          NaN\n",
              "fraud_Wiegand-Lowe                            NaN\n",
              "Length: 693, dtype: float64"
            ]
          },
          "execution_count": 22,
          "metadata": {},
          "output_type": "execute_result"
        }
      ],
      "source": [
        "fraud_perc = merch_tran_fraud/ merch_tran_total * 100\n",
        "fraud_perc.sort_values(ascending=False)"
      ]
    },
    {
      "cell_type": "code",
      "execution_count": null,
      "metadata": {
        "colab": {
          "base_uri": "https://localhost:8080/"
        },
        "id": "U1_WK0I4_ugN",
        "outputId": "b0165c9d-db65-4eae-f5d3-966af365dccf"
      },
      "outputs": [
        {
          "data": {
            "text/plain": [
              "0          514\n",
              "1          241\n",
              "2          390\n",
              "3          360\n",
              "4          297\n",
              "          ... \n",
              "2593345    499\n",
              "2593346      2\n",
              "2593347    599\n",
              "2593348    509\n",
              "2593349    370\n",
              "Name: merchant, Length: 2593350, dtype: int64"
            ]
          },
          "execution_count": 23,
          "metadata": {},
          "output_type": "execute_result"
        }
      ],
      "source": [
        "label_encoder = LabelEncoder()\n",
        "dataFrame.merchant = label_encoder.fit_transform(dataFrame.merchant)\n",
        "dataFrame['merchant']"
      ]
    },
    {
      "cell_type": "code",
      "execution_count": null,
      "metadata": {
        "colab": {
          "base_uri": "https://localhost:8080/"
        },
        "id": "FK3XjL8EHx1g",
        "outputId": "39b2ba30-b3d8-48b6-d17e-f817c1ace38c"
      },
      "outputs": [
        {
          "output_type": "execute_result",
          "data": {
            "text/plain": [
              "232    100.0\n",
              "834    100.0\n",
              "274    100.0\n",
              "278    100.0\n",
              "293    100.0\n",
              "610    100.0\n",
              "305    100.0\n",
              "57     100.0\n",
              "836    100.0\n",
              "570    100.0\n",
              "838    100.0\n",
              "106    100.0\n",
              "844    100.0\n",
              "599    100.0\n",
              "580    100.0\n",
              "575    100.0\n",
              "640    100.0\n",
              "649    100.0\n",
              "673    100.0\n",
              "689    100.0\n",
              "dtype: float64"
            ]
          },
          "metadata": {},
          "execution_count": 97
        }
      ],
      "source": [
        "city_tran_total = dataFrame.sort_values('city').groupby('city').count()['is_fraud']\n",
        "city_tran_fraud = dataFrame[dataFrame.is_fraud == 1]['city'].value_counts()\n",
        "fraud_perc = city_tran_fraud/ city_tran_total * 100\n",
        "fraud_perc.sort_values(ascending=False).head(20)"
      ]
    },
    {
      "cell_type": "code",
      "execution_count": null,
      "metadata": {
        "id": "01vv97KdIoHb"
      },
      "outputs": [],
      "source": [
        "dataFrame.city = label_encoder.fit_transform(dataFrame.city)"
      ]
    },
    {
      "cell_type": "code",
      "execution_count": null,
      "metadata": {
        "colab": {
          "base_uri": "https://localhost:8080/",
          "height": 615
        },
        "id": "NL8mRi_GJhkw",
        "outputId": "c6364229-330e-4c2e-fdfb-ec57ff1f6c22"
      },
      "outputs": [
        {
          "data": {
            "image/png": "[encoded data removed]",
            "text/plain": [
              "<Figure size 432x288 with 1 Axes>"
            ]
          },
          "metadata": {},
          "output_type": "display_data"
        },
        {
          "data": {
            "text/plain": [
              "entertainment     0.247835\n",
              "food_dining       0.165098\n",
              "gas_transport     0.469394\n",
              "grocery_net       0.294817\n",
              "grocery_pos       1.409761\n",
              "health_fitness    0.154869\n",
              "home              0.160825\n",
              "kids_pets         0.211439\n",
              "misc_net          1.445795\n",
              "misc_pos          0.313853\n",
              "personal_care     0.242403\n",
              "shopping_net      1.756149\n",
              "shopping_pos      0.722538\n",
              "travel            0.286370\n",
              "dtype: float64"
            ]
          },
          "execution_count": 26,
          "metadata": {},
          "output_type": "execute_result"
        }
      ],
      "source": [
        "cat_tran_total = dataFrame.sort_values('category').groupby('category').count()['is_fraud']\n",
        "cat_tran_fraud = dataFrame[dataFrame.is_fraud == 1]['category'].value_counts()\n",
        "fraud_perc = cat_tran_fraud/ cat_tran_total * 100\n",
        "plt.title('Category wise fraud transactions', fontsize= 10, color = 'Red', fontweight = 100)\n",
        "plt.ylabel('% Fraud Transactions', fontdict = {'fontsize': 10, 'color': 'Blue', 'fontweight' : '300'})\n",
        "fraud_perc.sort_values().plot.bar()\n",
        "plt.show()\n",
        "fraud_perc"
      ]
    },
    {
      "cell_type": "code",
      "execution_count": null,
      "metadata": {
        "id": "XL4ShsuQJx_X"
      },
      "outputs": [],
      "source": [
        "dataFrame.category = label_encoder.fit_transform(dataFrame.category)"
      ]
    },
    {
      "cell_type": "code",
      "execution_count": null,
      "metadata": {
        "colab": {
          "base_uri": "https://localhost:8080/",
          "height": 278
        },
        "id": "ABV97WZXKa5d",
        "outputId": "2faa0302-6c44-4ea5-8f24-39bbf504e021"
      },
      "outputs": [
        {
          "data": {
            "image/png": "[encoded data removed]",
            "text/plain": [
              "<Figure size 432x288 with 1 Axes>"
            ]
          },
          "metadata": {},
          "output_type": "display_data"
        }
      ],
      "source": [
        "gen_tran_total = dataFrame.sort_values('gender').groupby('gender').count()['is_fraud']\n",
        "gen_tran_fraud = dataFrame[dataFrame.is_fraud == 1]['gender'].value_counts()\n",
        "fraud_perc = gen_tran_fraud/ gen_tran_total * 100\n",
        "plt.title('Gender wise Fraud Transactions', fontsize= 10, color = 'Red', fontweight = 100)\n",
        "fraud_perc.sort_values().plot.bar()\n",
        "plt.show()"
      ]
    },
    {
      "cell_type": "code",
      "execution_count": null,
      "metadata": {
        "id": "kn9FNkOwKjaA"
      },
      "outputs": [],
      "source": [
        "dataFrame.gender = dataFrame.gender.map({'M': 1, \"F\": 0})"
      ]
    },
    {
      "cell_type": "code",
      "execution_count": null,
      "metadata": {
        "colab": {
          "base_uri": "https://localhost:8080/",
          "height": 1000
        },
        "id": "E37L6CcSKvz8",
        "outputId": "6c3bd028-a1b9-48d1-a55c-6914c1bcb41b"
      },
      "outputs": [
        {
          "data": {
            "image/png": "[encoded data removed]",
            "text/plain": [
              "<Figure size 1224x360 with 1 Axes>"
            ]
          },
          "metadata": {},
          "output_type": "display_data"
        },
        {
          "data": {
            "text/plain": [
              "AK      1.698113\n",
              "AL      0.524531\n",
              "AR      0.517236\n",
              "AZ      0.343547\n",
              "CA      0.578424\n",
              "CO      0.814121\n",
              "CT      0.207738\n",
              "DC      0.581234\n",
              "DE    100.000000\n",
              "FL      0.658527\n",
              "GA      0.560181\n",
              "HI      0.273544\n",
              "IA      0.526218\n",
              "ID      0.198377\n",
              "IL      0.573384\n",
              "IN      0.514866\n",
              "KS      0.678379\n",
              "KY      0.544337\n",
              "LA      0.434057\n",
              "MA      0.557531\n",
              "MD      0.599397\n",
              "ME      0.720994\n",
              "MI      0.515665\n",
              "MN      0.652709\n",
              "MO      0.497357\n",
              "MS      0.542760\n",
              "MT      0.272248\n",
              "NC      0.492302\n",
              "ND      0.385500\n",
              "NE      0.744786\n",
              "NH      0.712733\n",
              "NJ      0.479616\n",
              "NM      0.499787\n",
              "NV      0.838238\n",
              "NY      0.664663\n",
              "OH      0.690620\n",
              "OK      0.536163\n",
              "OR      0.801204\n",
              "PA      0.573597\n",
              "RI      2.727273\n",
              "SC      0.661185\n",
              "SD      0.600454\n",
              "TN      0.797539\n",
              "TX      0.504870\n",
              "UT      0.570147\n",
              "VA      0.676923\n",
              "VT      0.611829\n",
              "WA      0.507292\n",
              "WI      0.555026\n",
              "WV      0.568292\n",
              "WY      0.569299\n",
              "dtype: float64"
            ]
          },
          "execution_count": 30,
          "metadata": {},
          "output_type": "execute_result"
        }
      ],
      "source": [
        "plt.figure(figsize = (17,5))\n",
        "state_tran_total = dataFrame.sort_values('state').groupby('state').count()['is_fraud']\n",
        "state_tran_fraud = dataFrame[dataFrame.is_fraud == 1]['state'].value_counts()\n",
        "fraud_perc = state_tran_fraud/ state_tran_total * 100\n",
        "plt.title('state wise Fraud Transactions', fontsize= 10, color = 'Red', fontweight = 100)\n",
        "plt.ylabel('% Fraud Transactions', fontdict = {'fontsize': 10, 'color': 'Blue', 'fontweight' : '300'})\n",
        "fraud_perc.sort_values(ascending=False).plot.bar()\n",
        "plt.show()\n",
        "fraud_perc"
      ]
    },
    {
      "cell_type": "code",
      "execution_count": null,
      "metadata": {
        "id": "h9q788LaK9WQ"
      },
      "outputs": [],
      "source": [
        "dataFrame.state = label_encoder.fit_transform(dataFrame.state)"
      ]
    },
    {
      "cell_type": "code",
      "execution_count": null,
      "metadata": {
        "colab": {
          "base_uri": "https://localhost:8080/"
        },
        "id": "y9r_Ine6Lb8i",
        "outputId": "6b112514-c1a4-4956-d561-9afa6d8c10cd"
      },
      "outputs": [
        {
          "data": {
            "text/plain": [
              "Armed forces technical officer       100.000000\n",
              "Engineer, site                       100.000000\n",
              "Information officer                  100.000000\n",
              "Legal secretary                      100.000000\n",
              "Industrial buyer                     100.000000\n",
              "Careers adviser                      100.000000\n",
              "Homeopath                            100.000000\n",
              "Broadcast journalist                 100.000000\n",
              "Personnel officer                    100.000000\n",
              "Forest/woodland manager              100.000000\n",
              "Sales promotion account executive    100.000000\n",
              "Air traffic controller               100.000000\n",
              "Contracting civil engineer           100.000000\n",
              "Ship broker                          100.000000\n",
              "Solicitor                            100.000000\n",
              "Accountant, chartered                100.000000\n",
              "Dancer                               100.000000\n",
              "Warehouse manager                    100.000000\n",
              "Veterinary surgeon                   100.000000\n",
              "Lawyer                                 5.185185\n",
              "TEFL teacher                           4.127580\n",
              "Community development worker           4.104478\n",
              "Clinical cytogeneticist                3.543307\n",
              "Writer                                 2.976190\n",
              "Geneticist, molecular                  2.935780\n",
              "Conservator, museum/gallery            2.918288\n",
              "Magazine journalist                    2.626642\n",
              "Field trials officer                   2.509653\n",
              "Civil Service administrator            2.371542\n",
              "Medical technical officer              2.345216\n",
              "dtype: float64"
            ]
          },
          "execution_count": 32,
          "metadata": {},
          "output_type": "execute_result"
        }
      ],
      "source": [
        "job_tran_total = dataFrame.sort_values('job').groupby('job').count()['is_fraud']\n",
        "job_tran_fraud = dataFrame[dataFrame.is_fraud == 1]['job'].value_counts()\n",
        "fraud_perc = job_tran_fraud/ job_tran_total * 100\n",
        "fraud_perc.sort_values(ascending=False).head(30)"
      ]
    },
    {
      "cell_type": "code",
      "execution_count": null,
      "metadata": {
        "id": "_eJh47cyLuCS"
      },
      "outputs": [],
      "source": [
        "dataFrame.job = label_encoder.fit_transform(dataFrame.job)"
      ]
    },
    {
      "cell_type": "code",
      "execution_count": null,
      "metadata": {
        "colab": {
          "base_uri": "https://localhost:8080/",
          "height": 279
        },
        "id": "0BH1MgR-MG7H",
        "outputId": "f8ebaeb6-e777-4ba4-a3d2-a4fd613eae70"
      },
      "outputs": [
        {
          "data": {
            "image/png": "[encoded data removed]",
            "text/plain": [
              "<Figure size 432x288 with 1 Axes>"
            ]
          },
          "metadata": {},
          "output_type": "display_data"
        }
      ],
      "source": [
        "temp = dataFrame[dataFrame.is_fraud == 1]\n",
        "plt.title('Distribution of Age', fontsize= 10, color = 'Red', fontweight = 100)\n",
        "plt.hist(temp.age, edgecolor='Black')\n",
        "plt.xticks(np.arange(10, 100, step=10))\n",
        "plt.show()"
      ]
    },
    {
      "cell_type": "code",
      "execution_count": null,
      "metadata": {
        "colab": {
          "base_uri": "https://localhost:8080/",
          "height": 327
        },
        "id": "M17_Enr4Qmw4",
        "outputId": "34aab020-10dc-4617-cc4d-5ad3b8fb2abe"
      },
      "outputs": [
        {
          "data": {
            "image/png": "[encoded data removed]",
            "text/plain": [
              "<Figure size 1080x360 with 1 Axes>"
            ]
          },
          "metadata": {},
          "output_type": "display_data"
        }
      ],
      "source": [
        "dataFrame['trans_date'] =  pd.to_datetime(dataFrame['trans_date'])\n",
        "plt.figure(figsize=[15,5])\n",
        "dataFrame.groupby(['trans_date'])['is_fraud'].sum().plot()\n",
        "plt.show()"
      ]
    },
    {
      "cell_type": "code",
      "execution_count": null,
      "metadata": {
        "colab": {
          "base_uri": "https://localhost:8080/"
        },
        "id": "MyhduPnQQ-cO",
        "outputId": "ecb2644c-dafa-41ac-ae4a-b690bb0dd526"
      },
      "outputs": [
        {
          "name": "stdout",
          "output_type": "stream",
          "text": [
            "<class 'pandas.core.frame.DataFrame'>\n",
            "RangeIndex: 2593350 entries, 0 to 2593349\n",
            "Data columns (total 11 columns):\n",
            " #   Column      Dtype         \n",
            "---  ------      -----         \n",
            " 0   merchant    int64         \n",
            " 1   category    int64         \n",
            " 2   amt         float64       \n",
            " 3   gender      int64         \n",
            " 4   city        int64         \n",
            " 5   state       int64         \n",
            " 6   job         int64         \n",
            " 7   is_fraud    int64         \n",
            " 8   age         int64         \n",
            " 9   trans_date  datetime64[ns]\n",
            " 10  trans_time  object        \n",
            "dtypes: datetime64[ns](1), float64(1), int64(8), object(1)\n",
            "memory usage: 217.6+ MB\n"
          ]
        }
      ],
      "source": [
        "dataFrame.info()"
      ]
    },
    {
      "cell_type": "code",
      "execution_count": null,
      "metadata": {
        "id": "Y_JyNZU0RsIm"
      },
      "outputs": [],
      "source": [
        "dataFrame['trans_date'] =  pd.to_datetime(dataFrame['trans_date'])\n",
        "dataFrame.trans_date = dataFrame.trans_date.map(dt.datetime.toordinal)\n",
        "dataFrame.trans_time = pd.to_datetime(dataFrame.trans_time,format='%H:%M:%S')\n",
        "dataFrame.trans_time = 3600 * pd.DatetimeIndex(dataFrame.trans_time).hour + 60 * pd.DatetimeIndex(dataFrame.trans_time).minute + pd.DatetimeIndex(dataFrame.trans_time).second"
      ]
    },
    {
      "cell_type": "code",
      "execution_count": null,
      "metadata": {
        "colab": {
          "base_uri": "https://localhost:8080/"
        },
        "id": "G5tX3Yj8SRns",
        "outputId": "2a541b48-1144-4c31-d413-394cb3d21702"
      },
      "outputs": [
        {
          "name": "stdout",
          "output_type": "stream",
          "text": [
            "<class 'pandas.core.frame.DataFrame'>\n",
            "RangeIndex: 2593350 entries, 0 to 2593349\n",
            "Data columns (total 11 columns):\n",
            " #   Column      Dtype  \n",
            "---  ------      -----  \n",
            " 0   merchant    int64  \n",
            " 1   category    int64  \n",
            " 2   amt         float64\n",
            " 3   gender      int64  \n",
            " 4   city        int64  \n",
            " 5   state       int64  \n",
            " 6   job         int64  \n",
            " 7   is_fraud    int64  \n",
            " 8   age         int64  \n",
            " 9   trans_date  int64  \n",
            " 10  trans_time  int64  \n",
            "dtypes: float64(1), int64(10)\n",
            "memory usage: 217.6 MB\n"
          ]
        }
      ],
      "source": [
        "dataFrame.info()"
      ]
    },
    {
      "cell_type": "code",
      "execution_count": null,
      "metadata": {
        "colab": {
          "base_uri": "https://localhost:8080/"
        },
        "id": "gIx2SKVASfE9",
        "outputId": "bc4c0fb4-e240-4e54-e10b-bc83c822dccd"
      },
      "outputs": [
        {
          "name": "stdout",
          "output_type": "stream",
          "text": [
            "fraudcard 15012\n",
            "notfraudcard 2578338\n",
            "percentage of fraud cards 0.5788651743883394\n"
          ]
        }
      ],
      "source": [
        "not_fraud=len(dataFrame[dataFrame.is_fraud==0])\n",
        "fraud=len(dataFrame[dataFrame.is_fraud==1])\n",
        "percentage=fraud/(fraud+not_fraud)*100\n",
        "print('fraudcard',fraud)\n",
        "print('notfraudcard',not_fraud)\n",
        "print('percentage of fraud cards',percentage)"
      ]
    },
    {
      "cell_type": "code",
      "execution_count": null,
      "metadata": {
        "id": "SegdENFqfj-I"
      },
      "outputs": [],
      "source": []
    },
    {
      "cell_type": "markdown",
      "metadata": {
        "id": "F6RKyDCKfj-I"
      },
      "source": [
        "### Implementing Decision Tree algorithm"
      ]
    },
    {
      "cell_type": "code",
      "execution_count": null,
      "metadata": {
        "id": "71C5rllVfj-J"
      },
      "outputs": [],
      "source": [
        "#storing the number of values in each class\n",
        "non_fraud_count, fraud_count = dataFrame.is_fraud.value_counts()"
      ]
    },
    {
      "cell_type": "code",
      "execution_count": null,
      "metadata": {
        "colab": {
          "base_uri": "https://localhost:8080/"
        },
        "id": "4xB3ufK3fj-J",
        "outputId": "7fc9e6a4-79cc-4490-d59e-8a7240cea924"
      },
      "outputs": [
        {
          "data": {
            "text/plain": [
              "Index(['merchant', 'category', 'amt', 'gender', 'city', 'state', 'job',\n",
              "       'is_fraud', 'age', 'trans_date', 'trans_time'],\n",
              "      dtype='object')"
            ]
          },
          "execution_count": 41,
          "metadata": {},
          "output_type": "execute_result"
        }
      ],
      "source": [
        "#storing the numerical columns of the data and removing unnecessary variables\n",
        "df_num = dataFrame.select_dtypes(include='number')\n",
        "df_num.columns"
      ]
    },
    {
      "cell_type": "code",
      "execution_count": null,
      "metadata": {
        "colab": {
          "base_uri": "https://localhost:8080/",
          "height": 424
        },
        "id": "wohDbAtV34wa",
        "outputId": "3e816f42-21b6-462c-f171-a9fadb6ffb20"
      },
      "outputs": [
        {
          "data": {
            "text/html": [
              "\n",
              "  <div id=\"df-78e9acb3-eb1a-48c9-8d76-ce0bba83f423\">\n",
              "    <div class=\"colab-df-container\">\n",
              "      <div>\n",
              "<style scoped>\n",
              "    .dataframe tbody tr th:only-of-type {\n",
              "        vertical-align: middle;\n",
              "    }\n",
              "\n",
              "    .dataframe tbody tr th {\n",
              "        vertical-align: top;\n",
              "    }\n",
              "\n",
              "    .dataframe thead th {\n",
              "        text-align: right;\n",
              "    }\n",
              "</style>\n",
              "<table border=\"1\" class=\"dataframe\">\n",
              "  <thead>\n",
              "    <tr style=\"text-align: right;\">\n",
              "      <th></th>\n",
              "      <th>merchant</th>\n",
              "      <th>category</th>\n",
              "      <th>amt</th>\n",
              "      <th>gender</th>\n",
              "      <th>city</th>\n",
              "      <th>state</th>\n",
              "      <th>job</th>\n",
              "      <th>is_fraud</th>\n",
              "      <th>age</th>\n",
              "      <th>trans_date</th>\n",
              "      <th>trans_time</th>\n",
              "    </tr>\n",
              "  </thead>\n",
              "  <tbody>\n",
              "    <tr>\n",
              "      <th>0</th>\n",
              "      <td>514</td>\n",
              "      <td>8</td>\n",
              "      <td>4.97</td>\n",
              "      <td>0</td>\n",
              "      <td>526</td>\n",
              "      <td>27</td>\n",
              "      <td>370</td>\n",
              "      <td>0</td>\n",
              "      <td>34</td>\n",
              "      <td>737060</td>\n",
              "      <td>18</td>\n",
              "    </tr>\n",
              "    <tr>\n",
              "      <th>1</th>\n",
              "      <td>241</td>\n",
              "      <td>4</td>\n",
              "      <td>107.23</td>\n",
              "      <td>0</td>\n",
              "      <td>612</td>\n",
              "      <td>47</td>\n",
              "      <td>428</td>\n",
              "      <td>0</td>\n",
              "      <td>44</td>\n",
              "      <td>737060</td>\n",
              "      <td>44</td>\n",
              "    </tr>\n",
              "    <tr>\n",
              "      <th>2</th>\n",
              "      <td>390</td>\n",
              "      <td>0</td>\n",
              "      <td>220.11</td>\n",
              "      <td>1</td>\n",
              "      <td>468</td>\n",
              "      <td>13</td>\n",
              "      <td>307</td>\n",
              "      <td>0</td>\n",
              "      <td>60</td>\n",
              "      <td>737060</td>\n",
              "      <td>51</td>\n",
              "    </tr>\n",
              "    <tr>\n",
              "      <th>3</th>\n",
              "      <td>360</td>\n",
              "      <td>2</td>\n",
              "      <td>45.00</td>\n",
              "      <td>1</td>\n",
              "      <td>84</td>\n",
              "      <td>26</td>\n",
              "      <td>328</td>\n",
              "      <td>0</td>\n",
              "      <td>55</td>\n",
              "      <td>737060</td>\n",
              "      <td>76</td>\n",
              "    </tr>\n",
              "    <tr>\n",
              "      <th>4</th>\n",
              "      <td>297</td>\n",
              "      <td>9</td>\n",
              "      <td>41.96</td>\n",
              "      <td>1</td>\n",
              "      <td>216</td>\n",
              "      <td>45</td>\n",
              "      <td>116</td>\n",
              "      <td>0</td>\n",
              "      <td>36</td>\n",
              "      <td>737060</td>\n",
              "      <td>186</td>\n",
              "    </tr>\n",
              "    <tr>\n",
              "      <th>...</th>\n",
              "      <td>...</td>\n",
              "      <td>...</td>\n",
              "      <td>...</td>\n",
              "      <td>...</td>\n",
              "      <td>...</td>\n",
              "      <td>...</td>\n",
              "      <td>...</td>\n",
              "      <td>...</td>\n",
              "      <td>...</td>\n",
              "      <td>...</td>\n",
              "      <td>...</td>\n",
              "    </tr>\n",
              "    <tr>\n",
              "      <th>2593345</th>\n",
              "      <td>499</td>\n",
              "      <td>0</td>\n",
              "      <td>15.56</td>\n",
              "      <td>1</td>\n",
              "      <td>330</td>\n",
              "      <td>44</td>\n",
              "      <td>215</td>\n",
              "      <td>0</td>\n",
              "      <td>60</td>\n",
              "      <td>737597</td>\n",
              "      <td>43928</td>\n",
              "    </tr>\n",
              "    <tr>\n",
              "      <th>2593346</th>\n",
              "      <td>2</td>\n",
              "      <td>1</td>\n",
              "      <td>51.70</td>\n",
              "      <td>1</td>\n",
              "      <td>813</td>\n",
              "      <td>20</td>\n",
              "      <td>360</td>\n",
              "      <td>0</td>\n",
              "      <td>42</td>\n",
              "      <td>737597</td>\n",
              "      <td>43939</td>\n",
              "    </tr>\n",
              "    <tr>\n",
              "      <th>2593347</th>\n",
              "      <td>599</td>\n",
              "      <td>1</td>\n",
              "      <td>105.93</td>\n",
              "      <td>1</td>\n",
              "      <td>346</td>\n",
              "      <td>32</td>\n",
              "      <td>308</td>\n",
              "      <td>0</td>\n",
              "      <td>54</td>\n",
              "      <td>737597</td>\n",
              "      <td>43952</td>\n",
              "    </tr>\n",
              "    <tr>\n",
              "      <th>2593348</th>\n",
              "      <td>509</td>\n",
              "      <td>1</td>\n",
              "      <td>74.90</td>\n",
              "      <td>1</td>\n",
              "      <td>471</td>\n",
              "      <td>41</td>\n",
              "      <td>485</td>\n",
              "      <td>0</td>\n",
              "      <td>41</td>\n",
              "      <td>737597</td>\n",
              "      <td>44016</td>\n",
              "    </tr>\n",
              "    <tr>\n",
              "      <th>2593349</th>\n",
              "      <td>370</td>\n",
              "      <td>1</td>\n",
              "      <td>4.30</td>\n",
              "      <td>1</td>\n",
              "      <td>782</td>\n",
              "      <td>26</td>\n",
              "      <td>467</td>\n",
              "      <td>0</td>\n",
              "      <td>26</td>\n",
              "      <td>737597</td>\n",
              "      <td>44017</td>\n",
              "    </tr>\n",
              "  </tbody>\n",
              "</table>\n",
              "<p>2593350 rows × 11 columns</p>\n",
              "</div>\n",
              "      <button class=\"colab-df-convert\" onclick=\"convertToInteractive('df-78e9acb3-eb1a-48c9-8d76-ce0bba83f423')\"\n",
              "              title=\"Convert this dataframe to an interactive table.\"\n",
              "              style=\"display:none;\">\n",
              "        \n",
              "  <svg xmlns=\"http://www.w3.org/2000/svg\" height=\"24px\"viewBox=\"0 0 24 24\"\n",
              "       width=\"24px\">\n",
              "    <path d=\"M0 0h24v24H0V0z\" fill=\"none\"/>\n",
              "    <path d=\"M18.56 5.44l.94 2.06.94-2.06 2.06-.94-2.06-.94-.94-2.06-.94 2.06-2.06.94zm-11 1L8.5 8.5l.94-2.06 2.06-.94-2.06-.94L8.5 2.5l-.94 2.06-2.06.94zm10 10l.94 2.06.94-2.06 2.06-.94-2.06-.94-.94-2.06-.94 2.06-2.06.94z\"/><path d=\"M17.41 7.96l-1.37-1.37c-.4-.4-.92-.59-1.43-.59-.52 0-1.04.2-1.43.59L10.3 9.45l-7.72 7.72c-.78.78-.78 2.05 0 2.83L4 21.41c.39.39.9.59 1.41.59.51 0 1.02-.2 1.41-.59l7.78-7.78 2.81-2.81c.8-.78.8-2.07 0-2.86zM5.41 20L4 18.59l7.72-7.72 1.47 1.35L5.41 20z\"/>\n",
              "  </svg>\n",
              "      </button>\n",
              "      \n",
              "  <style>\n",
              "    .colab-df-container {\n",
              "      display:flex;\n",
              "      flex-wrap:wrap;\n",
              "      gap: 12px;\n",
              "    }\n",
              "\n",
              "    .colab-df-convert {\n",
              "      background-color: #E8F0FE;\n",
              "      border: none;\n",
              "      border-radius: 50%;\n",
              "      cursor: pointer;\n",
              "      display: none;\n",
              "      fill: #1967D2;\n",
              "      height: 32px;\n",
              "      padding: 0 0 0 0;\n",
              "      width: 32px;\n",
              "    }\n",
              "\n",
              "    .colab-df-convert:hover {\n",
              "      background-color: #E2EBFA;\n",
              "      box-shadow: 0px 1px 2px rgba(60, 64, 67, 0.3), 0px 1px 3px 1px rgba(60, 64, 67, 0.15);\n",
              "      fill: #174EA6;\n",
              "    }\n",
              "\n",
              "    [theme=dark] .colab-df-convert {\n",
              "      background-color: #3B4455;\n",
              "      fill: #D2E3FC;\n",
              "    }\n",
              "\n",
              "    [theme=dark] .colab-df-convert:hover {\n",
              "      background-color: #434B5C;\n",
              "      box-shadow: 0px 1px 3px 1px rgba(0, 0, 0, 0.15);\n",
              "      filter: drop-shadow(0px 1px 2px rgba(0, 0, 0, 0.3));\n",
              "      fill: #FFFFFF;\n",
              "    }\n",
              "  </style>\n",
              "\n",
              "      <script>\n",
              "        const buttonEl =\n",
              "          document.querySelector('#df-78e9acb3-eb1a-48c9-8d76-ce0bba83f423 button.colab-df-convert');\n",
              "        buttonEl.style.display =\n",
              "          google.colab.kernel.accessAllowed ? 'block' : 'none';\n",
              "\n",
              "        async function convertToInteractive(key) {\n",
              "          const element = document.querySelector('#df-78e9acb3-eb1a-48c9-8d76-ce0bba83f423');\n",
              "          const dataTable =\n",
              "            await google.colab.kernel.invokeFunction('convertToInteractive',\n",
              "                                                     [key], {});\n",
              "          if (!dataTable) return;\n",
              "\n",
              "          const docLinkHtml = 'Like what you see? Visit the ' +\n",
              "            '<a target=\"_blank\" href=https://colab.research.google.com/notebooks/data_table.ipynb>data table notebook</a>'\n",
              "            + ' to learn more about interactive tables.';\n",
              "          element.innerHTML = '';\n",
              "          dataTable['output_type'] = 'display_data';\n",
              "          await google.colab.output.renderOutput(dataTable, element);\n",
              "          const docLink = document.createElement('div');\n",
              "          docLink.innerHTML = docLinkHtml;\n",
              "          element.appendChild(docLink);\n",
              "        }\n",
              "      </script>\n",
              "    </div>\n",
              "  </div>\n",
              "  "
            ],
            "text/plain": [
              "         merchant  category     amt  gender  city  state  job  is_fraud  age  \\\n",
              "0             514         8    4.97       0   526     27  370         0   34   \n",
              "1             241         4  107.23       0   612     47  428         0   44   \n",
              "2             390         0  220.11       1   468     13  307         0   60   \n",
              "3             360         2   45.00       1    84     26  328         0   55   \n",
              "4             297         9   41.96       1   216     45  116         0   36   \n",
              "...           ...       ...     ...     ...   ...    ...  ...       ...  ...   \n",
              "2593345       499         0   15.56       1   330     44  215         0   60   \n",
              "2593346         2         1   51.70       1   813     20  360         0   42   \n",
              "2593347       599         1  105.93       1   346     32  308         0   54   \n",
              "2593348       509         1   74.90       1   471     41  485         0   41   \n",
              "2593349       370         1    4.30       1   782     26  467         0   26   \n",
              "\n",
              "         trans_date  trans_time  \n",
              "0            737060          18  \n",
              "1            737060          44  \n",
              "2            737060          51  \n",
              "3            737060          76  \n",
              "4            737060         186  \n",
              "...             ...         ...  \n",
              "2593345      737597       43928  \n",
              "2593346      737597       43939  \n",
              "2593347      737597       43952  \n",
              "2593348      737597       44016  \n",
              "2593349      737597       44017  \n",
              "\n",
              "[2593350 rows x 11 columns]"
            ]
          },
          "execution_count": 42,
          "metadata": {},
          "output_type": "execute_result"
        }
      ],
      "source": [
        "df_num"
      ]
    },
    {
      "cell_type": "code",
      "execution_count": null,
      "metadata": {
        "colab": {
          "base_uri": "https://localhost:8080/",
          "height": 300
        },
        "id": "uSxYLADf6bYT",
        "outputId": "4a865b2a-e903-46ee-a63a-c261fd23433a"
      },
      "outputs": [
        {
          "data": {
            "text/html": [
              "\n",
              "  <div id=\"df-689b6777-f0f7-4f43-8749-fb86064824ad\">\n",
              "    <div class=\"colab-df-container\">\n",
              "      <div>\n",
              "<style scoped>\n",
              "    .dataframe tbody tr th:only-of-type {\n",
              "        vertical-align: middle;\n",
              "    }\n",
              "\n",
              "    .dataframe tbody tr th {\n",
              "        vertical-align: top;\n",
              "    }\n",
              "\n",
              "    .dataframe thead th {\n",
              "        text-align: right;\n",
              "    }\n",
              "</style>\n",
              "<table border=\"1\" class=\"dataframe\">\n",
              "  <thead>\n",
              "    <tr style=\"text-align: right;\">\n",
              "      <th></th>\n",
              "      <th>merchant</th>\n",
              "      <th>category</th>\n",
              "      <th>amt</th>\n",
              "      <th>gender</th>\n",
              "      <th>city</th>\n",
              "      <th>state</th>\n",
              "      <th>job</th>\n",
              "      <th>is_fraud</th>\n",
              "      <th>age</th>\n",
              "      <th>trans_date</th>\n",
              "      <th>trans_time</th>\n",
              "    </tr>\n",
              "  </thead>\n",
              "  <tbody>\n",
              "    <tr>\n",
              "      <th>count</th>\n",
              "      <td>2.593350e+06</td>\n",
              "      <td>2.593350e+06</td>\n",
              "      <td>2.593350e+06</td>\n",
              "      <td>2.593350e+06</td>\n",
              "      <td>2.593350e+06</td>\n",
              "      <td>2.593350e+06</td>\n",
              "      <td>2.593350e+06</td>\n",
              "      <td>2.593350e+06</td>\n",
              "      <td>2.593350e+06</td>\n",
              "      <td>2.593350e+06</td>\n",
              "      <td>2.593350e+06</td>\n",
              "    </tr>\n",
              "    <tr>\n",
              "      <th>mean</th>\n",
              "      <td>3.428585e+02</td>\n",
              "      <td>6.227787e+00</td>\n",
              "      <td>7.035104e+01</td>\n",
              "      <td>4.525513e-01</td>\n",
              "      <td>4.452633e+02</td>\n",
              "      <td>2.667728e+01</td>\n",
              "      <td>2.511734e+02</td>\n",
              "      <td>5.788652e-03</td>\n",
              "      <td>4.829300e+01</td>\n",
              "      <td>7.373350e+05</td>\n",
              "      <td>4.789671e+04</td>\n",
              "    </tr>\n",
              "    <tr>\n",
              "      <th>std</th>\n",
              "      <td>2.009519e+02</td>\n",
              "      <td>3.913442e+00</td>\n",
              "      <td>1.603160e+02</td>\n",
              "      <td>4.977436e-01</td>\n",
              "      <td>2.586001e+02</td>\n",
              "      <td>1.433098e+01</td>\n",
              "      <td>1.401093e+02</td>\n",
              "      <td>7.586268e-02</td>\n",
              "      <td>1.739244e+01</td>\n",
              "      <td>1.487899e+02</td>\n",
              "      <td>2.456550e+04</td>\n",
              "    </tr>\n",
              "    <tr>\n",
              "      <th>min</th>\n",
              "      <td>0.000000e+00</td>\n",
              "      <td>0.000000e+00</td>\n",
              "      <td>1.000000e+00</td>\n",
              "      <td>0.000000e+00</td>\n",
              "      <td>0.000000e+00</td>\n",
              "      <td>0.000000e+00</td>\n",
              "      <td>0.000000e+00</td>\n",
              "      <td>0.000000e+00</td>\n",
              "      <td>1.700000e+01</td>\n",
              "      <td>7.370600e+05</td>\n",
              "      <td>0.000000e+00</td>\n",
              "    </tr>\n",
              "    <tr>\n",
              "      <th>25%</th>\n",
              "      <td>1.650000e+02</td>\n",
              "      <td>3.000000e+00</td>\n",
              "      <td>9.650000e+00</td>\n",
              "      <td>0.000000e+00</td>\n",
              "      <td>2.240000e+02</td>\n",
              "      <td>1.500000e+01</td>\n",
              "      <td>1.310000e+02</td>\n",
              "      <td>0.000000e+00</td>\n",
              "      <td>3.500000e+01</td>\n",
              "      <td>7.372130e+05</td>\n",
              "      <td>2.749925e+04</td>\n",
              "    </tr>\n",
              "    <tr>\n",
              "      <th>50%</th>\n",
              "      <td>3.460000e+02</td>\n",
              "      <td>6.000000e+00</td>\n",
              "      <td>4.752000e+01</td>\n",
              "      <td>0.000000e+00</td>\n",
              "      <td>4.390000e+02</td>\n",
              "      <td>2.800000e+01</td>\n",
              "      <td>2.510000e+02</td>\n",
              "      <td>0.000000e+00</td>\n",
              "      <td>4.600000e+01</td>\n",
              "      <td>7.373350e+05</td>\n",
              "      <td>5.091800e+04</td>\n",
              "    </tr>\n",
              "    <tr>\n",
              "      <th>75%</th>\n",
              "      <td>5.140000e+02</td>\n",
              "      <td>1.000000e+01</td>\n",
              "      <td>8.314000e+01</td>\n",
              "      <td>1.000000e+00</td>\n",
              "      <td>6.770000e+02</td>\n",
              "      <td>3.800000e+01</td>\n",
              "      <td>3.740000e+02</td>\n",
              "      <td>0.000000e+00</td>\n",
              "      <td>5.900000e+01</td>\n",
              "      <td>7.374520e+05</td>\n",
              "      <td>6.873400e+04</td>\n",
              "    </tr>\n",
              "    <tr>\n",
              "      <th>max</th>\n",
              "      <td>6.920000e+02</td>\n",
              "      <td>1.300000e+01</td>\n",
              "      <td>2.894890e+04</td>\n",
              "      <td>1.000000e+00</td>\n",
              "      <td>8.930000e+02</td>\n",
              "      <td>5.000000e+01</td>\n",
              "      <td>4.930000e+02</td>\n",
              "      <td>1.000000e+00</td>\n",
              "      <td>9.700000e+01</td>\n",
              "      <td>7.375970e+05</td>\n",
              "      <td>8.639900e+04</td>\n",
              "    </tr>\n",
              "  </tbody>\n",
              "</table>\n",
              "</div>\n",
              "      <button class=\"colab-df-convert\" onclick=\"convertToInteractive('df-689b6777-f0f7-4f43-8749-fb86064824ad')\"\n",
              "              title=\"Convert this dataframe to an interactive table.\"\n",
              "              style=\"display:none;\">\n",
              "        \n",
              "  <svg xmlns=\"http://www.w3.org/2000/svg\" height=\"24px\"viewBox=\"0 0 24 24\"\n",
              "       width=\"24px\">\n",
              "    <path d=\"M0 0h24v24H0V0z\" fill=\"none\"/>\n",
              "    <path d=\"M18.56 5.44l.94 2.06.94-2.06 2.06-.94-2.06-.94-.94-2.06-.94 2.06-2.06.94zm-11 1L8.5 8.5l.94-2.06 2.06-.94-2.06-.94L8.5 2.5l-.94 2.06-2.06.94zm10 10l.94 2.06.94-2.06 2.06-.94-2.06-.94-.94-2.06-.94 2.06-2.06.94z\"/><path d=\"M17.41 7.96l-1.37-1.37c-.4-.4-.92-.59-1.43-.59-.52 0-1.04.2-1.43.59L10.3 9.45l-7.72 7.72c-.78.78-.78 2.05 0 2.83L4 21.41c.39.39.9.59 1.41.59.51 0 1.02-.2 1.41-.59l7.78-7.78 2.81-2.81c.8-.78.8-2.07 0-2.86zM5.41 20L4 18.59l7.72-7.72 1.47 1.35L5.41 20z\"/>\n",
              "  </svg>\n",
              "      </button>\n",
              "      \n",
              "  <style>\n",
              "    .colab-df-container {\n",
              "      display:flex;\n",
              "      flex-wrap:wrap;\n",
              "      gap: 12px;\n",
              "    }\n",
              "\n",
              "    .colab-df-convert {\n",
              "      background-color: #E8F0FE;\n",
              "      border: none;\n",
              "      border-radius: 50%;\n",
              "      cursor: pointer;\n",
              "      display: none;\n",
              "      fill: #1967D2;\n",
              "      height: 32px;\n",
              "      padding: 0 0 0 0;\n",
              "      width: 32px;\n",
              "    }\n",
              "\n",
              "    .colab-df-convert:hover {\n",
              "      background-color: #E2EBFA;\n",
              "      box-shadow: 0px 1px 2px rgba(60, 64, 67, 0.3), 0px 1px 3px 1px rgba(60, 64, 67, 0.15);\n",
              "      fill: #174EA6;\n",
              "    }\n",
              "\n",
              "    [theme=dark] .colab-df-convert {\n",
              "      background-color: #3B4455;\n",
              "      fill: #D2E3FC;\n",
              "    }\n",
              "\n",
              "    [theme=dark] .colab-df-convert:hover {\n",
              "      background-color: #434B5C;\n",
              "      box-shadow: 0px 1px 3px 1px rgba(0, 0, 0, 0.15);\n",
              "      filter: drop-shadow(0px 1px 2px rgba(0, 0, 0, 0.3));\n",
              "      fill: #FFFFFF;\n",
              "    }\n",
              "  </style>\n",
              "\n",
              "      <script>\n",
              "        const buttonEl =\n",
              "          document.querySelector('#df-689b6777-f0f7-4f43-8749-fb86064824ad button.colab-df-convert');\n",
              "        buttonEl.style.display =\n",
              "          google.colab.kernel.accessAllowed ? 'block' : 'none';\n",
              "\n",
              "        async function convertToInteractive(key) {\n",
              "          const element = document.querySelector('#df-689b6777-f0f7-4f43-8749-fb86064824ad');\n",
              "          const dataTable =\n",
              "            await google.colab.kernel.invokeFunction('convertToInteractive',\n",
              "                                                     [key], {});\n",
              "          if (!dataTable) return;\n",
              "\n",
              "          const docLinkHtml = 'Like what you see? Visit the ' +\n",
              "            '<a target=\"_blank\" href=https://colab.research.google.com/notebooks/data_table.ipynb>data table notebook</a>'\n",
              "            + ' to learn more about interactive tables.';\n",
              "          element.innerHTML = '';\n",
              "          dataTable['output_type'] = 'display_data';\n",
              "          await google.colab.output.renderOutput(dataTable, element);\n",
              "          const docLink = document.createElement('div');\n",
              "          docLink.innerHTML = docLinkHtml;\n",
              "          element.appendChild(docLink);\n",
              "        }\n",
              "      </script>\n",
              "    </div>\n",
              "  </div>\n",
              "  "
            ],
            "text/plain": [
              "           merchant      category           amt        gender          city  \\\n",
              "count  2.593350e+06  2.593350e+06  2.593350e+06  2.593350e+06  2.593350e+06   \n",
              "mean   3.428585e+02  6.227787e+00  7.035104e+01  4.525513e-01  4.452633e+02   \n",
              "std    2.009519e+02  3.913442e+00  1.603160e+02  4.977436e-01  2.586001e+02   \n",
              "min    0.000000e+00  0.000000e+00  1.000000e+00  0.000000e+00  0.000000e+00   \n",
              "25%    1.650000e+02  3.000000e+00  9.650000e+00  0.000000e+00  2.240000e+02   \n",
              "50%    3.460000e+02  6.000000e+00  4.752000e+01  0.000000e+00  4.390000e+02   \n",
              "75%    5.140000e+02  1.000000e+01  8.314000e+01  1.000000e+00  6.770000e+02   \n",
              "max    6.920000e+02  1.300000e+01  2.894890e+04  1.000000e+00  8.930000e+02   \n",
              "\n",
              "              state           job      is_fraud           age    trans_date  \\\n",
              "count  2.593350e+06  2.593350e+06  2.593350e+06  2.593350e+06  2.593350e+06   \n",
              "mean   2.667728e+01  2.511734e+02  5.788652e-03  4.829300e+01  7.373350e+05   \n",
              "std    1.433098e+01  1.401093e+02  7.586268e-02  1.739244e+01  1.487899e+02   \n",
              "min    0.000000e+00  0.000000e+00  0.000000e+00  1.700000e+01  7.370600e+05   \n",
              "25%    1.500000e+01  1.310000e+02  0.000000e+00  3.500000e+01  7.372130e+05   \n",
              "50%    2.800000e+01  2.510000e+02  0.000000e+00  4.600000e+01  7.373350e+05   \n",
              "75%    3.800000e+01  3.740000e+02  0.000000e+00  5.900000e+01  7.374520e+05   \n",
              "max    5.000000e+01  4.930000e+02  1.000000e+00  9.700000e+01  7.375970e+05   \n",
              "\n",
              "         trans_time  \n",
              "count  2.593350e+06  \n",
              "mean   4.789671e+04  \n",
              "std    2.456550e+04  \n",
              "min    0.000000e+00  \n",
              "25%    2.749925e+04  \n",
              "50%    5.091800e+04  \n",
              "75%    6.873400e+04  \n",
              "max    8.639900e+04  "
            ]
          },
          "execution_count": 43,
          "metadata": {},
          "output_type": "execute_result"
        }
      ],
      "source": [
        "df_num.describe()"
      ]
    },
    {
      "cell_type": "code",
      "execution_count": null,
      "metadata": {
        "id": "RVnD0wOQfj-J"
      },
      "outputs": [],
      "source": [
        "#innput-output split\n",
        "X = df_num.drop(['is_fraud'],axis=1)\n",
        "y = df_num.is_fraud"
      ]
    },
    {
      "cell_type": "code",
      "execution_count": null,
      "metadata": {
        "id": "kngh_9iLB8Qp"
      },
      "outputs": [],
      "source": [
        "#scaling\n",
        "scaler = StandardScaler()\n",
        "X = scaler.fit_transform(X)"
      ]
    },
    {
      "cell_type": "code",
      "execution_count": null,
      "metadata": {
        "colab": {
          "base_uri": "https://localhost:8080/"
        },
        "id": "kwCWLpN06j1i",
        "outputId": "7b2fcc12-19ec-4153-9d23-702e2f94ad76"
      },
      "outputs": [
        {
          "data": {
            "text/plain": [
              "0    1289169\n",
              "1       7506\n",
              "Name: is_fraud, dtype: int64"
            ]
          },
          "execution_count": 46,
          "metadata": {},
          "output_type": "execute_result"
        }
      ],
      "source": [
        "#train-test split using stratified K fold\n",
        "skf = StratifiedKFold(n_splits=2)\n",
        "skf.get_n_splits(X,y)\n",
        "\n",
        "for train_index, test_index in skf.split(X,y):\n",
        "  X_train, X_test = X[train_index], X[test_index]\n",
        "  y_train, y_test = y[train_index], y[test_index]\n",
        "\n",
        "y_train.value_counts()"
      ]
    },
    {
      "cell_type": "code",
      "execution_count": null,
      "metadata": {
        "id": "CQyQPdZffj-K"
      },
      "outputs": [],
      "source": []
    },
    {
      "cell_type": "code",
      "execution_count": null,
      "metadata": {
        "id": "-S19l83hfj-K"
      },
      "outputs": [],
      "source": []
    },
    {
      "cell_type": "code",
      "execution_count": null,
      "metadata": {
        "colab": {
          "base_uri": "https://localhost:8080/"
        },
        "id": "uoQpoZkGQ3_v",
        "outputId": "cad19d19-712f-4792-9c0e-dba82d847a05"
      },
      "outputs": [
        {
          "data": {
            "text/plain": [
              "0    1289169\n",
              "1       7506\n",
              "Name: is_fraud, dtype: int64"
            ]
          },
          "execution_count": 47,
          "metadata": {},
          "output_type": "execute_result"
        }
      ],
      "source": [
        "y_test.value_counts()"
      ]
    },
    {
      "cell_type": "markdown",
      "metadata": {
        "id": "0KFlTq0Mfj-K"
      },
      "source": [
        "**As you can see**, the classes in the target variable are imbalance. We need to fix this later."
      ]
    },
    {
      "cell_type": "code",
      "execution_count": null,
      "metadata": {
        "colab": {
          "base_uri": "https://localhost:8080/"
        },
        "id": "PMeDB54GBscM",
        "outputId": "c3ad68e2-ede7-417f-9f93-db94f551b333"
      },
      "outputs": [
        {
          "name": "stderr",
          "output_type": "stream",
          "text": [
            "/usr/local/lib/python3.7/dist-packages/sklearn/model_selection/_search.py:296: UserWarning: The total space of parameters 686 is smaller than n_iter=64833. Running 686 iterations. For exhaustive searches, use GridSearchCV.\n",
            "  UserWarning,\n"
          ]
        },
        {
          "name": "stdout",
          "output_type": "stream",
          "text": [
            "{'min_samples_split': 50, 'min_samples_leaf': 100, 'max_depth': 100, 'criterion': 'entropy'}\n"
          ]
        }
      ],
      "source": [
        "\n",
        "dtc1 = DecisionTreeClassifier()\n",
        "\n",
        "params_dtc = {\n",
        "    'max_depth': [2, 4, 8, 10, 20, 50, 100],\n",
        "    'min_samples_leaf': [2, 4, 8, 10, 20, 50, 100],\n",
        "    'min_samples_split' : [2, 4, 8, 10, 20, 50, 100],\n",
        "    'criterion': [\"gini\", \"entropy\"]\n",
        "}\n",
        "\n",
        "halving_random_search=HalvingRandomSearchCV(estimator=dtc1,param_distributions = params_dtc,cv=5)\n",
        "halving_random_search.fit(X_train,y_train)\n",
        "print(halving_random_search.best_params_)"
      ]
    },
    {
      "cell_type": "code",
      "execution_count": null,
      "metadata": {
        "id": "ibGWHYuDBt1J"
      },
      "outputs": [],
      "source": []
    },
    {
      "cell_type": "code",
      "execution_count": null,
      "metadata": {
        "colab": {
          "base_uri": "https://localhost:8080/"
        },
        "id": "qkZh8g2sfj-K",
        "outputId": "afc3d14a-f416-48c3-d153-ad20ece3f546"
      },
      "outputs": [
        {
          "name": "stdout",
          "output_type": "stream",
          "text": [
            "y_train_pred:  [0 0 0 ... 0 0 0]\n",
            "y_test_pred:  [0 0 0 ... 0 0 0]\n"
          ]
        }
      ],
      "source": [
        "# build a pure decision tree classifier\n",
        "DT = DecisionTreeClassifier(max_depth=10, min_samples_leaf= 8, min_samples_split = 2, criterion = 'gini')\n",
        "model = DT.fit(X_train, y_train)\n",
        "y_train_pred = model.predict(X_train)\n",
        "print('y_train_pred: ',y_train_pred)\n",
        "y_test_pred = model.predict(X_test)\n",
        "print('y_test_pred: ', y_test_pred)"
      ]
    },
    {
      "cell_type": "code",
      "execution_count": null,
      "metadata": {
        "colab": {
          "base_uri": "https://localhost:8080/",
          "height": 81
        },
        "id": "N99nVgo4fj-K",
        "outputId": "b9ad5323-b306-42af-c3df-6b6b5bbb7e69"
      },
      "outputs": [
        {
          "data": {
            "text/html": [
              "\n",
              "  <div id=\"df-8a2e9f5c-c67b-452f-a55f-38fa65f651f1\">\n",
              "    <div class=\"colab-df-container\">\n",
              "      <div>\n",
              "<style scoped>\n",
              "    .dataframe tbody tr th:only-of-type {\n",
              "        vertical-align: middle;\n",
              "    }\n",
              "\n",
              "    .dataframe tbody tr th {\n",
              "        vertical-align: top;\n",
              "    }\n",
              "\n",
              "    .dataframe thead th {\n",
              "        text-align: right;\n",
              "    }\n",
              "</style>\n",
              "<table border=\"1\" class=\"dataframe\">\n",
              "  <thead>\n",
              "    <tr style=\"text-align: right;\">\n",
              "      <th></th>\n",
              "      <th>Model Name</th>\n",
              "      <th>Training Score</th>\n",
              "      <th>Testing Score</th>\n",
              "      <th>Accuracy</th>\n",
              "      <th>F1 Score</th>\n",
              "      <th>Precision</th>\n",
              "      <th>Recall</th>\n",
              "    </tr>\n",
              "  </thead>\n",
              "  <tbody>\n",
              "    <tr>\n",
              "      <th>0</th>\n",
              "      <td>Decision Tree - without balancing</td>\n",
              "      <td>0.998717</td>\n",
              "      <td>0.998717</td>\n",
              "      <td>0.998717</td>\n",
              "      <td>0.998668</td>\n",
              "      <td>0.953571</td>\n",
              "      <td>0.818145</td>\n",
              "    </tr>\n",
              "  </tbody>\n",
              "</table>\n",
              "</div>\n",
              "      <button class=\"colab-df-convert\" onclick=\"convertToInteractive('df-8a2e9f5c-c67b-452f-a55f-38fa65f651f1')\"\n",
              "              title=\"Convert this dataframe to an interactive table.\"\n",
              "              style=\"display:none;\">\n",
              "        \n",
              "  <svg xmlns=\"http://www.w3.org/2000/svg\" height=\"24px\"viewBox=\"0 0 24 24\"\n",
              "       width=\"24px\">\n",
              "    <path d=\"M0 0h24v24H0V0z\" fill=\"none\"/>\n",
              "    <path d=\"M18.56 5.44l.94 2.06.94-2.06 2.06-.94-2.06-.94-.94-2.06-.94 2.06-2.06.94zm-11 1L8.5 8.5l.94-2.06 2.06-.94-2.06-.94L8.5 2.5l-.94 2.06-2.06.94zm10 10l.94 2.06.94-2.06 2.06-.94-2.06-.94-.94-2.06-.94 2.06-2.06.94z\"/><path d=\"M17.41 7.96l-1.37-1.37c-.4-.4-.92-.59-1.43-.59-.52 0-1.04.2-1.43.59L10.3 9.45l-7.72 7.72c-.78.78-.78 2.05 0 2.83L4 21.41c.39.39.9.59 1.41.59.51 0 1.02-.2 1.41-.59l7.78-7.78 2.81-2.81c.8-.78.8-2.07 0-2.86zM5.41 20L4 18.59l7.72-7.72 1.47 1.35L5.41 20z\"/>\n",
              "  </svg>\n",
              "      </button>\n",
              "      \n",
              "  <style>\n",
              "    .colab-df-container {\n",
              "      display:flex;\n",
              "      flex-wrap:wrap;\n",
              "      gap: 12px;\n",
              "    }\n",
              "\n",
              "    .colab-df-convert {\n",
              "      background-color: #E8F0FE;\n",
              "      border: none;\n",
              "      border-radius: 50%;\n",
              "      cursor: pointer;\n",
              "      display: none;\n",
              "      fill: #1967D2;\n",
              "      height: 32px;\n",
              "      padding: 0 0 0 0;\n",
              "      width: 32px;\n",
              "    }\n",
              "\n",
              "    .colab-df-convert:hover {\n",
              "      background-color: #E2EBFA;\n",
              "      box-shadow: 0px 1px 2px rgba(60, 64, 67, 0.3), 0px 1px 3px 1px rgba(60, 64, 67, 0.15);\n",
              "      fill: #174EA6;\n",
              "    }\n",
              "\n",
              "    [theme=dark] .colab-df-convert {\n",
              "      background-color: #3B4455;\n",
              "      fill: #D2E3FC;\n",
              "    }\n",
              "\n",
              "    [theme=dark] .colab-df-convert:hover {\n",
              "      background-color: #434B5C;\n",
              "      box-shadow: 0px 1px 3px 1px rgba(0, 0, 0, 0.15);\n",
              "      filter: drop-shadow(0px 1px 2px rgba(0, 0, 0, 0.3));\n",
              "      fill: #FFFFFF;\n",
              "    }\n",
              "  </style>\n",
              "\n",
              "      <script>\n",
              "        const buttonEl =\n",
              "          document.querySelector('#df-8a2e9f5c-c67b-452f-a55f-38fa65f651f1 button.colab-df-convert');\n",
              "        buttonEl.style.display =\n",
              "          google.colab.kernel.accessAllowed ? 'block' : 'none';\n",
              "\n",
              "        async function convertToInteractive(key) {\n",
              "          const element = document.querySelector('#df-8a2e9f5c-c67b-452f-a55f-38fa65f651f1');\n",
              "          const dataTable =\n",
              "            await google.colab.kernel.invokeFunction('convertToInteractive',\n",
              "                                                     [key], {});\n",
              "          if (!dataTable) return;\n",
              "\n",
              "          const docLinkHtml = 'Like what you see? Visit the ' +\n",
              "            '<a target=\"_blank\" href=https://colab.research.google.com/notebooks/data_table.ipynb>data table notebook</a>'\n",
              "            + ' to learn more about interactive tables.';\n",
              "          element.innerHTML = '';\n",
              "          dataTable['output_type'] = 'display_data';\n",
              "          await google.colab.output.renderOutput(dataTable, element);\n",
              "          const docLink = document.createElement('div');\n",
              "          docLink.innerHTML = docLinkHtml;\n",
              "          element.appendChild(docLink);\n",
              "        }\n",
              "      </script>\n",
              "    </div>\n",
              "  </div>\n",
              "  "
            ],
            "text/plain": [
              "                          Model Name  Training Score  Testing Score  Accuracy  \\\n",
              "0  Decision Tree - without balancing        0.998717       0.998717  0.998717   \n",
              "\n",
              "   F1 Score  Precision    Recall  \n",
              "0  0.998668   0.953571  0.818145  "
            ]
          },
          "execution_count": 50,
          "metadata": {},
          "output_type": "execute_result"
        }
      ],
      "source": [
        "#evaluating the model\n",
        "model_name = 'Decision Tree - without balancing'\n",
        "train_score = model.score(X_train,y_train)\n",
        "test_score = model.score(X_test,y_test)\n",
        "\n",
        "acc_score = accuracy_score(y_test,y_test_pred)\n",
        "f_score = f1_score(y_test, y_test_pred, average='weighted')\n",
        "precision = precision_score(y_test, y_test_pred)\n",
        "recall = metrics.recall_score(y_test,y_test_pred)\n",
        "#creating a dataframe to compare the performance of different models\n",
        "model_eval_data = [[model_name, train_score, test_score, acc_score, f_score, precision, recall]]\n",
        "evaluate_df = pd.DataFrame(model_eval_data, columns=['Model Name', 'Training Score', 'Testing Score', 'Accuracy',\n",
        "                                          'F1 Score', 'Precision', 'Recall'])\n",
        "evaluate_df"
      ]
    },
    {
      "cell_type": "markdown",
      "metadata": {
        "id": "qK3quM4Xfj-K"
      },
      "source": [
        "**Notes**\n",
        "\n",
        "- From the above dataframe it can be seen that although we have not balanced the classes in our target variable, the accuracy and several other metrics seem to look great. This is because, since there is no balance in the dataset at this point, the model predicts almost all data points as 'not fraud'.\n",
        "- This does not clearly satify our motive hence, we need to balance the classes in the target variable in order build a fair model."
      ]
    },
    {
      "cell_type": "code",
      "execution_count": null,
      "metadata": {
        "colab": {
          "base_uri": "https://localhost:8080/"
        },
        "id": "vFpwQ4DTfj-K",
        "outputId": "906fd8e3-7d28-42fd-b163-f160f09765c8"
      },
      "outputs": [
        {
          "data": {
            "text/plain": [
              "0    0.994211\n",
              "1    0.005789\n",
              "Name: is_fraud, dtype: float64"
            ]
          },
          "execution_count": 51,
          "metadata": {},
          "output_type": "execute_result"
        }
      ],
      "source": [
        "#renaming X_test and y_test variables\n",
        "test_input = X_test.copy()\n",
        "test_output = y_test.copy()\n",
        "\n",
        "test_output.value_counts(normalize=True)"
      ]
    },
    {
      "cell_type": "code",
      "execution_count": null,
      "metadata": {
        "colab": {
          "base_uri": "https://localhost:8080/"
        },
        "id": "K3dsOFE4pMg4",
        "outputId": "a8260d9e-c52e-4e86-b08a-dcbac0d3ce10"
      },
      "outputs": [
        {
          "data": {
            "text/plain": [
              "0    1289169\n",
              "1       7506\n",
              "Name: is_fraud, dtype: int64"
            ]
          },
          "execution_count": 52,
          "metadata": {},
          "output_type": "execute_result"
        }
      ],
      "source": [
        "test_output.value_counts()\n"
      ]
    },
    {
      "cell_type": "code",
      "execution_count": null,
      "metadata": {
        "colab": {
          "base_uri": "https://localhost:8080/"
        },
        "id": "vHcqi6F2fj-K",
        "outputId": "3735a5b5-4a64-4c77-812d-ad23a4762561"
      },
      "outputs": [
        {
          "name": "stdout",
          "output_type": "stream",
          "text": [
            "fraud data shape:  (15012, 11)\n",
            "non fraud data shape:  (2578338, 11)\n",
            "Fraud Data percentage:  0.5822355331224999\n"
          ]
        }
      ],
      "source": [
        "#storing all fraud transactions\n",
        "fraud_trans = df_num[df_num['is_fraud'] == 1]\n",
        "non_fraud_trans = df_num[df_num['is_fraud'] == 0]\n",
        "\n",
        "print('fraud data shape: ', fraud_trans.shape)\n",
        "print('non fraud data shape: ', non_fraud_trans.shape)\n",
        "\n",
        "#printing fraud data percentage\n",
        "print('Fraud Data percentage: ', 100*(len(fraud_trans)/len(non_fraud_trans)))"
      ]
    },
    {
      "cell_type": "markdown",
      "metadata": {
        "id": "5F3hFyDsfj-K"
      },
      "source": [
        "**Notes:**\n",
        "\n",
        "- it can be observed from the above step that the dataframe is highly imbalanced.\n",
        "- the number of fraudulent transactions are only about 0.5% of the total dataset.\n",
        "- This imbalance might create bias in our model building process\n",
        "- Therefore, we will have to balance the dataset by performing oversampling or undersampling.\n",
        "- And, we will use the stratified k-fold cross validation for training and validating our model with each algorithm used to build the model."
      ]
    },
    {
      "cell_type": "markdown",
      "metadata": {
        "id": "aLO1mvilfj-K"
      },
      "source": [
        "**We will use** 2 methods for handling imbalanced data:\n",
        "1. Undersampling (Random Under Sampling)\n",
        "2. Oversampling (Random Over Sampling)\n",
        "3. Oversampling (using SMOTE)"
      ]
    },
    {
      "cell_type": "markdown",
      "metadata": {
        "id": "9-djoNFSfj-L"
      },
      "source": [
        "**1) Undersampling (Random Under Sampling):**"
      ]
    },
    {
      "cell_type": "markdown",
      "metadata": {
        "id": "aIb8cSjHfj-L"
      },
      "source": [
        "For this, we will use the sample method to randomly choose the total number of data points from majority class as in the minority class."
      ]
    },
    {
      "cell_type": "code",
      "execution_count": null,
      "metadata": {
        "colab": {
          "base_uri": "https://localhost:8080/"
        },
        "id": "ESM_T29xfj-L",
        "outputId": "af2e4bc9-af6f-45d3-e87b-c2ff0d956635"
      },
      "outputs": [
        {
          "data": {
            "text/plain": [
              "0    7506\n",
              "1    7506\n",
              "Name: is_fraud, dtype: int64"
            ]
          },
          "execution_count": 54,
          "metadata": {},
          "output_type": "execute_result"
        }
      ],
      "source": [
        "#random under sampling using imblearn\n",
        "rus = RandomUnderSampler()\n",
        "X_rus, y_rus = rus.fit_resample(X_train,y_train)\n",
        "\n",
        "y_rus.value_counts()"
      ]
    },
    {
      "cell_type": "markdown",
      "metadata": {
        "id": "YtUupaIafj-L"
      },
      "source": [
        "Now, we will do the train-test split with the argument 'stratify' in the method equal to our target variable, in order to have equal number of samples from each class in our split."
      ]
    },
    {
      "cell_type": "code",
      "execution_count": null,
      "metadata": {
        "id": "-Bs5vpvufj-L"
      },
      "outputs": [],
      "source": [
        "# Train-Test Split:\n",
        "X_train, X_test, y_train, y_test = train_test_split(X_rus, y_rus, test_size=0.3, random_state=42)"
      ]
    },
    {
      "cell_type": "code",
      "execution_count": null,
      "metadata": {
        "colab": {
          "base_uri": "https://localhost:8080/"
        },
        "id": "JAL-Vls-fj-L",
        "outputId": "61246143-6295-418b-a734-4f3401287ece"
      },
      "outputs": [
        {
          "data": {
            "text/plain": [
              "0    5274\n",
              "1    5234\n",
              "Name: is_fraud, dtype: int64"
            ]
          },
          "execution_count": 56,
          "metadata": {},
          "output_type": "execute_result"
        }
      ],
      "source": [
        "y_train.value_counts()"
      ]
    },
    {
      "cell_type": "markdown",
      "metadata": {
        "id": "cYKJAsc6fj-L"
      },
      "source": [
        "Let us now build a baseline Linear model to analyze this data after undersampling."
      ]
    },
    {
      "cell_type": "code",
      "execution_count": null,
      "metadata": {
        "colab": {
          "base_uri": "https://localhost:8080/"
        },
        "id": "P0HcknLRfj-L",
        "outputId": "eaa28150-44ab-4546-9ad4-29dbf7ddabb5"
      },
      "outputs": [
        {
          "data": {
            "text/plain": [
              "array([0, 0, 0, ..., 1, 1, 1], dtype=int64)"
            ]
          },
          "execution_count": 57,
          "metadata": {},
          "output_type": "execute_result"
        }
      ],
      "source": [
        "#creating a baseline linear model\n",
        "DT = DecisionTreeClassifier(max_depth=10)\n",
        "#model\n",
        "model = DT.fit(X_rus, y_rus)\n",
        "y_train_pred = model.predict(X_rus)\n",
        "y_train_pred"
      ]
    },
    {
      "cell_type": "code",
      "execution_count": null,
      "metadata": {
        "colab": {
          "base_uri": "https://localhost:8080/"
        },
        "id": "usMuHZvdfj-L",
        "outputId": "979fe3ff-8e65-40b8-8f4a-c558b238c7e8"
      },
      "outputs": [
        {
          "data": {
            "text/plain": [
              "array([0, 0, 0, ..., 0, 0, 0], dtype=int64)"
            ]
          },
          "execution_count": 58,
          "metadata": {},
          "output_type": "execute_result"
        }
      ],
      "source": [
        "#predicting on imbalanced test data\n",
        "test_pred=model.predict(test_input)\n",
        "test_pred"
      ]
    },
    {
      "cell_type": "code",
      "execution_count": null,
      "metadata": {
        "colab": {
          "base_uri": "https://localhost:8080/"
        },
        "id": "LIeGgNNjfj-L",
        "outputId": "190380cf-f354-4d7f-e3db-67f7d7d94e30"
      },
      "outputs": [
        {
          "name": "stdout",
          "output_type": "stream",
          "text": [
            "              precision    recall  f1-score   support\n",
            "\n",
            "           0       0.98      0.98      0.98      7506\n",
            "           1       0.98      0.98      0.98      7506\n",
            "\n",
            "    accuracy                           0.98     15012\n",
            "   macro avg       0.98      0.98      0.98     15012\n",
            "weighted avg       0.98      0.98      0.98     15012\n",
            "\n"
          ]
        }
      ],
      "source": [
        "\n",
        "#printing the classification report of the model\n",
        "print(classification_report(y_rus,y_train_pred))"
      ]
    },
    {
      "cell_type": "code",
      "execution_count": null,
      "metadata": {
        "colab": {
          "base_uri": "https://localhost:8080/",
          "height": 112
        },
        "id": "TY2qcXymfj-L",
        "outputId": "d27b0e17-2f0d-4ec2-a189-cac46240d854"
      },
      "outputs": [
        {
          "data": {
            "text/html": [
              "\n",
              "  <div id=\"df-0def8393-b0bd-4839-9a71-2597c70063c1\">\n",
              "    <div class=\"colab-df-container\">\n",
              "      <div>\n",
              "<style scoped>\n",
              "    .dataframe tbody tr th:only-of-type {\n",
              "        vertical-align: middle;\n",
              "    }\n",
              "\n",
              "    .dataframe tbody tr th {\n",
              "        vertical-align: top;\n",
              "    }\n",
              "\n",
              "    .dataframe thead th {\n",
              "        text-align: right;\n",
              "    }\n",
              "</style>\n",
              "<table border=\"1\" class=\"dataframe\">\n",
              "  <thead>\n",
              "    <tr style=\"text-align: right;\">\n",
              "      <th></th>\n",
              "      <th>Model Name</th>\n",
              "      <th>Training Score</th>\n",
              "      <th>Testing Score</th>\n",
              "      <th>Accuracy</th>\n",
              "      <th>F1 Score</th>\n",
              "      <th>Precision</th>\n",
              "      <th>Recall</th>\n",
              "    </tr>\n",
              "  </thead>\n",
              "  <tbody>\n",
              "    <tr>\n",
              "      <th>0</th>\n",
              "      <td>Decision Tree - without balancing</td>\n",
              "      <td>0.998717</td>\n",
              "      <td>0.998717</td>\n",
              "      <td>0.998717</td>\n",
              "      <td>0.998668</td>\n",
              "      <td>0.953571</td>\n",
              "      <td>0.818145</td>\n",
              "    </tr>\n",
              "    <tr>\n",
              "      <th>1</th>\n",
              "      <td>Decision Tree - Random Under Sampling</td>\n",
              "      <td>0.982965</td>\n",
              "      <td>0.984902</td>\n",
              "      <td>0.970918</td>\n",
              "      <td>0.981083</td>\n",
              "      <td>0.164027</td>\n",
              "      <td>0.982281</td>\n",
              "    </tr>\n",
              "  </tbody>\n",
              "</table>\n",
              "</div>\n",
              "      <button class=\"colab-df-convert\" onclick=\"convertToInteractive('df-0def8393-b0bd-4839-9a71-2597c70063c1')\"\n",
              "              title=\"Convert this dataframe to an interactive table.\"\n",
              "              style=\"display:none;\">\n",
              "        \n",
              "  <svg xmlns=\"http://www.w3.org/2000/svg\" height=\"24px\"viewBox=\"0 0 24 24\"\n",
              "       width=\"24px\">\n",
              "    <path d=\"M0 0h24v24H0V0z\" fill=\"none\"/>\n",
              "    <path d=\"M18.56 5.44l.94 2.06.94-2.06 2.06-.94-2.06-.94-.94-2.06-.94 2.06-2.06.94zm-11 1L8.5 8.5l.94-2.06 2.06-.94-2.06-.94L8.5 2.5l-.94 2.06-2.06.94zm10 10l.94 2.06.94-2.06 2.06-.94-2.06-.94-.94-2.06-.94 2.06-2.06.94z\"/><path d=\"M17.41 7.96l-1.37-1.37c-.4-.4-.92-.59-1.43-.59-.52 0-1.04.2-1.43.59L10.3 9.45l-7.72 7.72c-.78.78-.78 2.05 0 2.83L4 21.41c.39.39.9.59 1.41.59.51 0 1.02-.2 1.41-.59l7.78-7.78 2.81-2.81c.8-.78.8-2.07 0-2.86zM5.41 20L4 18.59l7.72-7.72 1.47 1.35L5.41 20z\"/>\n",
              "  </svg>\n",
              "      </button>\n",
              "      \n",
              "  <style>\n",
              "    .colab-df-container {\n",
              "      display:flex;\n",
              "      flex-wrap:wrap;\n",
              "      gap: 12px;\n",
              "    }\n",
              "\n",
              "    .colab-df-convert {\n",
              "      background-color: #E8F0FE;\n",
              "      border: none;\n",
              "      border-radius: 50%;\n",
              "      cursor: pointer;\n",
              "      display: none;\n",
              "      fill: #1967D2;\n",
              "      height: 32px;\n",
              "      padding: 0 0 0 0;\n",
              "      width: 32px;\n",
              "    }\n",
              "\n",
              "    .colab-df-convert:hover {\n",
              "      background-color: #E2EBFA;\n",
              "      box-shadow: 0px 1px 2px rgba(60, 64, 67, 0.3), 0px 1px 3px 1px rgba(60, 64, 67, 0.15);\n",
              "      fill: #174EA6;\n",
              "    }\n",
              "\n",
              "    [theme=dark] .colab-df-convert {\n",
              "      background-color: #3B4455;\n",
              "      fill: #D2E3FC;\n",
              "    }\n",
              "\n",
              "    [theme=dark] .colab-df-convert:hover {\n",
              "      background-color: #434B5C;\n",
              "      box-shadow: 0px 1px 3px 1px rgba(0, 0, 0, 0.15);\n",
              "      filter: drop-shadow(0px 1px 2px rgba(0, 0, 0, 0.3));\n",
              "      fill: #FFFFFF;\n",
              "    }\n",
              "  </style>\n",
              "\n",
              "      <script>\n",
              "        const buttonEl =\n",
              "          document.querySelector('#df-0def8393-b0bd-4839-9a71-2597c70063c1 button.colab-df-convert');\n",
              "        buttonEl.style.display =\n",
              "          google.colab.kernel.accessAllowed ? 'block' : 'none';\n",
              "\n",
              "        async function convertToInteractive(key) {\n",
              "          const element = document.querySelector('#df-0def8393-b0bd-4839-9a71-2597c70063c1');\n",
              "          const dataTable =\n",
              "            await google.colab.kernel.invokeFunction('convertToInteractive',\n",
              "                                                     [key], {});\n",
              "          if (!dataTable) return;\n",
              "\n",
              "          const docLinkHtml = 'Like what you see? Visit the ' +\n",
              "            '<a target=\"_blank\" href=https://colab.research.google.com/notebooks/data_table.ipynb>data table notebook</a>'\n",
              "            + ' to learn more about interactive tables.';\n",
              "          element.innerHTML = '';\n",
              "          dataTable['output_type'] = 'display_data';\n",
              "          await google.colab.output.renderOutput(dataTable, element);\n",
              "          const docLink = document.createElement('div');\n",
              "          docLink.innerHTML = docLinkHtml;\n",
              "          element.appendChild(docLink);\n",
              "        }\n",
              "      </script>\n",
              "    </div>\n",
              "  </div>\n",
              "  "
            ],
            "text/plain": [
              "                              Model Name  Training Score  Testing Score  \\\n",
              "0      Decision Tree - without balancing        0.998717       0.998717   \n",
              "1  Decision Tree - Random Under Sampling        0.982965       0.984902   \n",
              "\n",
              "   Accuracy  F1 Score  Precision    Recall  \n",
              "0  0.998717  0.998668   0.953571  0.818145  \n",
              "1  0.970918  0.981083   0.164027  0.982281  "
            ]
          },
          "execution_count": 60,
          "metadata": {},
          "output_type": "execute_result"
        }
      ],
      "source": [
        "#evaluating the model\n",
        "model_name = 'Decision Tree - Random Under Sampling'\n",
        "train_score = model.score(X_train,y_train)\n",
        "test_score = model.score(X_test,y_test)\n",
        "\n",
        "acc_score = accuracy_score(test_output,test_pred)\n",
        "f_score = f1_score(test_output, test_pred, average='weighted')\n",
        "precision = precision_score(test_output, test_pred)\n",
        "recall = metrics.recall_score(test_output,test_pred)\n",
        "#adding claculations to dataframe\n",
        "model_eval_data = [model_name, train_score, test_score, acc_score, f_score, precision, recall]\n",
        "model_eval_dict = {evaluate_df.columns[i]:model_eval_data[i] for i in range(len(model_eval_data))}\n",
        "evaluate_df = evaluate_df.append(model_eval_dict, ignore_index=True)\n",
        "\n",
        "evaluate_df"
      ]
    },
    {
      "cell_type": "code",
      "execution_count": null,
      "metadata": {
        "colab": {
          "base_uri": "https://localhost:8080/"
        },
        "id": "nn4lYFo2qh9m",
        "outputId": "d09355d1-d7dd-480d-dd7b-70861fbeed5c"
      },
      "outputs": [
        {
          "name": "stdout",
          "output_type": "stream",
          "text": [
            "f_score 0.9810832841865537\n",
            "              precision    recall  f1-score   support\n",
            "\n",
            "           0       1.00      0.97      0.99   1289169\n",
            "           1       0.16      0.98      0.28      7506\n",
            "\n",
            "    accuracy                           0.97   1296675\n",
            "   macro avg       0.58      0.98      0.63   1296675\n",
            "weighted avg       1.00      0.97      0.98   1296675\n",
            "\n",
            "kappa 0.27390845876798053\n"
          ]
        }
      ],
      "source": [
        "print('f_score', f_score)\n",
        "print(classification_report(test_output, test_pred))\n",
        "\n",
        "from sklearn.metrics import cohen_kappa_score\n",
        "kappa = cohen_kappa_score(test_output, test_pred)\n",
        "print('kappa', kappa)"
      ]
    },
    {
      "cell_type": "markdown",
      "metadata": {
        "id": "_sDCdNrwfj-M"
      },
      "source": [
        "It can be noted from the above dataframe that although the accuracy, the training and testing scores and the F1 score metrics have dropped, the precision and recall have improved which are much more important metrics to evaluate a classification model."
      ]
    },
    {
      "cell_type": "markdown",
      "metadata": {
        "id": "YaNwgo7hfj-M"
      },
      "source": [
        "**2) Oversampling (Random Over Sampling):**"
      ]
    },
    {
      "cell_type": "code",
      "execution_count": null,
      "metadata": {
        "colab": {
          "base_uri": "https://localhost:8080/"
        },
        "id": "yZ2-m4YAfj-M",
        "outputId": "a8be421b-1b80-4ce0-bef9-967c3fad4c05"
      },
      "outputs": [
        {
          "data": {
            "text/plain": [
              "0    5274\n",
              "1    5274\n",
              "Name: is_fraud, dtype: int64"
            ]
          },
          "execution_count": 62,
          "metadata": {},
          "output_type": "execute_result"
        }
      ],
      "source": [
        "#oversampling with imblearn\n",
        "ros = RandomOverSampler()\n",
        "X_ros, y_ros = ros.fit_resample(X_train,y_train)\n",
        "y_ros.value_counts()"
      ]
    },
    {
      "cell_type": "code",
      "execution_count": null,
      "metadata": {
        "colab": {
          "base_uri": "https://localhost:8080/"
        },
        "id": "hS3AOxp0fj-M",
        "outputId": "d7363fb8-eba9-4195-c8a8-605358a937d8"
      },
      "outputs": [
        {
          "data": {
            "text/plain": [
              "array([0, 0, 1, ..., 1, 1, 1], dtype=int64)"
            ]
          },
          "execution_count": 63,
          "metadata": {},
          "output_type": "execute_result"
        }
      ],
      "source": [
        "#implementing decision tree\n",
        "DT = DecisionTreeClassifier(max_depth=10)\n",
        "#creating model\n",
        "model = DT.fit(X_ros, y_ros)\n",
        "y_train_pred = model.predict(X_ros)\n",
        "y_train_pred"
      ]
    },
    {
      "cell_type": "code",
      "execution_count": null,
      "metadata": {
        "colab": {
          "base_uri": "https://localhost:8080/"
        },
        "id": "6prmxsWQfj-M",
        "outputId": "0a4428d6-8c44-4929-b813-4a396b974e2a"
      },
      "outputs": [
        {
          "data": {
            "text/plain": [
              "array([0, 0, 0, ..., 0, 0, 0], dtype=int64)"
            ]
          },
          "execution_count": 64,
          "metadata": {},
          "output_type": "execute_result"
        }
      ],
      "source": [
        "test_pred = model.predict(test_input)\n",
        "test_pred"
      ]
    },
    {
      "cell_type": "code",
      "execution_count": null,
      "metadata": {
        "colab": {
          "base_uri": "https://localhost:8080/"
        },
        "id": "3dJDQ4sqfj-M",
        "outputId": "bac14840-9ce3-44d7-886a-14b9d22c38ce"
      },
      "outputs": [
        {
          "name": "stdout",
          "output_type": "stream",
          "text": [
            "              precision    recall  f1-score   support\n",
            "\n",
            "           0       0.98      0.99      0.98      5274\n",
            "           1       0.99      0.98      0.98      5274\n",
            "\n",
            "    accuracy                           0.98     10548\n",
            "   macro avg       0.98      0.98      0.98     10548\n",
            "weighted avg       0.98      0.98      0.98     10548\n",
            "\n"
          ]
        }
      ],
      "source": [
        "#printing classification report\n",
        "print(classification_report(y_ros, y_train_pred))"
      ]
    },
    {
      "cell_type": "code",
      "execution_count": null,
      "metadata": {
        "colab": {
          "base_uri": "https://localhost:8080/",
          "height": 143
        },
        "id": "COBLqAZ8fj-M",
        "outputId": "09e13f95-84ac-4d16-ff97-028eea1c8776"
      },
      "outputs": [
        {
          "data": {
            "text/html": [
              "\n",
              "  <div id=\"df-a5b153e8-d266-425a-8327-cc3ffa67fb24\">\n",
              "    <div class=\"colab-df-container\">\n",
              "      <div>\n",
              "<style scoped>\n",
              "    .dataframe tbody tr th:only-of-type {\n",
              "        vertical-align: middle;\n",
              "    }\n",
              "\n",
              "    .dataframe tbody tr th {\n",
              "        vertical-align: top;\n",
              "    }\n",
              "\n",
              "    .dataframe thead th {\n",
              "        text-align: right;\n",
              "    }\n",
              "</style>\n",
              "<table border=\"1\" class=\"dataframe\">\n",
              "  <thead>\n",
              "    <tr style=\"text-align: right;\">\n",
              "      <th></th>\n",
              "      <th>Model Name</th>\n",
              "      <th>Training Score</th>\n",
              "      <th>Testing Score</th>\n",
              "      <th>Accuracy</th>\n",
              "      <th>F1 Score</th>\n",
              "      <th>Precision</th>\n",
              "      <th>Recall</th>\n",
              "    </tr>\n",
              "  </thead>\n",
              "  <tbody>\n",
              "    <tr>\n",
              "      <th>0</th>\n",
              "      <td>Decision Tree - without balancing</td>\n",
              "      <td>0.998717</td>\n",
              "      <td>0.998717</td>\n",
              "      <td>0.998717</td>\n",
              "      <td>0.998668</td>\n",
              "      <td>0.953571</td>\n",
              "      <td>0.818145</td>\n",
              "    </tr>\n",
              "    <tr>\n",
              "      <th>1</th>\n",
              "      <td>Decision Tree - Random Under Sampling</td>\n",
              "      <td>0.982965</td>\n",
              "      <td>0.984902</td>\n",
              "      <td>0.970918</td>\n",
              "      <td>0.981083</td>\n",
              "      <td>0.164027</td>\n",
              "      <td>0.982281</td>\n",
              "    </tr>\n",
              "    <tr>\n",
              "      <th>2</th>\n",
              "      <td>Decision Tree - Random Over Sampling</td>\n",
              "      <td>0.984488</td>\n",
              "      <td>0.967140</td>\n",
              "      <td>0.969686</td>\n",
              "      <td>0.980395</td>\n",
              "      <td>0.157796</td>\n",
              "      <td>0.976819</td>\n",
              "    </tr>\n",
              "  </tbody>\n",
              "</table>\n",
              "</div>\n",
              "      <button class=\"colab-df-convert\" onclick=\"convertToInteractive('df-a5b153e8-d266-425a-8327-cc3ffa67fb24')\"\n",
              "              title=\"Convert this dataframe to an interactive table.\"\n",
              "              style=\"display:none;\">\n",
              "        \n",
              "  <svg xmlns=\"http://www.w3.org/2000/svg\" height=\"24px\"viewBox=\"0 0 24 24\"\n",
              "       width=\"24px\">\n",
              "    <path d=\"M0 0h24v24H0V0z\" fill=\"none\"/>\n",
              "    <path d=\"M18.56 5.44l.94 2.06.94-2.06 2.06-.94-2.06-.94-.94-2.06-.94 2.06-2.06.94zm-11 1L8.5 8.5l.94-2.06 2.06-.94-2.06-.94L8.5 2.5l-.94 2.06-2.06.94zm10 10l.94 2.06.94-2.06 2.06-.94-2.06-.94-.94-2.06-.94 2.06-2.06.94z\"/><path d=\"M17.41 7.96l-1.37-1.37c-.4-.4-.92-.59-1.43-.59-.52 0-1.04.2-1.43.59L10.3 9.45l-7.72 7.72c-.78.78-.78 2.05 0 2.83L4 21.41c.39.39.9.59 1.41.59.51 0 1.02-.2 1.41-.59l7.78-7.78 2.81-2.81c.8-.78.8-2.07 0-2.86zM5.41 20L4 18.59l7.72-7.72 1.47 1.35L5.41 20z\"/>\n",
              "  </svg>\n",
              "      </button>\n",
              "      \n",
              "  <style>\n",
              "    .colab-df-container {\n",
              "      display:flex;\n",
              "      flex-wrap:wrap;\n",
              "      gap: 12px;\n",
              "    }\n",
              "\n",
              "    .colab-df-convert {\n",
              "      background-color: #E8F0FE;\n",
              "      border: none;\n",
              "      border-radius: 50%;\n",
              "      cursor: pointer;\n",
              "      display: none;\n",
              "      fill: #1967D2;\n",
              "      height: 32px;\n",
              "      padding: 0 0 0 0;\n",
              "      width: 32px;\n",
              "    }\n",
              "\n",
              "    .colab-df-convert:hover {\n",
              "      background-color: #E2EBFA;\n",
              "      box-shadow: 0px 1px 2px rgba(60, 64, 67, 0.3), 0px 1px 3px 1px rgba(60, 64, 67, 0.15);\n",
              "      fill: #174EA6;\n",
              "    }\n",
              "\n",
              "    [theme=dark] .colab-df-convert {\n",
              "      background-color: #3B4455;\n",
              "      fill: #D2E3FC;\n",
              "    }\n",
              "\n",
              "    [theme=dark] .colab-df-convert:hover {\n",
              "      background-color: #434B5C;\n",
              "      box-shadow: 0px 1px 3px 1px rgba(0, 0, 0, 0.15);\n",
              "      filter: drop-shadow(0px 1px 2px rgba(0, 0, 0, 0.3));\n",
              "      fill: #FFFFFF;\n",
              "    }\n",
              "  </style>\n",
              "\n",
              "      <script>\n",
              "        const buttonEl =\n",
              "          document.querySelector('#df-a5b153e8-d266-425a-8327-cc3ffa67fb24 button.colab-df-convert');\n",
              "        buttonEl.style.display =\n",
              "          google.colab.kernel.accessAllowed ? 'block' : 'none';\n",
              "\n",
              "        async function convertToInteractive(key) {\n",
              "          const element = document.querySelector('#df-a5b153e8-d266-425a-8327-cc3ffa67fb24');\n",
              "          const dataTable =\n",
              "            await google.colab.kernel.invokeFunction('convertToInteractive',\n",
              "                                                     [key], {});\n",
              "          if (!dataTable) return;\n",
              "\n",
              "          const docLinkHtml = 'Like what you see? Visit the ' +\n",
              "            '<a target=\"_blank\" href=https://colab.research.google.com/notebooks/data_table.ipynb>data table notebook</a>'\n",
              "            + ' to learn more about interactive tables.';\n",
              "          element.innerHTML = '';\n",
              "          dataTable['output_type'] = 'display_data';\n",
              "          await google.colab.output.renderOutput(dataTable, element);\n",
              "          const docLink = document.createElement('div');\n",
              "          docLink.innerHTML = docLinkHtml;\n",
              "          element.appendChild(docLink);\n",
              "        }\n",
              "      </script>\n",
              "    </div>\n",
              "  </div>\n",
              "  "
            ],
            "text/plain": [
              "                              Model Name  Training Score  Testing Score  \\\n",
              "0      Decision Tree - without balancing        0.998717       0.998717   \n",
              "1  Decision Tree - Random Under Sampling        0.982965       0.984902   \n",
              "2   Decision Tree - Random Over Sampling        0.984488       0.967140   \n",
              "\n",
              "   Accuracy  F1 Score  Precision    Recall  \n",
              "0  0.998717  0.998668   0.953571  0.818145  \n",
              "1  0.970918  0.981083   0.164027  0.982281  \n",
              "2  0.969686  0.980395   0.157796  0.976819  "
            ]
          },
          "execution_count": 66,
          "metadata": {},
          "output_type": "execute_result"
        }
      ],
      "source": [
        "#evaluating the model\n",
        "model_name = 'Decision Tree - Random Over Sampling'\n",
        "train_score = model.score(X_train,y_train)\n",
        "test_score = model.score(X_test,y_test)\n",
        "\n",
        "acc_score = accuracy_score(test_output,test_pred)\n",
        "f_score = f1_score(test_output, test_pred, average='weighted')\n",
        "precision = precision_score(test_output, test_pred)\n",
        "recall = metrics.recall_score(test_output,test_pred)\n",
        "#adding claculations to dataframe\n",
        "model_eval_data = [model_name, train_score, test_score, acc_score, f_score, precision, recall]\n",
        "model_eval_dict = {evaluate_df.columns[i]:model_eval_data[i] for i in range(len(model_eval_data))}\n",
        "evaluate_df = evaluate_df.append(model_eval_dict, ignore_index=True)\n",
        "\n",
        "evaluate_df"
      ]
    },
    {
      "cell_type": "code",
      "execution_count": null,
      "metadata": {
        "colab": {
          "base_uri": "https://localhost:8080/"
        },
        "id": "x2v9qGBHnoiM",
        "outputId": "229b5c31-f160-469f-ed4b-3749e632bc4d"
      },
      "outputs": [
        {
          "name": "stdout",
          "output_type": "stream",
          "text": [
            "f_score 0.9803947545937174\n",
            "              precision    recall  f1-score   support\n",
            "\n",
            "           0       1.00      0.97      0.98   1289169\n",
            "           1       0.16      0.98      0.27      7506\n",
            "\n",
            "    accuracy                           0.97   1296675\n",
            "   macro avg       0.58      0.97      0.63   1296675\n",
            "weighted avg       0.99      0.97      0.98   1296675\n",
            "\n",
            "kappa 0.2643692956486743\n"
          ]
        }
      ],
      "source": [
        "print('f_score', f_score)\n",
        "print(classification_report(test_output, test_pred))\n",
        "\n",
        "from sklearn.metrics import cohen_kappa_score\n",
        "kappa = cohen_kappa_score(test_output, test_pred)\n",
        "print('kappa', kappa)"
      ]
    },
    {
      "cell_type": "markdown",
      "metadata": {
        "id": "18xpIlt_fj-M"
      },
      "source": [
        "**3) Oversampling (using SMOTE):**"
      ]
    },
    {
      "cell_type": "code",
      "execution_count": null,
      "metadata": {
        "colab": {
          "base_uri": "https://localhost:8080/"
        },
        "id": "u2Kb5Abkfj-M",
        "outputId": "9790fa9c-de68-4f32-d25e-f7af22b324b3"
      },
      "outputs": [
        {
          "data": {
            "text/plain": [
              "0    5274\n",
              "1    5274\n",
              "Name: is_fraud, dtype: int64"
            ]
          },
          "execution_count": 68,
          "metadata": {},
          "output_type": "execute_result"
        }
      ],
      "source": [
        "#balancing using SMOTE method\n",
        "smote = SMOTE(sampling_strategy='minority')\n",
        "X_sm, y_sm = smote.fit_resample(X_train.astype('float'), y_train)\n",
        "\n",
        "y_sm.value_counts()"
      ]
    },
    {
      "cell_type": "code",
      "execution_count": null,
      "metadata": {
        "colab": {
          "base_uri": "https://localhost:8080/"
        },
        "id": "7Obxlsz3fj-N",
        "outputId": "c9d91bce-db56-4f85-a8a4-5cf6a17c6f09"
      },
      "outputs": [
        {
          "data": {
            "text/plain": [
              "array([0, 0, 1, ..., 1, 1, 1], dtype=int64)"
            ]
          },
          "execution_count": 69,
          "metadata": {},
          "output_type": "execute_result"
        }
      ],
      "source": [
        "#implementing decision tree\n",
        "DT_Smoth = DecisionTreeClassifier(max_depth=10)\n",
        "#creating model\n",
        "model = DT_Smoth.fit(X_sm, y_sm)\n",
        "y_train_pred = model.predict(X_sm)\n",
        "y_train_pred"
      ]
    },
    {
      "cell_type": "code",
      "execution_count": null,
      "metadata": {
        "colab": {
          "base_uri": "https://localhost:8080/"
        },
        "id": "yg06c3DSfj-N",
        "outputId": "8d16c0f2-a55f-4202-97c7-257b92781a69"
      },
      "outputs": [
        {
          "data": {
            "text/plain": [
              "array([0, 0, 0, ..., 0, 0, 0], dtype=int64)"
            ]
          },
          "execution_count": 70,
          "metadata": {},
          "output_type": "execute_result"
        }
      ],
      "source": [
        "test_pred = model.predict(test_input)\n",
        "test_pred"
      ]
    },
    {
      "cell_type": "code",
      "execution_count": null,
      "metadata": {
        "colab": {
          "base_uri": "https://localhost:8080/"
        },
        "id": "nngBTYpcfj-N",
        "outputId": "49f711ad-0cac-4579-9a24-cf2fd7597901"
      },
      "outputs": [
        {
          "name": "stdout",
          "output_type": "stream",
          "text": [
            "              precision    recall  f1-score   support\n",
            "\n",
            "           0       0.99      0.98      0.98      5274\n",
            "           1       0.98      0.99      0.98      5274\n",
            "\n",
            "    accuracy                           0.98     10548\n",
            "   macro avg       0.98      0.98      0.98     10548\n",
            "weighted avg       0.98      0.98      0.98     10548\n",
            "\n"
          ]
        }
      ],
      "source": [
        "#printing classification report\n",
        "print(classification_report(y_sm, y_train_pred))"
      ]
    },
    {
      "cell_type": "code",
      "execution_count": null,
      "metadata": {
        "colab": {
          "base_uri": "https://localhost:8080/",
          "height": 175
        },
        "id": "9Soy7zTEfj-N",
        "outputId": "ca5f86aa-1311-44fb-a49b-c86f46f00bb8"
      },
      "outputs": [
        {
          "data": {
            "text/html": [
              "\n",
              "  <div id=\"df-62b12ba7-7f79-495b-b750-499781678b78\">\n",
              "    <div class=\"colab-df-container\">\n",
              "      <div>\n",
              "<style scoped>\n",
              "    .dataframe tbody tr th:only-of-type {\n",
              "        vertical-align: middle;\n",
              "    }\n",
              "\n",
              "    .dataframe tbody tr th {\n",
              "        vertical-align: top;\n",
              "    }\n",
              "\n",
              "    .dataframe thead th {\n",
              "        text-align: right;\n",
              "    }\n",
              "</style>\n",
              "<table border=\"1\" class=\"dataframe\">\n",
              "  <thead>\n",
              "    <tr style=\"text-align: right;\">\n",
              "      <th></th>\n",
              "      <th>Model Name</th>\n",
              "      <th>Training Score</th>\n",
              "      <th>Testing Score</th>\n",
              "      <th>Accuracy</th>\n",
              "      <th>F1 Score</th>\n",
              "      <th>Precision</th>\n",
              "      <th>Recall</th>\n",
              "    </tr>\n",
              "  </thead>\n",
              "  <tbody>\n",
              "    <tr>\n",
              "      <th>0</th>\n",
              "      <td>Decision Tree - without balancing</td>\n",
              "      <td>0.998717</td>\n",
              "      <td>0.998717</td>\n",
              "      <td>0.998717</td>\n",
              "      <td>0.998668</td>\n",
              "      <td>0.953571</td>\n",
              "      <td>0.818145</td>\n",
              "    </tr>\n",
              "    <tr>\n",
              "      <th>1</th>\n",
              "      <td>Decision Tree - Random Under Sampling</td>\n",
              "      <td>0.982965</td>\n",
              "      <td>0.984902</td>\n",
              "      <td>0.970918</td>\n",
              "      <td>0.981083</td>\n",
              "      <td>0.164027</td>\n",
              "      <td>0.982281</td>\n",
              "    </tr>\n",
              "    <tr>\n",
              "      <th>2</th>\n",
              "      <td>Decision Tree - Random Over Sampling</td>\n",
              "      <td>0.984488</td>\n",
              "      <td>0.967140</td>\n",
              "      <td>0.969686</td>\n",
              "      <td>0.980395</td>\n",
              "      <td>0.157796</td>\n",
              "      <td>0.976819</td>\n",
              "    </tr>\n",
              "    <tr>\n",
              "      <th>3</th>\n",
              "      <td>Decision Tree - SMOTE</td>\n",
              "      <td>0.984774</td>\n",
              "      <td>0.967584</td>\n",
              "      <td>0.964263</td>\n",
              "      <td>0.977417</td>\n",
              "      <td>0.137786</td>\n",
              "      <td>0.984013</td>\n",
              "    </tr>\n",
              "  </tbody>\n",
              "</table>\n",
              "</div>\n",
              "      <button class=\"colab-df-convert\" onclick=\"convertToInteractive('df-62b12ba7-7f79-495b-b750-499781678b78')\"\n",
              "              title=\"Convert this dataframe to an interactive table.\"\n",
              "              style=\"display:none;\">\n",
              "        \n",
              "  <svg xmlns=\"http://www.w3.org/2000/svg\" height=\"24px\"viewBox=\"0 0 24 24\"\n",
              "       width=\"24px\">\n",
              "    <path d=\"M0 0h24v24H0V0z\" fill=\"none\"/>\n",
              "    <path d=\"M18.56 5.44l.94 2.06.94-2.06 2.06-.94-2.06-.94-.94-2.06-.94 2.06-2.06.94zm-11 1L8.5 8.5l.94-2.06 2.06-.94-2.06-.94L8.5 2.5l-.94 2.06-2.06.94zm10 10l.94 2.06.94-2.06 2.06-.94-2.06-.94-.94-2.06-.94 2.06-2.06.94z\"/><path d=\"M17.41 7.96l-1.37-1.37c-.4-.4-.92-.59-1.43-.59-.52 0-1.04.2-1.43.59L10.3 9.45l-7.72 7.72c-.78.78-.78 2.05 0 2.83L4 21.41c.39.39.9.59 1.41.59.51 0 1.02-.2 1.41-.59l7.78-7.78 2.81-2.81c.8-.78.8-2.07 0-2.86zM5.41 20L4 18.59l7.72-7.72 1.47 1.35L5.41 20z\"/>\n",
              "  </svg>\n",
              "      </button>\n",
              "      \n",
              "  <style>\n",
              "    .colab-df-container {\n",
              "      display:flex;\n",
              "      flex-wrap:wrap;\n",
              "      gap: 12px;\n",
              "    }\n",
              "\n",
              "    .colab-df-convert {\n",
              "      background-color: #E8F0FE;\n",
              "      border: none;\n",
              "      border-radius: 50%;\n",
              "      cursor: pointer;\n",
              "      display: none;\n",
              "      fill: #1967D2;\n",
              "      height: 32px;\n",
              "      padding: 0 0 0 0;\n",
              "      width: 32px;\n",
              "    }\n",
              "\n",
              "    .colab-df-convert:hover {\n",
              "      background-color: #E2EBFA;\n",
              "      box-shadow: 0px 1px 2px rgba(60, 64, 67, 0.3), 0px 1px 3px 1px rgba(60, 64, 67, 0.15);\n",
              "      fill: #174EA6;\n",
              "    }\n",
              "\n",
              "    [theme=dark] .colab-df-convert {\n",
              "      background-color: #3B4455;\n",
              "      fill: #D2E3FC;\n",
              "    }\n",
              "\n",
              "    [theme=dark] .colab-df-convert:hover {\n",
              "      background-color: #434B5C;\n",
              "      box-shadow: 0px 1px 3px 1px rgba(0, 0, 0, 0.15);\n",
              "      filter: drop-shadow(0px 1px 2px rgba(0, 0, 0, 0.3));\n",
              "      fill: #FFFFFF;\n",
              "    }\n",
              "  </style>\n",
              "\n",
              "      <script>\n",
              "        const buttonEl =\n",
              "          document.querySelector('#df-62b12ba7-7f79-495b-b750-499781678b78 button.colab-df-convert');\n",
              "        buttonEl.style.display =\n",
              "          google.colab.kernel.accessAllowed ? 'block' : 'none';\n",
              "\n",
              "        async function convertToInteractive(key) {\n",
              "          const element = document.querySelector('#df-62b12ba7-7f79-495b-b750-499781678b78');\n",
              "          const dataTable =\n",
              "            await google.colab.kernel.invokeFunction('convertToInteractive',\n",
              "                                                     [key], {});\n",
              "          if (!dataTable) return;\n",
              "\n",
              "          const docLinkHtml = 'Like what you see? Visit the ' +\n",
              "            '<a target=\"_blank\" href=https://colab.research.google.com/notebooks/data_table.ipynb>data table notebook</a>'\n",
              "            + ' to learn more about interactive tables.';\n",
              "          element.innerHTML = '';\n",
              "          dataTable['output_type'] = 'display_data';\n",
              "          await google.colab.output.renderOutput(dataTable, element);\n",
              "          const docLink = document.createElement('div');\n",
              "          docLink.innerHTML = docLinkHtml;\n",
              "          element.appendChild(docLink);\n",
              "        }\n",
              "      </script>\n",
              "    </div>\n",
              "  </div>\n",
              "  "
            ],
            "text/plain": [
              "                              Model Name  Training Score  Testing Score  \\\n",
              "0      Decision Tree - without balancing        0.998717       0.998717   \n",
              "1  Decision Tree - Random Under Sampling        0.982965       0.984902   \n",
              "2   Decision Tree - Random Over Sampling        0.984488       0.967140   \n",
              "3                  Decision Tree - SMOTE        0.984774       0.967584   \n",
              "\n",
              "   Accuracy  F1 Score  Precision    Recall  \n",
              "0  0.998717  0.998668   0.953571  0.818145  \n",
              "1  0.970918  0.981083   0.164027  0.982281  \n",
              "2  0.969686  0.980395   0.157796  0.976819  \n",
              "3  0.964263  0.977417   0.137786  0.984013  "
            ]
          },
          "execution_count": 72,
          "metadata": {},
          "output_type": "execute_result"
        }
      ],
      "source": [
        "#evaluating the model\n",
        "model_name = 'Decision Tree - SMOTE'\n",
        "train_score = model.score(X_train,y_train)\n",
        "test_score = model.score(X_test,y_test)\n",
        "\n",
        "acc_score = accuracy_score(test_output,test_pred)\n",
        "f_score = f1_score(test_output, test_pred, average='weighted')\n",
        "precision = precision_score(test_output, test_pred)\n",
        "recall = metrics.recall_score(test_output,test_pred)\n",
        "#adding claculations to dataframe\n",
        "model_eval_data = [model_name, train_score, test_score, acc_score, f_score, precision, recall]\n",
        "model_eval_dict = {evaluate_df.columns[i]:model_eval_data[i] for i in range(len(model_eval_data))}\n",
        "evaluate_df = evaluate_df.append(model_eval_dict, ignore_index=True)\n",
        "\n",
        "evaluate_df"
      ]
    },
    {
      "cell_type": "code",
      "execution_count": null,
      "metadata": {
        "colab": {
          "base_uri": "https://localhost:8080/"
        },
        "id": "elbF1shrn3NX",
        "outputId": "46149d3f-b4f8-40b1-8f2a-27dcf172acee"
      },
      "outputs": [
        {
          "name": "stdout",
          "output_type": "stream",
          "text": [
            "f_score 0.9774169193718126\n",
            "              precision    recall  f1-score   support\n",
            "\n",
            "           0       1.00      0.96      0.98   1289169\n",
            "           1       0.14      0.98      0.24      7506\n",
            "\n",
            "    accuracy                           0.96   1296675\n",
            "   macro avg       0.57      0.97      0.61   1296675\n",
            "weighted avg       0.99      0.96      0.98   1296675\n",
            "\n",
            "kappa 0.23394454265756637\n"
          ]
        }
      ],
      "source": [
        "print('f_score', f_score)\n",
        "print(classification_report(test_output, test_pred))\n",
        "\n",
        "from sklearn.metrics import cohen_kappa_score\n",
        "kappa = cohen_kappa_score(test_output, test_pred)\n",
        "print('kappa', kappa)"
      ]
    },
    {
      "cell_type": "markdown",
      "metadata": {
        "id": "w_g8-_KQGPQG"
      },
      "source": [
        "RandomForest (using SMOTH)"
      ]
    },
    {
      "cell_type": "code",
      "execution_count": null,
      "metadata": {
        "colab": {
          "base_uri": "https://localhost:8080/"
        },
        "id": "7NyyGMYDGsQB",
        "outputId": "8be019a0-320d-41a4-8f75-a875599eecb8"
      },
      "outputs": [
        {
          "name": "stdout",
          "output_type": "stream",
          "text": [
            "f_score 0.9774169193718126\n",
            "              precision    recall  f1-score   support\n",
            "\n",
            "           0       1.00      0.97      0.99   1289169\n",
            "           1       0.18      0.98      0.31      7506\n",
            "\n",
            "    accuracy                           0.97   1296675\n",
            "   macro avg       0.59      0.98      0.65   1296675\n",
            "weighted avg       1.00      0.97      0.98   1296675\n",
            "\n",
            "kappa 0.29914108511566007\n"
          ]
        }
      ],
      "source": [
        "RandomForest = RandomForestClassifier(n_estimators=10, criterion=\"entropy\")\n",
        "rand_model = RandomForest.fit(X_sm, y_sm)\n",
        "test_pred = rand_model.predict(test_input)\n",
        "\n",
        "\n",
        "print('f_score', f_score)\n",
        "print(classification_report(test_output, test_pred))\n",
        "\n",
        "from sklearn.metrics import cohen_kappa_score\n",
        "kappa = cohen_kappa_score(test_output, test_pred)\n",
        "print('kappa', kappa)"
      ]
    },
    {
      "cell_type": "code",
      "execution_count": null,
      "metadata": {
        "colab": {
          "base_uri": "https://localhost:8080/"
        },
        "id": "WIsFAgHAIcA5",
        "outputId": "976ea7f7-9fdf-4e31-e147-a1c3a84f99b5"
      },
      "outputs": [
        {
          "data": {
            "text/plain": [
              "array([0, 0, 0, ..., 0, 0, 0], dtype=int64)"
            ]
          },
          "execution_count": 75,
          "metadata": {},
          "output_type": "execute_result"
        }
      ],
      "source": [
        "test_pred = rand_model.predict(test_input)\n",
        "test_pred"
      ]
    },
    {
      "cell_type": "code",
      "execution_count": null,
      "metadata": {
        "colab": {
          "base_uri": "https://localhost:8080/",
          "height": 206
        },
        "id": "pOtHXFJEIgwv",
        "outputId": "5d892909-1a00-4eb4-e9a9-cce779e8f7f2"
      },
      "outputs": [
        {
          "data": {
            "text/html": [
              "\n",
              "  <div id=\"df-5de307b4-8c53-4acb-9e62-510341d111ce\">\n",
              "    <div class=\"colab-df-container\">\n",
              "      <div>\n",
              "<style scoped>\n",
              "    .dataframe tbody tr th:only-of-type {\n",
              "        vertical-align: middle;\n",
              "    }\n",
              "\n",
              "    .dataframe tbody tr th {\n",
              "        vertical-align: top;\n",
              "    }\n",
              "\n",
              "    .dataframe thead th {\n",
              "        text-align: right;\n",
              "    }\n",
              "</style>\n",
              "<table border=\"1\" class=\"dataframe\">\n",
              "  <thead>\n",
              "    <tr style=\"text-align: right;\">\n",
              "      <th></th>\n",
              "      <th>Model Name</th>\n",
              "      <th>Training Score</th>\n",
              "      <th>Testing Score</th>\n",
              "      <th>Accuracy</th>\n",
              "      <th>F1 Score</th>\n",
              "      <th>Precision</th>\n",
              "      <th>Recall</th>\n",
              "    </tr>\n",
              "  </thead>\n",
              "  <tbody>\n",
              "    <tr>\n",
              "      <th>0</th>\n",
              "      <td>Decision Tree - without balancing</td>\n",
              "      <td>0.998717</td>\n",
              "      <td>0.998717</td>\n",
              "      <td>0.998717</td>\n",
              "      <td>0.998668</td>\n",
              "      <td>0.953571</td>\n",
              "      <td>0.818145</td>\n",
              "    </tr>\n",
              "    <tr>\n",
              "      <th>1</th>\n",
              "      <td>Decision Tree - Random Under Sampling</td>\n",
              "      <td>0.982965</td>\n",
              "      <td>0.984902</td>\n",
              "      <td>0.970918</td>\n",
              "      <td>0.981083</td>\n",
              "      <td>0.164027</td>\n",
              "      <td>0.982281</td>\n",
              "    </tr>\n",
              "    <tr>\n",
              "      <th>2</th>\n",
              "      <td>Decision Tree - Random Over Sampling</td>\n",
              "      <td>0.984488</td>\n",
              "      <td>0.967140</td>\n",
              "      <td>0.969686</td>\n",
              "      <td>0.980395</td>\n",
              "      <td>0.157796</td>\n",
              "      <td>0.976819</td>\n",
              "    </tr>\n",
              "    <tr>\n",
              "      <th>3</th>\n",
              "      <td>Decision Tree - SMOTE</td>\n",
              "      <td>0.984774</td>\n",
              "      <td>0.967584</td>\n",
              "      <td>0.964263</td>\n",
              "      <td>0.977417</td>\n",
              "      <td>0.137786</td>\n",
              "      <td>0.984013</td>\n",
              "    </tr>\n",
              "    <tr>\n",
              "      <th>4</th>\n",
              "      <td>RandomForest - SMOTH</td>\n",
              "      <td>0.997621</td>\n",
              "      <td>0.962700</td>\n",
              "      <td>0.974172</td>\n",
              "      <td>0.982900</td>\n",
              "      <td>0.181178</td>\n",
              "      <td>0.983613</td>\n",
              "    </tr>\n",
              "  </tbody>\n",
              "</table>\n",
              "</div>\n",
              "      <button class=\"colab-df-convert\" onclick=\"convertToInteractive('df-5de307b4-8c53-4acb-9e62-510341d111ce')\"\n",
              "              title=\"Convert this dataframe to an interactive table.\"\n",
              "              style=\"display:none;\">\n",
              "        \n",
              "  <svg xmlns=\"http://www.w3.org/2000/svg\" height=\"24px\"viewBox=\"0 0 24 24\"\n",
              "       width=\"24px\">\n",
              "    <path d=\"M0 0h24v24H0V0z\" fill=\"none\"/>\n",
              "    <path d=\"M18.56 5.44l.94 2.06.94-2.06 2.06-.94-2.06-.94-.94-2.06-.94 2.06-2.06.94zm-11 1L8.5 8.5l.94-2.06 2.06-.94-2.06-.94L8.5 2.5l-.94 2.06-2.06.94zm10 10l.94 2.06.94-2.06 2.06-.94-2.06-.94-.94-2.06-.94 2.06-2.06.94z\"/><path d=\"M17.41 7.96l-1.37-1.37c-.4-.4-.92-.59-1.43-.59-.52 0-1.04.2-1.43.59L10.3 9.45l-7.72 7.72c-.78.78-.78 2.05 0 2.83L4 21.41c.39.39.9.59 1.41.59.51 0 1.02-.2 1.41-.59l7.78-7.78 2.81-2.81c.8-.78.8-2.07 0-2.86zM5.41 20L4 18.59l7.72-7.72 1.47 1.35L5.41 20z\"/>\n",
              "  </svg>\n",
              "      </button>\n",
              "      \n",
              "  <style>\n",
              "    .colab-df-container {\n",
              "      display:flex;\n",
              "      flex-wrap:wrap;\n",
              "      gap: 12px;\n",
              "    }\n",
              "\n",
              "    .colab-df-convert {\n",
              "      background-color: #E8F0FE;\n",
              "      border: none;\n",
              "      border-radius: 50%;\n",
              "      cursor: pointer;\n",
              "      display: none;\n",
              "      fill: #1967D2;\n",
              "      height: 32px;\n",
              "      padding: 0 0 0 0;\n",
              "      width: 32px;\n",
              "    }\n",
              "\n",
              "    .colab-df-convert:hover {\n",
              "      background-color: #E2EBFA;\n",
              "      box-shadow: 0px 1px 2px rgba(60, 64, 67, 0.3), 0px 1px 3px 1px rgba(60, 64, 67, 0.15);\n",
              "      fill: #174EA6;\n",
              "    }\n",
              "\n",
              "    [theme=dark] .colab-df-convert {\n",
              "      background-color: #3B4455;\n",
              "      fill: #D2E3FC;\n",
              "    }\n",
              "\n",
              "    [theme=dark] .colab-df-convert:hover {\n",
              "      background-color: #434B5C;\n",
              "      box-shadow: 0px 1px 3px 1px rgba(0, 0, 0, 0.15);\n",
              "      filter: drop-shadow(0px 1px 2px rgba(0, 0, 0, 0.3));\n",
              "      fill: #FFFFFF;\n",
              "    }\n",
              "  </style>\n",
              "\n",
              "      <script>\n",
              "        const buttonEl =\n",
              "          document.querySelector('#df-5de307b4-8c53-4acb-9e62-510341d111ce button.colab-df-convert');\n",
              "        buttonEl.style.display =\n",
              "          google.colab.kernel.accessAllowed ? 'block' : 'none';\n",
              "\n",
              "        async function convertToInteractive(key) {\n",
              "          const element = document.querySelector('#df-5de307b4-8c53-4acb-9e62-510341d111ce');\n",
              "          const dataTable =\n",
              "            await google.colab.kernel.invokeFunction('convertToInteractive',\n",
              "                                                     [key], {});\n",
              "          if (!dataTable) return;\n",
              "\n",
              "          const docLinkHtml = 'Like what you see? Visit the ' +\n",
              "            '<a target=\"_blank\" href=https://colab.research.google.com/notebooks/data_table.ipynb>data table notebook</a>'\n",
              "            + ' to learn more about interactive tables.';\n",
              "          element.innerHTML = '';\n",
              "          dataTable['output_type'] = 'display_data';\n",
              "          await google.colab.output.renderOutput(dataTable, element);\n",
              "          const docLink = document.createElement('div');\n",
              "          docLink.innerHTML = docLinkHtml;\n",
              "          element.appendChild(docLink);\n",
              "        }\n",
              "      </script>\n",
              "    </div>\n",
              "  </div>\n",
              "  "
            ],
            "text/plain": [
              "                              Model Name  Training Score  Testing Score  \\\n",
              "0      Decision Tree - without balancing        0.998717       0.998717   \n",
              "1  Decision Tree - Random Under Sampling        0.982965       0.984902   \n",
              "2   Decision Tree - Random Over Sampling        0.984488       0.967140   \n",
              "3                  Decision Tree - SMOTE        0.984774       0.967584   \n",
              "4                   RandomForest - SMOTH        0.997621       0.962700   \n",
              "\n",
              "   Accuracy  F1 Score  Precision    Recall  \n",
              "0  0.998717  0.998668   0.953571  0.818145  \n",
              "1  0.970918  0.981083   0.164027  0.982281  \n",
              "2  0.969686  0.980395   0.157796  0.976819  \n",
              "3  0.964263  0.977417   0.137786  0.984013  \n",
              "4  0.974172  0.982900   0.181178  0.983613  "
            ]
          },
          "execution_count": 76,
          "metadata": {},
          "output_type": "execute_result"
        }
      ],
      "source": [
        "#evaluating the model\n",
        "model_name = 'RandomForest - SMOTH'\n",
        "train_score = rand_model.score(X_train,y_train)\n",
        "test_score = rand_model.score(X_test,y_test)\n",
        "\n",
        "acc_score = accuracy_score(test_output,test_pred)\n",
        "f_score = f1_score(test_output, test_pred, average='weighted')\n",
        "precision = precision_score(test_output, test_pred)\n",
        "recall = metrics.recall_score(test_output,test_pred)\n",
        "#adding claculations to dataframe\n",
        "model_eval_data = [model_name, train_score, test_score, acc_score, f_score, precision, recall]\n",
        "model_eval_dict = {evaluate_df.columns[i]:model_eval_data[i] for i in range(len(model_eval_data))}\n",
        "evaluate_df = evaluate_df.append(model_eval_dict, ignore_index=True)\n",
        "\n",
        "evaluate_df"
      ]
    },
    {
      "cell_type": "markdown",
      "metadata": {
        "id": "Wz0uxeWhMnKh"
      },
      "source": [
        "XGBClassifier (using SMOTH)"
      ]
    },
    {
      "cell_type": "code",
      "execution_count": null,
      "metadata": {
        "colab": {
          "base_uri": "https://localhost:8080/"
        },
        "id": "CEfRu2cptOSr",
        "outputId": "61deb92d-02ea-4e08-95b7-183173f3a7fc"
      },
      "outputs": [
        {
          "name": "stdout",
          "output_type": "stream",
          "text": [
            "f_score 0.982900156680767\n",
            "              precision    recall  f1-score   support\n",
            "\n",
            "           0       1.00      0.97      0.99   1289169\n",
            "           1       0.17      0.96      0.28      7506\n",
            "\n",
            "    accuracy                           0.97   1296675\n",
            "   macro avg       0.58      0.97      0.63   1296675\n",
            "weighted avg       0.99      0.97      0.98   1296675\n",
            "\n",
            "kappa 0.27574189180438946\n"
          ]
        }
      ],
      "source": [
        "from xgboost import XGBClassifier\n",
        "XGB = XGBClassifier()\n",
        "XGB_model = XGB.fit(X_sm, y_sm)\n",
        "test_pred = XGB_model.predict(test_input)\n",
        "\n",
        "print('f_score', f_score)\n",
        "print(classification_report(test_output, test_pred))\n",
        "\n",
        "from sklearn.metrics import cohen_kappa_score\n",
        "kappa = cohen_kappa_score(test_output, test_pred)\n",
        "print('kappa', kappa)"
      ]
    },
    {
      "cell_type": "code",
      "execution_count": null,
      "metadata": {
        "colab": {
          "base_uri": "https://localhost:8080/"
        },
        "id": "LoQ_UxlU9o7i",
        "outputId": "66ae452d-5dc7-46fb-afac-ed62ab92fc41"
      },
      "outputs": [
        {
          "data": {
            "text/plain": [
              "array([0, 0, 0, ..., 0, 0, 0], dtype=int64)"
            ]
          },
          "execution_count": 78,
          "metadata": {},
          "output_type": "execute_result"
        }
      ],
      "source": [
        "test_pred = XGB_model.predict(test_input)\n",
        "test_pred"
      ]
    },
    {
      "cell_type": "code",
      "execution_count": null,
      "metadata": {
        "colab": {
          "base_uri": "https://localhost:8080/",
          "height": 237
        },
        "id": "WL4asvlu7tNC",
        "outputId": "adf59e72-ea2d-4a6d-f5e5-9884074e9b75"
      },
      "outputs": [
        {
          "data": {
            "text/html": [
              "\n",
              "  <div id=\"df-d003b5ac-0534-48fd-a1be-cfb9962e1573\">\n",
              "    <div class=\"colab-df-container\">\n",
              "      <div>\n",
              "<style scoped>\n",
              "    .dataframe tbody tr th:only-of-type {\n",
              "        vertical-align: middle;\n",
              "    }\n",
              "\n",
              "    .dataframe tbody tr th {\n",
              "        vertical-align: top;\n",
              "    }\n",
              "\n",
              "    .dataframe thead th {\n",
              "        text-align: right;\n",
              "    }\n",
              "</style>\n",
              "<table border=\"1\" class=\"dataframe\">\n",
              "  <thead>\n",
              "    <tr style=\"text-align: right;\">\n",
              "      <th></th>\n",
              "      <th>Model Name</th>\n",
              "      <th>Training Score</th>\n",
              "      <th>Testing Score</th>\n",
              "      <th>Accuracy</th>\n",
              "      <th>F1 Score</th>\n",
              "      <th>Precision</th>\n",
              "      <th>Recall</th>\n",
              "    </tr>\n",
              "  </thead>\n",
              "  <tbody>\n",
              "    <tr>\n",
              "      <th>0</th>\n",
              "      <td>Decision Tree - without balancing</td>\n",
              "      <td>0.998717</td>\n",
              "      <td>0.998717</td>\n",
              "      <td>0.998717</td>\n",
              "      <td>0.998668</td>\n",
              "      <td>0.953571</td>\n",
              "      <td>0.818145</td>\n",
              "    </tr>\n",
              "    <tr>\n",
              "      <th>1</th>\n",
              "      <td>Decision Tree - Random Under Sampling</td>\n",
              "      <td>0.982965</td>\n",
              "      <td>0.984902</td>\n",
              "      <td>0.970918</td>\n",
              "      <td>0.981083</td>\n",
              "      <td>0.164027</td>\n",
              "      <td>0.982281</td>\n",
              "    </tr>\n",
              "    <tr>\n",
              "      <th>2</th>\n",
              "      <td>Decision Tree - Random Over Sampling</td>\n",
              "      <td>0.984488</td>\n",
              "      <td>0.967140</td>\n",
              "      <td>0.969686</td>\n",
              "      <td>0.980395</td>\n",
              "      <td>0.157796</td>\n",
              "      <td>0.976819</td>\n",
              "    </tr>\n",
              "    <tr>\n",
              "      <th>3</th>\n",
              "      <td>Decision Tree - SMOTE</td>\n",
              "      <td>0.984774</td>\n",
              "      <td>0.967584</td>\n",
              "      <td>0.964263</td>\n",
              "      <td>0.977417</td>\n",
              "      <td>0.137786</td>\n",
              "      <td>0.984013</td>\n",
              "    </tr>\n",
              "    <tr>\n",
              "      <th>4</th>\n",
              "      <td>RandomForest - SMOTH</td>\n",
              "      <td>0.997621</td>\n",
              "      <td>0.962700</td>\n",
              "      <td>0.974172</td>\n",
              "      <td>0.982900</td>\n",
              "      <td>0.181178</td>\n",
              "      <td>0.983613</td>\n",
              "    </tr>\n",
              "    <tr>\n",
              "      <th>5</th>\n",
              "      <td>XGBClassifier - SMOTE</td>\n",
              "      <td>0.968595</td>\n",
              "      <td>0.966030</td>\n",
              "      <td>0.971759</td>\n",
              "      <td>0.981528</td>\n",
              "      <td>0.165821</td>\n",
              "      <td>0.962297</td>\n",
              "    </tr>\n",
              "  </tbody>\n",
              "</table>\n",
              "</div>\n",
              "      <button class=\"colab-df-convert\" onclick=\"convertToInteractive('df-d003b5ac-0534-48fd-a1be-cfb9962e1573')\"\n",
              "              title=\"Convert this dataframe to an interactive table.\"\n",
              "              style=\"display:none;\">\n",
              "        \n",
              "  <svg xmlns=\"http://www.w3.org/2000/svg\" height=\"24px\"viewBox=\"0 0 24 24\"\n",
              "       width=\"24px\">\n",
              "    <path d=\"M0 0h24v24H0V0z\" fill=\"none\"/>\n",
              "    <path d=\"M18.56 5.44l.94 2.06.94-2.06 2.06-.94-2.06-.94-.94-2.06-.94 2.06-2.06.94zm-11 1L8.5 8.5l.94-2.06 2.06-.94-2.06-.94L8.5 2.5l-.94 2.06-2.06.94zm10 10l.94 2.06.94-2.06 2.06-.94-2.06-.94-.94-2.06-.94 2.06-2.06.94z\"/><path d=\"M17.41 7.96l-1.37-1.37c-.4-.4-.92-.59-1.43-.59-.52 0-1.04.2-1.43.59L10.3 9.45l-7.72 7.72c-.78.78-.78 2.05 0 2.83L4 21.41c.39.39.9.59 1.41.59.51 0 1.02-.2 1.41-.59l7.78-7.78 2.81-2.81c.8-.78.8-2.07 0-2.86zM5.41 20L4 18.59l7.72-7.72 1.47 1.35L5.41 20z\"/>\n",
              "  </svg>\n",
              "      </button>\n",
              "      \n",
              "  <style>\n",
              "    .colab-df-container {\n",
              "      display:flex;\n",
              "      flex-wrap:wrap;\n",
              "      gap: 12px;\n",
              "    }\n",
              "\n",
              "    .colab-df-convert {\n",
              "      background-color: #E8F0FE;\n",
              "      border: none;\n",
              "      border-radius: 50%;\n",
              "      cursor: pointer;\n",
              "      display: none;\n",
              "      fill: #1967D2;\n",
              "      height: 32px;\n",
              "      padding: 0 0 0 0;\n",
              "      width: 32px;\n",
              "    }\n",
              "\n",
              "    .colab-df-convert:hover {\n",
              "      background-color: #E2EBFA;\n",
              "      box-shadow: 0px 1px 2px rgba(60, 64, 67, 0.3), 0px 1px 3px 1px rgba(60, 64, 67, 0.15);\n",
              "      fill: #174EA6;\n",
              "    }\n",
              "\n",
              "    [theme=dark] .colab-df-convert {\n",
              "      background-color: #3B4455;\n",
              "      fill: #D2E3FC;\n",
              "    }\n",
              "\n",
              "    [theme=dark] .colab-df-convert:hover {\n",
              "      background-color: #434B5C;\n",
              "      box-shadow: 0px 1px 3px 1px rgba(0, 0, 0, 0.15);\n",
              "      filter: drop-shadow(0px 1px 2px rgba(0, 0, 0, 0.3));\n",
              "      fill: #FFFFFF;\n",
              "    }\n",
              "  </style>\n",
              "\n",
              "      <script>\n",
              "        const buttonEl =\n",
              "          document.querySelector('#df-d003b5ac-0534-48fd-a1be-cfb9962e1573 button.colab-df-convert');\n",
              "        buttonEl.style.display =\n",
              "          google.colab.kernel.accessAllowed ? 'block' : 'none';\n",
              "\n",
              "        async function convertToInteractive(key) {\n",
              "          const element = document.querySelector('#df-d003b5ac-0534-48fd-a1be-cfb9962e1573');\n",
              "          const dataTable =\n",
              "            await google.colab.kernel.invokeFunction('convertToInteractive',\n",
              "                                                     [key], {});\n",
              "          if (!dataTable) return;\n",
              "\n",
              "          const docLinkHtml = 'Like what you see? Visit the ' +\n",
              "            '<a target=\"_blank\" href=https://colab.research.google.com/notebooks/data_table.ipynb>data table notebook</a>'\n",
              "            + ' to learn more about interactive tables.';\n",
              "          element.innerHTML = '';\n",
              "          dataTable['output_type'] = 'display_data';\n",
              "          await google.colab.output.renderOutput(dataTable, element);\n",
              "          const docLink = document.createElement('div');\n",
              "          docLink.innerHTML = docLinkHtml;\n",
              "          element.appendChild(docLink);\n",
              "        }\n",
              "      </script>\n",
              "    </div>\n",
              "  </div>\n",
              "  "
            ],
            "text/plain": [
              "                              Model Name  Training Score  Testing Score  \\\n",
              "0      Decision Tree - without balancing        0.998717       0.998717   \n",
              "1  Decision Tree - Random Under Sampling        0.982965       0.984902   \n",
              "2   Decision Tree - Random Over Sampling        0.984488       0.967140   \n",
              "3                  Decision Tree - SMOTE        0.984774       0.967584   \n",
              "4                   RandomForest - SMOTH        0.997621       0.962700   \n",
              "5                  XGBClassifier - SMOTE        0.968595       0.966030   \n",
              "\n",
              "   Accuracy  F1 Score  Precision    Recall  \n",
              "0  0.998717  0.998668   0.953571  0.818145  \n",
              "1  0.970918  0.981083   0.164027  0.982281  \n",
              "2  0.969686  0.980395   0.157796  0.976819  \n",
              "3  0.964263  0.977417   0.137786  0.984013  \n",
              "4  0.974172  0.982900   0.181178  0.983613  \n",
              "5  0.971759  0.981528   0.165821  0.962297  "
            ]
          },
          "execution_count": 79,
          "metadata": {},
          "output_type": "execute_result"
        }
      ],
      "source": [
        "#evaluating the model\n",
        "model_name = 'XGBClassifier - SMOTE'\n",
        "train_score = XGB_model.score(X_train,y_train)\n",
        "test_score = XGB_model.score(X_test,y_test)\n",
        "\n",
        "acc_score = accuracy_score(test_output,test_pred)\n",
        "f_score = f1_score(test_output, test_pred, average='weighted')\n",
        "precision = precision_score(test_output, test_pred)\n",
        "recall = metrics.recall_score(test_output,test_pred)\n",
        "#adding claculations to dataframe\n",
        "model_eval_data = [model_name, train_score, test_score, acc_score, f_score, precision, recall]\n",
        "model_eval_dict = {evaluate_df.columns[i]:model_eval_data[i] for i in range(len(model_eval_data))}\n",
        "evaluate_df = evaluate_df.append(model_eval_dict, ignore_index=True)\n",
        "\n",
        "evaluate_df"
      ]
    },
    {
      "cell_type": "markdown",
      "metadata": {
        "id": "RgA6EM7rMsN0"
      },
      "source": [
        "SVM (using SMOTH)"
      ]
    },
    {
      "cell_type": "code",
      "execution_count": null,
      "metadata": {
        "colab": {
          "base_uri": "https://localhost:8080/"
        },
        "id": "MxXC1o86B8-9",
        "outputId": "99877781-4dd2-4e67-86ad-e13c5770b914"
      },
      "outputs": [
        {
          "name": "stdout",
          "output_type": "stream",
          "text": [
            "the predicted class is: 2\n",
            "f_score 0.9815283334731116\n",
            "              precision    recall  f1-score   support\n",
            "\n",
            "           0       1.00      0.97      0.98   1289169\n",
            "           1       0.12      0.76      0.21      7506\n",
            "\n",
            "    accuracy                           0.97   1296675\n",
            "   macro avg       0.56      0.87      0.60   1296675\n",
            "weighted avg       0.99      0.97      0.98   1296675\n",
            "\n",
            "kappa 0.20506001583054823\n"
          ]
        }
      ],
      "source": [
        "from sklearn.svm import SVC\n",
        "##SVM=SVC(C=0.1,kernel='linear',gamma='scale')\n",
        "SVM=SVC(C=0.1,kernel='rbf',gamma='auto')\n",
        "SVM_model = SVM.fit(X_sm, y_sm)\n",
        "\n",
        "y_pred = SVM_model.predict(test_input)\n",
        "y=y_pred.argmax()\n",
        "print('the predicted class is:',y)\n",
        "\n",
        "\n",
        "print('f_score', f_score)\n",
        "print(classification_report(test_output, y_pred))\n",
        "\n",
        "from sklearn.metrics import cohen_kappa_score\n",
        "kappa = cohen_kappa_score(test_output, y_pred)\n",
        "print('kappa', kappa)"
      ]
    },
    {
      "cell_type": "code",
      "execution_count": null,
      "metadata": {
        "colab": {
          "background_save": true
        },
        "id": "fOyklmn59xu3",
        "outputId": "e7a1420b-77d5-471c-bccb-30c1d5afb8d2"
      },
      "outputs": [
        {
          "data": {
            "text/plain": [
              "array([0, 0, 1, ..., 0, 0, 0], dtype=int64)"
            ]
          },
          "execution_count": 81,
          "metadata": {},
          "output_type": "execute_result"
        }
      ],
      "source": [
        "test_pred = SVM_model.predict(test_input)\n",
        "test_pred"
      ]
    },
    {
      "cell_type": "code",
      "execution_count": null,
      "metadata": {
        "colab": {
          "background_save": true
        },
        "id": "ScytYdV197l6",
        "outputId": "ab509c5c-d037-47e7-851f-a2de6330c224"
      },
      "outputs": [
        {
          "data": {
            "text/html": [
              "\n",
              "  <div id=\"df-84980588-28cc-4076-a7c0-0e5f112114d1\">\n",
              "    <div class=\"colab-df-container\">\n",
              "      <div>\n",
              "<style scoped>\n",
              "    .dataframe tbody tr th:only-of-type {\n",
              "        vertical-align: middle;\n",
              "    }\n",
              "\n",
              "    .dataframe tbody tr th {\n",
              "        vertical-align: top;\n",
              "    }\n",
              "\n",
              "    .dataframe thead th {\n",
              "        text-align: right;\n",
              "    }\n",
              "</style>\n",
              "<table border=\"1\" class=\"dataframe\">\n",
              "  <thead>\n",
              "    <tr style=\"text-align: right;\">\n",
              "      <th></th>\n",
              "      <th>Model Name</th>\n",
              "      <th>Training Score</th>\n",
              "      <th>Testing Score</th>\n",
              "      <th>Accuracy</th>\n",
              "      <th>F1 Score</th>\n",
              "      <th>Precision</th>\n",
              "      <th>Recall</th>\n",
              "    </tr>\n",
              "  </thead>\n",
              "  <tbody>\n",
              "    <tr>\n",
              "      <th>0</th>\n",
              "      <td>Decision Tree - without balancing</td>\n",
              "      <td>0.998717</td>\n",
              "      <td>0.998717</td>\n",
              "      <td>0.998717</td>\n",
              "      <td>0.998668</td>\n",
              "      <td>0.953571</td>\n",
              "      <td>0.818145</td>\n",
              "    </tr>\n",
              "    <tr>\n",
              "      <th>1</th>\n",
              "      <td>Decision Tree - Random Under Sampling</td>\n",
              "      <td>0.982965</td>\n",
              "      <td>0.984902</td>\n",
              "      <td>0.970918</td>\n",
              "      <td>0.981083</td>\n",
              "      <td>0.164027</td>\n",
              "      <td>0.982281</td>\n",
              "    </tr>\n",
              "    <tr>\n",
              "      <th>2</th>\n",
              "      <td>Decision Tree - Random Over Sampling</td>\n",
              "      <td>0.984488</td>\n",
              "      <td>0.967140</td>\n",
              "      <td>0.969686</td>\n",
              "      <td>0.980395</td>\n",
              "      <td>0.157796</td>\n",
              "      <td>0.976819</td>\n",
              "    </tr>\n",
              "    <tr>\n",
              "      <th>3</th>\n",
              "      <td>Decision Tree - SMOTE</td>\n",
              "      <td>0.984774</td>\n",
              "      <td>0.967584</td>\n",
              "      <td>0.964263</td>\n",
              "      <td>0.977417</td>\n",
              "      <td>0.137786</td>\n",
              "      <td>0.984013</td>\n",
              "    </tr>\n",
              "    <tr>\n",
              "      <th>4</th>\n",
              "      <td>RandomForest - SMOTH</td>\n",
              "      <td>0.997621</td>\n",
              "      <td>0.962700</td>\n",
              "      <td>0.974172</td>\n",
              "      <td>0.982900</td>\n",
              "      <td>0.181178</td>\n",
              "      <td>0.983613</td>\n",
              "    </tr>\n",
              "    <tr>\n",
              "      <th>5</th>\n",
              "      <td>XGBClassifier - SMOTE</td>\n",
              "      <td>0.968595</td>\n",
              "      <td>0.966030</td>\n",
              "      <td>0.971759</td>\n",
              "      <td>0.981528</td>\n",
              "      <td>0.165821</td>\n",
              "      <td>0.962297</td>\n",
              "    </tr>\n",
              "    <tr>\n",
              "      <th>6</th>\n",
              "      <td>SVM - SMOTE</td>\n",
              "      <td>0.867054</td>\n",
              "      <td>0.867451</td>\n",
              "      <td>0.967375</td>\n",
              "      <td>0.978883</td>\n",
              "      <td>0.123773</td>\n",
              "      <td>0.762590</td>\n",
              "    </tr>\n",
              "  </tbody>\n",
              "</table>\n",
              "</div>\n",
              "      <button class=\"colab-df-convert\" onclick=\"convertToInteractive('df-84980588-28cc-4076-a7c0-0e5f112114d1')\"\n",
              "              title=\"Convert this dataframe to an interactive table.\"\n",
              "              style=\"display:none;\">\n",
              "        \n",
              "  <svg xmlns=\"http://www.w3.org/2000/svg\" height=\"24px\"viewBox=\"0 0 24 24\"\n",
              "       width=\"24px\">\n",
              "    <path d=\"M0 0h24v24H0V0z\" fill=\"none\"/>\n",
              "    <path d=\"M18.56 5.44l.94 2.06.94-2.06 2.06-.94-2.06-.94-.94-2.06-.94 2.06-2.06.94zm-11 1L8.5 8.5l.94-2.06 2.06-.94-2.06-.94L8.5 2.5l-.94 2.06-2.06.94zm10 10l.94 2.06.94-2.06 2.06-.94-2.06-.94-.94-2.06-.94 2.06-2.06.94z\"/><path d=\"M17.41 7.96l-1.37-1.37c-.4-.4-.92-.59-1.43-.59-.52 0-1.04.2-1.43.59L10.3 9.45l-7.72 7.72c-.78.78-.78 2.05 0 2.83L4 21.41c.39.39.9.59 1.41.59.51 0 1.02-.2 1.41-.59l7.78-7.78 2.81-2.81c.8-.78.8-2.07 0-2.86zM5.41 20L4 18.59l7.72-7.72 1.47 1.35L5.41 20z\"/>\n",
              "  </svg>\n",
              "      </button>\n",
              "      \n",
              "  <style>\n",
              "    .colab-df-container {\n",
              "      display:flex;\n",
              "      flex-wrap:wrap;\n",
              "      gap: 12px;\n",
              "    }\n",
              "\n",
              "    .colab-df-convert {\n",
              "      background-color: #E8F0FE;\n",
              "      border: none;\n",
              "      border-radius: 50%;\n",
              "      cursor: pointer;\n",
              "      display: none;\n",
              "      fill: #1967D2;\n",
              "      height: 32px;\n",
              "      padding: 0 0 0 0;\n",
              "      width: 32px;\n",
              "    }\n",
              "\n",
              "    .colab-df-convert:hover {\n",
              "      background-color: #E2EBFA;\n",
              "      box-shadow: 0px 1px 2px rgba(60, 64, 67, 0.3), 0px 1px 3px 1px rgba(60, 64, 67, 0.15);\n",
              "      fill: #174EA6;\n",
              "    }\n",
              "\n",
              "    [theme=dark] .colab-df-convert {\n",
              "      background-color: #3B4455;\n",
              "      fill: #D2E3FC;\n",
              "    }\n",
              "\n",
              "    [theme=dark] .colab-df-convert:hover {\n",
              "      background-color: #434B5C;\n",
              "      box-shadow: 0px 1px 3px 1px rgba(0, 0, 0, 0.15);\n",
              "      filter: drop-shadow(0px 1px 2px rgba(0, 0, 0, 0.3));\n",
              "      fill: #FFFFFF;\n",
              "    }\n",
              "  </style>\n",
              "\n",
              "      <script>\n",
              "        const buttonEl =\n",
              "          document.querySelector('#df-84980588-28cc-4076-a7c0-0e5f112114d1 button.colab-df-convert');\n",
              "        buttonEl.style.display =\n",
              "          google.colab.kernel.accessAllowed ? 'block' : 'none';\n",
              "\n",
              "        async function convertToInteractive(key) {\n",
              "          const element = document.querySelector('#df-84980588-28cc-4076-a7c0-0e5f112114d1');\n",
              "          const dataTable =\n",
              "            await google.colab.kernel.invokeFunction('convertToInteractive',\n",
              "                                                     [key], {});\n",
              "          if (!dataTable) return;\n",
              "\n",
              "          const docLinkHtml = 'Like what you see? Visit the ' +\n",
              "            '<a target=\"_blank\" href=https://colab.research.google.com/notebooks/data_table.ipynb>data table notebook</a>'\n",
              "            + ' to learn more about interactive tables.';\n",
              "          element.innerHTML = '';\n",
              "          dataTable['output_type'] = 'display_data';\n",
              "          await google.colab.output.renderOutput(dataTable, element);\n",
              "          const docLink = document.createElement('div');\n",
              "          docLink.innerHTML = docLinkHtml;\n",
              "          element.appendChild(docLink);\n",
              "        }\n",
              "      </script>\n",
              "    </div>\n",
              "  </div>\n",
              "  "
            ],
            "text/plain": [
              "                              Model Name  Training Score  Testing Score  \\\n",
              "0      Decision Tree - without balancing        0.998717       0.998717   \n",
              "1  Decision Tree - Random Under Sampling        0.982965       0.984902   \n",
              "2   Decision Tree - Random Over Sampling        0.984488       0.967140   \n",
              "3                  Decision Tree - SMOTE        0.984774       0.967584   \n",
              "4                   RandomForest - SMOTH        0.997621       0.962700   \n",
              "5                  XGBClassifier - SMOTE        0.968595       0.966030   \n",
              "6                            SVM - SMOTE        0.867054       0.867451   \n",
              "\n",
              "   Accuracy  F1 Score  Precision    Recall  \n",
              "0  0.998717  0.998668   0.953571  0.818145  \n",
              "1  0.970918  0.981083   0.164027  0.982281  \n",
              "2  0.969686  0.980395   0.157796  0.976819  \n",
              "3  0.964263  0.977417   0.137786  0.984013  \n",
              "4  0.974172  0.982900   0.181178  0.983613  \n",
              "5  0.971759  0.981528   0.165821  0.962297  \n",
              "6  0.967375  0.978883   0.123773  0.762590  "
            ]
          },
          "execution_count": 82,
          "metadata": {},
          "output_type": "execute_result"
        }
      ],
      "source": [
        "#evaluating the model\n",
        "model_name = 'SVM - SMOTE'\n",
        "train_score = SVM_model.score(X_train,y_train)\n",
        "test_score = SVM_model.score(X_test,y_test)\n",
        "\n",
        "acc_score = accuracy_score(test_output,test_pred)\n",
        "f_score = f1_score(test_output, test_pred, average='weighted')\n",
        "precision = precision_score(test_output, test_pred)\n",
        "recall = metrics.recall_score(test_output,test_pred)\n",
        "#adding claculations to dataframe\n",
        "model_eval_data = [model_name, train_score, test_score, acc_score, f_score, precision, recall]\n",
        "model_eval_dict = {evaluate_df.columns[i]:model_eval_data[i] for i in range(len(model_eval_data))}\n",
        "evaluate_df = evaluate_df.append(model_eval_dict, ignore_index=True)\n",
        "\n",
        "evaluate_df"
      ]
    },
    {
      "cell_type": "markdown",
      "metadata": {
        "id": "L_4Yi3KxMxI-"
      },
      "source": [
        "GaussianNB (using SMOTH)"
      ]
    },
    {
      "cell_type": "code",
      "execution_count": null,
      "metadata": {
        "colab": {
          "background_save": true
        },
        "id": "Mobh-wrQGtIO",
        "outputId": "cfd36885-b538-441c-d05a-b6e1e4e7e62d"
      },
      "outputs": [
        {
          "name": "stdout",
          "output_type": "stream",
          "text": [
            "f_score 0.9788828758765648\n",
            "              precision    recall  f1-score   support\n",
            "\n",
            "           0       1.00      0.98      0.99   1289169\n",
            "           1       0.16      0.66      0.26      7506\n",
            "\n",
            "    accuracy                           0.98   1296675\n",
            "   macro avg       0.58      0.82      0.62   1296675\n",
            "weighted avg       0.99      0.98      0.98   1296675\n",
            "\n",
            "kappa 0.2513260883671584\n"
          ]
        }
      ],
      "source": [
        "from sklearn.naive_bayes import GaussianNB\n",
        "GNB = GaussianNB()\n",
        "GNB_model = GNB.fit(X_sm, y_sm)\n",
        "Gaussian_predict = GNB_model.predict(test_input)\n",
        "\n",
        "print('f_score', f_score)\n",
        "print(classification_report(test_output, Gaussian_predict))\n",
        "\n",
        "from sklearn.metrics import cohen_kappa_score\n",
        "kappa = cohen_kappa_score(test_output, Gaussian_predict)\n",
        "print('kappa', kappa)"
      ]
    },
    {
      "cell_type": "code",
      "execution_count": null,
      "metadata": {
        "colab": {
          "background_save": true
        },
        "id": "Yw6Y4-XD-FcU",
        "outputId": "2a3d9969-269f-47e1-db6d-7d372854ba77"
      },
      "outputs": [
        {
          "data": {
            "text/plain": [
              "array([0, 0, 0, ..., 0, 0, 0], dtype=int64)"
            ]
          },
          "execution_count": 84,
          "metadata": {},
          "output_type": "execute_result"
        }
      ],
      "source": [
        "test_pred = GNB_model.predict(test_input)\n",
        "test_pred"
      ]
    },
    {
      "cell_type": "code",
      "execution_count": null,
      "metadata": {
        "colab": {
          "background_save": true
        },
        "id": "jRq-eAto-RmC",
        "outputId": "604e7c76-6b4b-4c9e-f2aa-13ed9ce62882"
      },
      "outputs": [
        {
          "data": {
            "text/html": [
              "\n",
              "  <div id=\"df-69670c0c-aa95-48a8-b281-51975325fb11\">\n",
              "    <div class=\"colab-df-container\">\n",
              "      <div>\n",
              "<style scoped>\n",
              "    .dataframe tbody tr th:only-of-type {\n",
              "        vertical-align: middle;\n",
              "    }\n",
              "\n",
              "    .dataframe tbody tr th {\n",
              "        vertical-align: top;\n",
              "    }\n",
              "\n",
              "    .dataframe thead th {\n",
              "        text-align: right;\n",
              "    }\n",
              "</style>\n",
              "<table border=\"1\" class=\"dataframe\">\n",
              "  <thead>\n",
              "    <tr style=\"text-align: right;\">\n",
              "      <th></th>\n",
              "      <th>Model Name</th>\n",
              "      <th>Training Score</th>\n",
              "      <th>Testing Score</th>\n",
              "      <th>Accuracy</th>\n",
              "      <th>F1 Score</th>\n",
              "      <th>Precision</th>\n",
              "      <th>Recall</th>\n",
              "    </tr>\n",
              "  </thead>\n",
              "  <tbody>\n",
              "    <tr>\n",
              "      <th>0</th>\n",
              "      <td>Decision Tree - without balancing</td>\n",
              "      <td>0.998717</td>\n",
              "      <td>0.998717</td>\n",
              "      <td>0.998717</td>\n",
              "      <td>0.998668</td>\n",
              "      <td>0.953571</td>\n",
              "      <td>0.818145</td>\n",
              "    </tr>\n",
              "    <tr>\n",
              "      <th>1</th>\n",
              "      <td>Decision Tree - Random Under Sampling</td>\n",
              "      <td>0.982965</td>\n",
              "      <td>0.984902</td>\n",
              "      <td>0.970918</td>\n",
              "      <td>0.981083</td>\n",
              "      <td>0.164027</td>\n",
              "      <td>0.982281</td>\n",
              "    </tr>\n",
              "    <tr>\n",
              "      <th>2</th>\n",
              "      <td>Decision Tree - Random Over Sampling</td>\n",
              "      <td>0.984488</td>\n",
              "      <td>0.967140</td>\n",
              "      <td>0.969686</td>\n",
              "      <td>0.980395</td>\n",
              "      <td>0.157796</td>\n",
              "      <td>0.976819</td>\n",
              "    </tr>\n",
              "    <tr>\n",
              "      <th>3</th>\n",
              "      <td>Decision Tree - SMOTE</td>\n",
              "      <td>0.984774</td>\n",
              "      <td>0.967584</td>\n",
              "      <td>0.964263</td>\n",
              "      <td>0.977417</td>\n",
              "      <td>0.137786</td>\n",
              "      <td>0.984013</td>\n",
              "    </tr>\n",
              "    <tr>\n",
              "      <th>4</th>\n",
              "      <td>RandomForest - SMOTH</td>\n",
              "      <td>0.997621</td>\n",
              "      <td>0.962700</td>\n",
              "      <td>0.974172</td>\n",
              "      <td>0.982900</td>\n",
              "      <td>0.181178</td>\n",
              "      <td>0.983613</td>\n",
              "    </tr>\n",
              "    <tr>\n",
              "      <th>5</th>\n",
              "      <td>XGBClassifier - SMOTE</td>\n",
              "      <td>0.968595</td>\n",
              "      <td>0.966030</td>\n",
              "      <td>0.971759</td>\n",
              "      <td>0.981528</td>\n",
              "      <td>0.165821</td>\n",
              "      <td>0.962297</td>\n",
              "    </tr>\n",
              "    <tr>\n",
              "      <th>6</th>\n",
              "      <td>SVM - SMOTE</td>\n",
              "      <td>0.867054</td>\n",
              "      <td>0.867451</td>\n",
              "      <td>0.967375</td>\n",
              "      <td>0.978883</td>\n",
              "      <td>0.123773</td>\n",
              "      <td>0.762590</td>\n",
              "    </tr>\n",
              "    <tr>\n",
              "      <th>7</th>\n",
              "      <td>GNB - SMOTE</td>\n",
              "      <td>0.821850</td>\n",
              "      <td>0.816607</td>\n",
              "      <td>0.978089</td>\n",
              "      <td>0.984651</td>\n",
              "      <td>0.160622</td>\n",
              "      <td>0.659073</td>\n",
              "    </tr>\n",
              "  </tbody>\n",
              "</table>\n",
              "</div>\n",
              "      <button class=\"colab-df-convert\" onclick=\"convertToInteractive('df-69670c0c-aa95-48a8-b281-51975325fb11')\"\n",
              "              title=\"Convert this dataframe to an interactive table.\"\n",
              "              style=\"display:none;\">\n",
              "        \n",
              "  <svg xmlns=\"http://www.w3.org/2000/svg\" height=\"24px\"viewBox=\"0 0 24 24\"\n",
              "       width=\"24px\">\n",
              "    <path d=\"M0 0h24v24H0V0z\" fill=\"none\"/>\n",
              "    <path d=\"M18.56 5.44l.94 2.06.94-2.06 2.06-.94-2.06-.94-.94-2.06-.94 2.06-2.06.94zm-11 1L8.5 8.5l.94-2.06 2.06-.94-2.06-.94L8.5 2.5l-.94 2.06-2.06.94zm10 10l.94 2.06.94-2.06 2.06-.94-2.06-.94-.94-2.06-.94 2.06-2.06.94z\"/><path d=\"M17.41 7.96l-1.37-1.37c-.4-.4-.92-.59-1.43-.59-.52 0-1.04.2-1.43.59L10.3 9.45l-7.72 7.72c-.78.78-.78 2.05 0 2.83L4 21.41c.39.39.9.59 1.41.59.51 0 1.02-.2 1.41-.59l7.78-7.78 2.81-2.81c.8-.78.8-2.07 0-2.86zM5.41 20L4 18.59l7.72-7.72 1.47 1.35L5.41 20z\"/>\n",
              "  </svg>\n",
              "      </button>\n",
              "      \n",
              "  <style>\n",
              "    .colab-df-container {\n",
              "      display:flex;\n",
              "      flex-wrap:wrap;\n",
              "      gap: 12px;\n",
              "    }\n",
              "\n",
              "    .colab-df-convert {\n",
              "      background-color: #E8F0FE;\n",
              "      border: none;\n",
              "      border-radius: 50%;\n",
              "      cursor: pointer;\n",
              "      display: none;\n",
              "      fill: #1967D2;\n",
              "      height: 32px;\n",
              "      padding: 0 0 0 0;\n",
              "      width: 32px;\n",
              "    }\n",
              "\n",
              "    .colab-df-convert:hover {\n",
              "      background-color: #E2EBFA;\n",
              "      box-shadow: 0px 1px 2px rgba(60, 64, 67, 0.3), 0px 1px 3px 1px rgba(60, 64, 67, 0.15);\n",
              "      fill: #174EA6;\n",
              "    }\n",
              "\n",
              "    [theme=dark] .colab-df-convert {\n",
              "      background-color: #3B4455;\n",
              "      fill: #D2E3FC;\n",
              "    }\n",
              "\n",
              "    [theme=dark] .colab-df-convert:hover {\n",
              "      background-color: #434B5C;\n",
              "      box-shadow: 0px 1px 3px 1px rgba(0, 0, 0, 0.15);\n",
              "      filter: drop-shadow(0px 1px 2px rgba(0, 0, 0, 0.3));\n",
              "      fill: #FFFFFF;\n",
              "    }\n",
              "  </style>\n",
              "\n",
              "      <script>\n",
              "        const buttonEl =\n",
              "          document.querySelector('#df-69670c0c-aa95-48a8-b281-51975325fb11 button.colab-df-convert');\n",
              "        buttonEl.style.display =\n",
              "          google.colab.kernel.accessAllowed ? 'block' : 'none';\n",
              "\n",
              "        async function convertToInteractive(key) {\n",
              "          const element = document.querySelector('#df-69670c0c-aa95-48a8-b281-51975325fb11');\n",
              "          const dataTable =\n",
              "            await google.colab.kernel.invokeFunction('convertToInteractive',\n",
              "                                                     [key], {});\n",
              "          if (!dataTable) return;\n",
              "\n",
              "          const docLinkHtml = 'Like what you see? Visit the ' +\n",
              "            '<a target=\"_blank\" href=https://colab.research.google.com/notebooks/data_table.ipynb>data table notebook</a>'\n",
              "            + ' to learn more about interactive tables.';\n",
              "          element.innerHTML = '';\n",
              "          dataTable['output_type'] = 'display_data';\n",
              "          await google.colab.output.renderOutput(dataTable, element);\n",
              "          const docLink = document.createElement('div');\n",
              "          docLink.innerHTML = docLinkHtml;\n",
              "          element.appendChild(docLink);\n",
              "        }\n",
              "      </script>\n",
              "    </div>\n",
              "  </div>\n",
              "  "
            ],
            "text/plain": [
              "                              Model Name  Training Score  Testing Score  \\\n",
              "0      Decision Tree - without balancing        0.998717       0.998717   \n",
              "1  Decision Tree - Random Under Sampling        0.982965       0.984902   \n",
              "2   Decision Tree - Random Over Sampling        0.984488       0.967140   \n",
              "3                  Decision Tree - SMOTE        0.984774       0.967584   \n",
              "4                   RandomForest - SMOTH        0.997621       0.962700   \n",
              "5                  XGBClassifier - SMOTE        0.968595       0.966030   \n",
              "6                            SVM - SMOTE        0.867054       0.867451   \n",
              "7                            GNB - SMOTE        0.821850       0.816607   \n",
              "\n",
              "   Accuracy  F1 Score  Precision    Recall  \n",
              "0  0.998717  0.998668   0.953571  0.818145  \n",
              "1  0.970918  0.981083   0.164027  0.982281  \n",
              "2  0.969686  0.980395   0.157796  0.976819  \n",
              "3  0.964263  0.977417   0.137786  0.984013  \n",
              "4  0.974172  0.982900   0.181178  0.983613  \n",
              "5  0.971759  0.981528   0.165821  0.962297  \n",
              "6  0.967375  0.978883   0.123773  0.762590  \n",
              "7  0.978089  0.984651   0.160622  0.659073  "
            ]
          },
          "execution_count": 85,
          "metadata": {},
          "output_type": "execute_result"
        }
      ],
      "source": [
        "#evaluating the model\n",
        "model_name = 'GNB - SMOTE'\n",
        "train_score = GNB_model.score(X_train,y_train)\n",
        "test_score = GNB_model.score(X_test,y_test)\n",
        "\n",
        "acc_score = accuracy_score(test_output,test_pred)\n",
        "f_score = f1_score(test_output, test_pred, average='weighted')\n",
        "precision = precision_score(test_output, test_pred)\n",
        "recall = metrics.recall_score(test_output,test_pred)\n",
        "#adding claculations to dataframe\n",
        "model_eval_data = [model_name, train_score, test_score, acc_score, f_score, precision, recall]\n",
        "model_eval_dict = {evaluate_df.columns[i]:model_eval_data[i] for i in range(len(model_eval_data))}\n",
        "evaluate_df = evaluate_df.append(model_eval_dict, ignore_index=True)\n",
        "\n",
        "evaluate_df"
      ]
    },
    {
      "cell_type": "code",
      "execution_count": null,
      "metadata": {
        "colab": {
          "background_save": true
        },
        "id": "RvKzckanu07O",
        "outputId": "987d6e1b-78a7-4151-833c-134336023a07"
      },
      "outputs": [
        {
          "data": {
            "image/png": "[encoded data removed]",
            "text/plain": [
              "<Figure size 432x288 with 1 Axes>"
            ]
          },
          "metadata": {},
          "output_type": "display_data"
        },
        {
          "name": "stdout",
          "output_type": "stream",
          "text": [
            "Threshold value is: 0.43524697\n",
            "              precision    recall  f1-score   support\n",
            "\n",
            "           0       1.00      0.97      0.98   1289169\n",
            "           1       0.15      0.97      0.26      7506\n",
            "\n",
            "    accuracy                           0.97   1296675\n",
            "   macro avg       0.57      0.97      0.62   1296675\n",
            "weighted avg       0.99      0.97      0.98   1296675\n",
            "\n",
            "kappa 0.24811258967422156\n"
          ]
        }
      ],
      "source": [
        "from sklearn.metrics import roc_curve, auc\n",
        "\n",
        "y_prob = XGB.predict_proba(test_input)\n",
        "# Compute ROC curve and ROC area for each class\n",
        "fpr = dict()\n",
        "tpr = dict()\n",
        "roc_auc = dict()\n",
        "for i in range(2):\n",
        "    fpr[i], tpr[i], thresholds = roc_curve(test_output, y_prob[:, i])\n",
        "    roc_auc[i] = auc(fpr[i], tpr[i])\n",
        "\n",
        "# Compute micro-average ROC curve and ROC area\n",
        "fpr[\"micro\"], tpr[\"micro\"], _ = roc_curve(test_output.ravel(), y_prob.argmax(axis=1))\n",
        "roc_auc[\"micro\"] = auc(fpr[\"micro\"], tpr[\"micro\"])\n",
        "\n",
        "plt.figure()\n",
        "lw = 2\n",
        "plt.plot(fpr[1], tpr[1], color='darkorange',  lw=lw, label='ROC curve (area = %0.2f)' % roc_auc[1])\n",
        "plt.plot([0, 1], [0, 1], color='navy', lw=lw, linestyle='--')\n",
        "plt.xlim([0.0, 1.0])\n",
        "plt.ylim([0.0, 1.05])\n",
        "plt.xlabel('False Positive Rate')\n",
        "plt.ylabel('True Positive Rate')\n",
        "plt.title('Receiver operating characteristic')\n",
        "plt.legend(loc=\"lower right\")\n",
        "plt.show()\n",
        "\n",
        "# determine the best threshold\n",
        "optimal_idx = np.argmax(tpr[1] - fpr[1])\n",
        "optimal_threshold = thresholds[optimal_idx]\n",
        "print(\"Threshold value is:\", optimal_threshold)\n",
        "\n",
        "y_prob_th = []\n",
        "for i in y_prob:\n",
        "  if( i[1] > optimal_threshold):\n",
        "    y_prob_th.append(1)\n",
        "  else:\n",
        "    y_prob_th.append(0)\n",
        "\n",
        "print(classification_report(test_output.values, y_prob_th))\n",
        "\n",
        "from sklearn.metrics import cohen_kappa_score\n",
        "kappa = cohen_kappa_score(test_output.values, y_prob_th)\n",
        "print('kappa', kappa)"
      ]
    },
    {
      "cell_type": "markdown",
      "metadata": {
        "id": "WX5j7-NTfj-N"
      },
      "source": [
        "**Observation:**\n",
        "\n",
        "- Here, it can be observed that the 'Random Under Sampling' method has produced better results.\n",
        "- However, there is a problem with the Random Under sampling method. That is, while trimming the data to balance the classes in the target varibale, there is problem of losing valuable data.\n",
        "- But, the results produced by the model with 'over sampling' can be observed to be equally efficient.\n",
        "- And, ideally, the SMOTE method can be used, because it has produced a slightly better Recall."
      ]
    },
    {
      "cell_type": "code",
      "execution_count": null,
      "metadata": {
        "colab": {
          "background_save": true
        },
        "id": "YQ12vECAfj-N",
        "outputId": "49bf697f-66d7-4ba4-a021-f7275820736b"
      },
      "outputs": [
        {
          "data": {
            "text/plain": [
              "['creditCardFraud_model_new']"
            ]
          },
          "execution_count": 87,
          "metadata": {},
          "output_type": "execute_result"
        }
      ],
      "source": [
        "fileName = \"creditCardFraud_model_new\"\n",
        "joblib.dump(rand_model, fileName)"
      ]
    },
    {
      "cell_type": "code",
      "execution_count": null,
      "metadata": {
        "colab": {
          "background_save": true
        },
        "id": "TKHDo73hfj-N"
      },
      "outputs": [],
      "source": [
        "load_model = joblib.load('creditCardFraud_model_new')"
      ]
    },
    {
      "cell_type": "code",
      "execution_count": null,
      "metadata": {
        "colab": {
          "background_save": true
        },
        "id": "gsR_zvEKfj-N"
      },
      "outputs": [],
      "source": [
        "d={ 'trans_date_trans_time' : ['2019-01-02 01:06:37'],\n",
        "    'merchant': ['fraud_Rutherford-Mertz'],\n",
        " 'category':['grocery_pos'],\n",
        " 'amt':['281.06'],\n",
        " 'gender':['M'],\n",
        " 'city':['Collettsville'],\n",
        " 'state':['NC'],\n",
        " 'job':['Soil scientist'],\n",
        " 'dob':['1988-09-15'],\n",
        "}"
      ]
    },
    {
      "cell_type": "code",
      "execution_count": null,
      "metadata": {
        "colab": {
          "background_save": true
        },
        "id": "xUCAcY54fj-N"
      },
      "outputs": [],
      "source": [
        "d['trans_date'] = pd.DatetimeIndex(d['trans_date_trans_time']).date\n",
        "d['trans_time'] = pd.DatetimeIndex(d['trans_date_trans_time']).time\n",
        "d['trans_date'] =  pd.to_datetime(d['trans_date'])\n",
        "del d['trans_date_trans_time']\n",
        "\n",
        "d['dob'] = pd.to_datetime(d['dob'])\n",
        "d['age'] = (pd.to_datetime('now') - d['dob'])/ np.timedelta64(1, 'Y')\n",
        "d['age'] = d['age'].astype(int)\n",
        "del d['dob']\n",
        "\n",
        "d['merchant'] = label_encoder.fit_transform(d['merchant'])\n",
        "d['job'] = label_encoder.fit_transform(d['job'])\n",
        "d['state'] = label_encoder.fit_transform(d['state'])\n",
        "d['category'] = label_encoder.fit_transform(d['category'])\n",
        "d['city'] = label_encoder.fit_transform(d['city'])\n",
        "\n",
        "if(d['gender']==['M']):\n",
        "  d['gender']= 1\n",
        "elif(d['gender']==['F']):\n",
        "  d['gender']= 0\n",
        "\n",
        "d['trans_date'] =  pd.to_datetime(d['trans_date'])\n",
        "d['trans_date'] = d['trans_date'].map(dt.datetime.toordinal)\n",
        "d['trans_time'] = pd.to_datetime(d['trans_time'],format='%H:%M:%S')\n",
        "d['trans_time'] = 3600 * pd.DatetimeIndex(d['trans_time']).hour + 60 * pd.DatetimeIndex(d['trans_time']).minute + pd.DatetimeIndex(d['trans_time']).second\n",
        "\n"
      ]
    },
    {
      "cell_type": "code",
      "execution_count": null,
      "metadata": {
        "colab": {
          "background_save": true
        },
        "id": "q9qVGBAYkfx8"
      },
      "outputs": [],
      "source": [
        "d=pd.DataFrame(d)"
      ]
    },
    {
      "cell_type": "code",
      "execution_count": null,
      "metadata": {
        "colab": {
          "background_save": true
        },
        "id": "r8CPoPkbklUH",
        "outputId": "0b1b749f-9dad-4a95-b7b0-fba6d46e02aa"
      },
      "outputs": [
        {
          "name": "stdout",
          "output_type": "stream",
          "text": [
            "0\n",
            "it is safe 0\n"
          ]
        },
        {
          "name": "stderr",
          "output_type": "stream",
          "text": [
            "/usr/local/lib/python3.7/dist-packages/sklearn/base.py:444: UserWarning: X has feature names, but RandomForestClassifier was fitted without feature names\n",
            "  f\"X has feature names, but {self.__class__.__name__} was fitted without\"\n"
          ]
        }
      ],
      "source": [
        "pred = load_model.predict(d)\n",
        "result=pred.argmax()\n",
        "print (result)\n",
        "if result==1:\n",
        "  print('it is fraud process classed by',result)\n",
        "else:\n",
        "  print('it is safe',result)"
      ]
    },
    {
      "cell_type": "code",
      "execution_count": null,
      "metadata": {
        "colab": {
          "background_save": true
        },
        "id": "8X3vXnGsZnER",
        "outputId": "8156dc31-4b95-4dfe-a37c-4698a2ba7cf2"
      },
      "outputs": [
        {
          "name": "stdout",
          "output_type": "stream",
          "text": [
            "it is safe [0]\n"
          ]
        }
      ],
      "source": [
        "res =load_model.predict([[ '-0.3974012' , '-1.59138383', '-0.28918537', '-0.90920585', '-0.88268858',\n",
        "        '-0.88460725',  '1.11217852', '-0.6484172' ,  '0.53109378', ' 0.33690725']])\n",
        "if res==1:\n",
        "  print('it is fraud process classed by',res)\n",
        "else:\n",
        "  print('it is safe',res)"
      ]
    },
    {
      "cell_type": "code",
      "execution_count": null,
      "metadata": {
        "colab": {
          "background_save": true
        },
        "id": "6HgkDUPSCKzd",
        "outputId": "3279ab23-9e46-4d3c-8f08-c8a25e4e4e82"
      },
      "outputs": [
        {
          "data": {
            "text/plain": [
              "(array([[ 0.54809906,  0.96391193,  0.56986812, ...,  1.53555221,\n",
              "         -1.66663588,  0.75387426],\n",
              "        [ 0.14004105,  0.96391193, -0.01422837, ..., -1.51174923,\n",
              "         -0.92061756,  0.12115746],\n",
              "        [-0.30285117,  1.21944151,  5.35635301, ...,  2.51298852,\n",
              "         -1.59270614,  1.35870642],\n",
              "        ...,\n",
              "        [-0.73579077, -1.59138383,  0.16890996, ...,  0.90309342,\n",
              "          0.30930455, -0.04383007],\n",
              "        [-1.18365932,  1.21944151,  6.09470737, ...,  1.4205597 ,\n",
              "         -0.02673974,  1.54099464],\n",
              "        [ 0.12013579,  1.21944151, -0.41699547, ..., -0.01684663,\n",
              "          0.8536963 , -0.03467089]]), 7172     0\n",
              " 3532     0\n",
              " 8156     1\n",
              " 14404    1\n",
              " 379      0\n",
              "         ..\n",
              " 9699     1\n",
              " 5771     0\n",
              " 2422     0\n",
              " 11287    1\n",
              " 2732     0\n",
              " Name: is_fraud, Length: 4504, dtype: int64)"
            ]
          },
          "execution_count": 94,
          "metadata": {},
          "output_type": "execute_result"
        }
      ],
      "source": [
        "X_test,y_test\n"
      ]
    },
    {
      "cell_type": "code",
      "execution_count": null,
      "metadata": {
        "colab": {
          "background_save": true
        },
        "id": "g0TthM0UK1OG"
      },
      "outputs": [],
      "source": []
    }
  ],
  "metadata": {
    "colab": {
      "provenance": []
    },
    "kernelspec": {
      "display_name": "Python 3 (ipykernel)",
      "language": "python",
      "name": "python3"
    },
    "language_info": {
      "codemirror_mode": {
        "name": "ipython",
        "version": 3
      },
      "file_extension": ".py",
      "mimetype": "text/x-python",
      "name": "python",
      "nbconvert_exporter": "python",
      "pygments_lexer": "ipython3",
      "version": "3.9.7"
    }
  },
  "nbformat": 4,
  "nbformat_minor": 0
}